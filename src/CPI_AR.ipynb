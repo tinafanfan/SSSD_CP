{
 "cells": [
  {
   "cell_type": "code",
   "execution_count": 11,
   "metadata": {},
   "outputs": [],
   "source": [
    "import os\n",
    "import numpy as np\n",
    "import pandas as pd\n",
    "from matplotlib import pyplot as plt\n",
    "from datetime import datetime, timedelta\n",
    "\n",
    "\n",
    "# 自訂 function 可重新 reload\n",
    "from importlib import reload\n",
    "from utils import util_inference_result\n",
    "reload(util_inference_result)\n",
    "from utils.util_inference_result import *\n"
   ]
  },
  {
   "cell_type": "code",
   "execution_count": 12,
   "metadata": {},
   "outputs": [],
   "source": [
    "def plot_intervals(index, lower_black, upper_black, lower_blue, upper_blue, lower_red, upper_red):\n",
    "    import matplotlib.pyplot as plt\n",
    "\n",
    "    # 创建图形和子图\n",
    "    fig, ax = plt.subplots()\n",
    "    # 设定 x 轴大小\n",
    "    ax.set_xlim(-10, 10)  # 设置 x 轴范围为 0 到 10\n",
    "    ax.set_ylim(0, 2) \n",
    "    # 绘制黑色信赖区间\n",
    "    ax.plot([lower_black, upper_black], [1.5,1.5], color='black', linestyle='-', linewidth=2, label='theoretical')\n",
    "\n",
    "    # 绘制蓝色信赖区间\n",
    "    ax.plot([lower_blue, upper_blue], [1,1], color='blue', linestyle='-', linewidth=2, label='SSSD')\n",
    "\n",
    "    # 绘制红色信赖区间\n",
    "    ax.plot([lower_red, upper_red], [0.5,0.5], color='red', linestyle='-', linewidth=2, label='conformalized')\n",
    "\n",
    "    # 设置纵轴刻度为空\n",
    "    ax.set_yticks([])\n",
    "    ax.set_yticklabels([])\n",
    "\n",
    "    # 添加图例\n",
    "    # ax.legend(loc='upper right', bbox_to_anchor=(1.4, 1))\n",
    "\n",
    "    # 添加标题\n",
    "    ax.set_title('Comparison of Prediction Intervals' + str(index))\n",
    "\n",
    "    # 显示图形\n",
    "    plt.show()\n",
    "\n",
    "def case_setting(L,U, case):\n",
    "    if case == 'original': # original\n",
    "        L = L\n",
    "        U = U\n",
    "    elif case == 'narrow': # too narrow\n",
    "        L = L + 0.5\n",
    "        U = U - 0.5\n",
    "    elif case == 'under': # under estimation case\n",
    "        L = L - 3\n",
    "        U = U - 3\n",
    "    elif case =='over': # over estimation case\n",
    "        L = L + 3\n",
    "        U = U + 3\n",
    "    return L, U\n"
   ]
  },
  {
   "cell_type": "markdown",
   "metadata": {},
   "source": [
    "# Setting"
   ]
  },
  {
   "cell_type": "code",
   "execution_count": 85,
   "metadata": {},
   "outputs": [],
   "source": [
    "interval_case = \"over\"  # case: original, narrow, under, over"
   ]
  },
  {
   "cell_type": "markdown",
   "metadata": {},
   "source": [
    "# Read data"
   ]
  },
  {
   "cell_type": "code",
   "execution_count": 86,
   "metadata": {},
   "outputs": [
    {
     "name": "stdout",
     "output_type": "stream",
     "text": [
      "pred_data, shape: (100, 10000, 1, 1)\n",
      "true_data, shape: (10000, 1, 1)\n",
      "pred_data, shape: (100, 1000, 1, 1)\n",
      "true_data, shape: (1000, 1, 1)\n"
     ]
    }
   ],
   "source": [
    "main_folder_path = \"/home/hchuang/Documents/Project/\"\n",
    "\n",
    "# I2\n",
    "folder_path = main_folder_path + \"SSSD_CP/src/results/ar1/ar1-6/T200_beta00.0001_betaT0.02/imputaiton_multiple_40k_I2/\"\n",
    "pred_data_I2 = read_multiple_imputations(folder_path, 1)\n",
    "true_data_I2 = read_missing_k_data(folder_path, npy_file=\"original0.npy\", missing_k = 1)\n",
    "\n",
    "print(f\"pred_data, shape: {pred_data_I2.shape}\")\n",
    "print(f\"true_data, shape: {true_data_I2.shape}\")\n",
    "\n",
    "# test data\n",
    "folder_path = main_folder_path + \"SSSD_CP/src/results/ar1/ar1-6/T200_beta00.0001_betaT0.02/imputaiton_multiple_40k_test/\"\n",
    "pred_data_test = read_multiple_imputations(folder_path, 1)\n",
    "true_data_test = read_missing_k_data(folder_path, npy_file=\"original0.npy\", missing_k = 1)\n",
    "\n",
    "print(f\"pred_data, shape: {pred_data_test.shape}\")\n",
    "print(f\"true_data, shape: {true_data_test.shape}\")"
   ]
  },
  {
   "cell_type": "markdown",
   "metadata": {},
   "source": [
    "# Method 1"
   ]
  },
  {
   "cell_type": "markdown",
   "metadata": {},
   "source": [
    "## Compute E*"
   ]
  },
  {
   "cell_type": "code",
   "execution_count": 68,
   "metadata": {},
   "outputs": [
    {
     "name": "stdout",
     "output_type": "stream",
     "text": [
      "E_star_L: [[2.9838596]]\n",
      "I2 CR: [[0.1611]]\n",
      "I2 adjusted CR: [[0.95]]\n"
     ]
    }
   ],
   "source": [
    "pred_data = pred_data_I2\n",
    "true_data = true_data_I2\n",
    "\n",
    "L, U = pred_interval(pred_data, beta = 0.05)\n",
    "\n",
    "L, U = case_setting(L, U, case = interval_case) # modify interval\n",
    "\n",
    "E_star = compute_E_star(L, U, true_data, alpha = 0.05)\n",
    "\n",
    "L_star, U_star = adjust_PI(L, U, E_star)\n",
    "\n",
    "print(f'E_star_L: {E_star}')\n",
    "print(f'I2 CR: {coverage_rate(L, U, true_data)}')\n",
    "print(f'I2 adjusted CR: {coverage_rate(L_star, U_star, true_data)}')"
   ]
  },
  {
   "cell_type": "markdown",
   "metadata": {},
   "source": [
    "## Adjust PI"
   ]
  },
  {
   "cell_type": "code",
   "execution_count": 69,
   "metadata": {},
   "outputs": [
    {
     "name": "stdout",
     "output_type": "stream",
     "text": [
      "test CR: [[0.154]]\n",
      "test adjusted CR: [[0.95]]\n"
     ]
    }
   ],
   "source": [
    "pred_data = pred_data_test\n",
    "true_data = true_data_test\n",
    "\n",
    "L, U = pred_interval(pred_data, beta = 0.05)\n",
    "L, U = case_setting(L,U, case = interval_case)  # modify interval\n",
    "L_star, U_star = adjust_PI(L, U, E_star)\n",
    "print(f'test CR: {coverage_rate(L, U, true_data)}')\n",
    "print(f'test adjusted CR: {coverage_rate(L_star, U_star, true_data)}')"
   ]
  },
  {
   "cell_type": "markdown",
   "metadata": {},
   "source": [
    "# Method 2: Separate"
   ]
  },
  {
   "cell_type": "code",
   "execution_count": 87,
   "metadata": {},
   "outputs": [
    {
     "name": "stdout",
     "output_type": "stream",
     "text": [
      "E_star_L: [[2.9838596]], E_star_U: [[-3.05743665]]\n",
      "I2 CR: [[0.1611]]\n",
      "I2 adjusted CR: [[0.9]]\n",
      "test CR: [[0.154]]\n",
      "test adjusted CR: [[0.894]]\n"
     ]
    }
   ],
   "source": [
    "# Compute E*\n",
    "pred_data = pred_data_I2\n",
    "true_data = true_data_I2\n",
    "\n",
    "L, U = pred_interval(pred_data, beta = 0.05)\n",
    "\n",
    "L, U = case_setting(L, U, case = interval_case) # modify interval\n",
    "\n",
    "E_star_L, E_star_U = compute_E_star_separate(L, U, true_data, alpha = 0.05)\n",
    "\n",
    "L_star, U_star = adjust_PI_separate(L, U, E_star_L, E_star_U)\n",
    "\n",
    "print(f'E_star_L: {E_star_L}, E_star_U: {E_star_U}')\n",
    "print(f'I2 CR: {coverage_rate(L, U, true_data)}')\n",
    "print(f'I2 adjusted CR: {coverage_rate(L_star, U_star, true_data)}')\n",
    "\n",
    "# adjust PI\n",
    "pred_data = pred_data_test\n",
    "true_data = true_data_test\n",
    "\n",
    "L, U = pred_interval(pred_data, beta = 0.05)\n",
    "L, U = case_setting(L,U, case = interval_case)  # modify interval\n",
    "L_star, U_star = adjust_PI_separate(L, U, E_star_L, E_star_U)\n",
    "\n",
    "print(f'test CR: {coverage_rate(L, U, true_data)}')\n",
    "print(f'test adjusted CR: {coverage_rate(L_star, U_star, true_data)}')"
   ]
  },
  {
   "cell_type": "markdown",
   "metadata": {},
   "source": [
    "# compare to AR(1) theoretical interval"
   ]
  },
  {
   "cell_type": "code",
   "execution_count": 52,
   "metadata": {},
   "outputs": [
    {
     "name": "stdout",
     "output_type": "stream",
     "text": [
      "当前工作目录: /home/hchuang/Documents/Project/SSSD_CP/src\n"
     ]
    }
   ],
   "source": [
    "data = np.load('/home/hchuang/Documents/Project/SSSD_CP/src/datasets/AR/test_ar1_1000_3.npy')\n",
    "import os\n",
    "current_directory = os.getcwd()\n",
    "print(\"当前工作目录:\", current_directory)"
   ]
  },
  {
   "cell_type": "code",
   "execution_count": 53,
   "metadata": {},
   "outputs": [
    {
     "data": {
      "image/png": "[encoded data removed]",
      "text/plain": [
       "<Figure size 432x288 with 1 Axes>"
      ]
     },
     "metadata": {
      "needs_background": "light"
     },
     "output_type": "display_data"
    },
    {
     "data": {
      "image/png": "[encoded data removed]",
      "text/plain": [
       "<Figure size 432x288 with 1 Axes>"
      ]
     },
     "metadata": {
      "needs_background": "light"
     },
     "output_type": "display_data"
    },
    {
     "data": {
      "image/png": "[encoded data removed]",
      "text/plain": [
       "<Figure size 432x288 with 1 Axes>"
      ]
     },
     "metadata": {
      "needs_background": "light"
     },
     "output_type": "display_data"
    }
   ],
   "source": [
    "index = 0\n",
    "for index in range(3):\n",
    "    plot_intervals(index = index,\n",
    "                    lower_black = data[index,1,0]*0.8 - 1.96, \n",
    "                    upper_black = data[index,1,0]*0.8 + 1.96, \n",
    "                    lower_blue = L[index,0,0],\n",
    "                    upper_blue = U[index,0,0], \n",
    "                    lower_red = L_star[index,0,0], \n",
    "                    upper_red = U_star[index,0,0])\n",
    "\n",
    "    # fig.savefig('/home/hchuang/Documents/Project/SSSD_CP/src/results/ar1-6/T200_beta00.0001_betaT0.02/CPI/plot' + str(index) +'.png')  # 可以指定文件名及路径\n"
   ]
  },
  {
   "cell_type": "code",
   "execution_count": null,
   "metadata": {},
   "outputs": [],
   "source": []
  }
 ],
 "metadata": {
  "kernelspec": {
   "display_name": "pt_fan",
   "language": "python",
   "name": "python3"
  },
  "language_info": {
   "codemirror_mode": {
    "name": "ipython",
    "version": 3
   },
   "file_extension": ".py",
   "mimetype": "text/x-python",
   "name": "python",
   "nbconvert_exporter": "python",
   "pygments_lexer": "ipython3",
   "version": "3.9.7"
  }
 },
 "nbformat": 4,
 "nbformat_minor": 2
}
