{
 "cells": [
  {
   "cell_type": "markdown",
   "metadata": {},
   "source": [
    "- Goal: Calibrate PI of ar1-4(T=10)\n",
    "- 沒有收錄在論文當中"
   ]
  },
  {
   "cell_type": "code",
   "execution_count": 1,
   "metadata": {},
   "outputs": [],
   "source": [
    "import os\n",
    "import numpy as np\n",
    "import pandas as pd\n",
    "from matplotlib import pyplot as plt\n",
    "from datetime import datetime, timedelta\n",
    "\n",
    "\n",
    "# 自訂 function 可重新 reload\n",
    "from importlib import reload\n",
    "from utils import util_inference_result\n",
    "reload(util_inference_result)\n",
    "from utils.util_inference_result import *\n",
    "\n",
    "from scipy.stats import norm\n"
   ]
  },
  {
   "cell_type": "markdown",
   "metadata": {},
   "source": [
    "# Read data"
   ]
  },
  {
   "cell_type": "code",
   "execution_count": 2,
   "metadata": {},
   "outputs": [
    {
     "name": "stdout",
     "output_type": "stream",
     "text": [
      "pred_data_I2, shape: (100, 10000, 1, 1)\n",
      "true_data_I2, shape: (10000, 1, 1)\n",
      "pred_data_test, shape: (100, 1000, 1, 1)\n",
      "true_data_test, shape: (1000, 1, 1)\n"
     ]
    }
   ],
   "source": [
    "main_folder_path = \"/home/hchuang/Documents/Project/\"\n",
    "\n",
    "# I2\n",
    "folder_path = main_folder_path + \"SSSD_CP/src/results/ar1/ar1-4/T200_beta00.0001_betaT0.02/imputaiton_multiple_40k_I2/\"\n",
    "pred_data_I2 = read_multiple_imputations(folder_path, 1)\n",
    "true_data_I2 = read_missing_k_data(folder_path, npy_file=\"original0.npy\", missing_k = 1)\n",
    "\n",
    "print(f\"pred_data_I2, shape: {pred_data_I2.shape}\")\n",
    "print(f\"true_data_I2, shape: {true_data_I2.shape}\")\n",
    "\n",
    "# test data\n",
    "folder_path = main_folder_path + \"SSSD_CP/src/results/ar1/ar1-4/T200_beta00.0001_betaT0.02/imputaiton_multiple_40k_test/\"\n",
    "pred_data_test = read_multiple_imputations(folder_path, 1)\n",
    "true_data_test = read_missing_k_data(folder_path, npy_file=\"original0.npy\", missing_k = 1)\n",
    "\n",
    "print(f\"pred_data_test, shape: {pred_data_test.shape}\")\n",
    "print(f\"true_data_test, shape: {true_data_test.shape}\")\n",
    "\n",
    "# test data all (whole series) for calculating true conditional distribution 0.8*y_2 in Comparison section\n",
    "true_data_all_test = np.load('/home/hchuang/Documents/Project/SSSD_CP/src/datasets/AR/test_ar1_1000_10.npy')"
   ]
  },
  {
   "cell_type": "markdown",
   "metadata": {},
   "source": [
    "# QPI"
   ]
  },
  {
   "cell_type": "code",
   "execution_count": 3,
   "metadata": {},
   "outputs": [
    {
     "name": "stdout",
     "output_type": "stream",
     "text": [
      "[[0.204]]\n"
     ]
    }
   ],
   "source": [
    "# prediction interval and coverage rate\n",
    "L_star_model, U_star_model = pred_interval(pred_data_test, beta = 0.05)\n",
    "CR_test_model = coverage_rate(L_star_model, U_star_model, true_data_test)\n",
    "print(CR_test_model)"
   ]
  },
  {
   "cell_type": "markdown",
   "metadata": {},
   "source": [
    "# Method 1: CPI_B"
   ]
  },
  {
   "cell_type": "code",
   "execution_count": 4,
   "metadata": {},
   "outputs": [
    {
     "name": "stdout",
     "output_type": "stream",
     "text": [
      "E_star_L: [[1.96898378]]\n",
      "I2 CR: [[0.2297]]\n",
      "I2 adjusted CR: [[0.95]]\n",
      "test CR: [[0.204]]\n",
      "test adjusted CR: [[0.951]]\n"
     ]
    }
   ],
   "source": [
    "# Compute E*\n",
    "pred_data = pred_data_I2\n",
    "true_data = true_data_I2\n",
    "\n",
    "L, U = pred_interval(pred_data, beta = 0.05)\n",
    "# L, U = case_setting(L, U, case = interval_case) # modify interval\n",
    "\n",
    "E_star = compute_E_star(L, U, true_data, alpha = 0.05)\n",
    "L_star, U_star = adjust_PI(L, U, E_star)\n",
    "\n",
    "print(f'E_star_L: {E_star}')\n",
    "print(f'I2 CR: {coverage_rate(L, U, true_data)}')\n",
    "print(f'I2 adjusted CR: {coverage_rate(L_star, U_star, true_data)}')\n",
    "\n",
    "# adjust PI\n",
    "pred_data = pred_data_test\n",
    "true_data = true_data_test\n",
    "\n",
    "L, U = pred_interval(pred_data, beta = 0.05)\n",
    "# L, U = case_setting(L,U, case = interval_case)  # modify interval\n",
    "L_star_both, U_star_both = adjust_PI(L, U, E_star)\n",
    "print(f'test CR: {coverage_rate(L, U, true_data)}')\n",
    "print(f'test adjusted CR: {coverage_rate(L_star_both, U_star_both, true_data)}')\n",
    "\n",
    "CR_test_both = coverage_rate(L_star_both, U_star_both, true_data)"
   ]
  },
  {
   "cell_type": "markdown",
   "metadata": {},
   "source": [
    "# Method 2: CPI_E"
   ]
  },
  {
   "cell_type": "code",
   "execution_count": 5,
   "metadata": {},
   "outputs": [
    {
     "name": "stdout",
     "output_type": "stream",
     "text": [
      "E_star_L: [[1.94940602]], E_star_U: [[1.9884563]]\n",
      "I2 CR: [[0.2297]]\n",
      "I2 adjusted CR: [[0.95]]\n",
      "test CR: [[0.204]]\n",
      "test adjusted CR: [[0.955]]\n"
     ]
    }
   ],
   "source": [
    "# Compute E*\n",
    "pred_data = pred_data_I2\n",
    "true_data = true_data_I2\n",
    "\n",
    "L, U = pred_interval(pred_data, beta = 0.05)\n",
    "\n",
    "E_star_L, E_star_U = compute_E_star_separate(L, U, true_data, alpha = 0.025)\n",
    "L_star, U_star = adjust_PI_separate(L, U, E_star_L, E_star_U)\n",
    "\n",
    "print(f'E_star_L: {E_star_L}, E_star_U: {E_star_U}')\n",
    "print(f'I2 CR: {coverage_rate(L, U, true_data)}')\n",
    "print(f'I2 adjusted CR: {coverage_rate(L_star, U_star, true_data)}')\n",
    "\n",
    "# adjust PI\n",
    "pred_data = pred_data_test\n",
    "true_data = true_data_test\n",
    "\n",
    "L, U = pred_interval(pred_data, beta = 0.05)\n",
    "L_star_each, U_star_each = adjust_PI_separate(L, U, E_star_L, E_star_U)\n",
    "\n",
    "print(f'test CR: {coverage_rate(L, U, true_data)}')\n",
    "print(f'test adjusted CR: {coverage_rate(L_star_each, U_star_each, true_data)}')\n",
    "CR_test_each = coverage_rate(L_star_each, U_star_each, true_data)"
   ]
  },
  {
   "cell_type": "markdown",
   "metadata": {},
   "source": [
    "# Comparison"
   ]
  },
  {
   "cell_type": "code",
   "execution_count": 6,
   "metadata": {},
   "outputs": [
    {
     "name": "stdout",
     "output_type": "stream",
     "text": [
      "Current Working Directory: /home/hchuang/Documents/Project/SSSD_CP/src\n"
     ]
    }
   ],
   "source": [
    "import os\n",
    "current_directory = os.getcwd()\n",
    "print(\"Current Working Directory:\", current_directory)"
   ]
  },
  {
   "cell_type": "code",
   "execution_count": 7,
   "metadata": {},
   "outputs": [],
   "source": [
    "# 指定保存的文件夹\n",
    "folder = '/home/hchuang/Documents/Project/SSSD_CP/src/results/ar1/ar1-4/T200_beta00.0001_betaT0.02/'\n",
    "foldername = 'figures/'\n",
    "# 检查文件夹是否存在，如果不存在，则创建\n",
    "if not os.path.exists(folder+foldername):\n",
    "    os.makedirs(folder+foldername)"
   ]
  },
  {
   "cell_type": "markdown",
   "metadata": {},
   "source": [
    "## Average length"
   ]
  },
  {
   "cell_type": "code",
   "execution_count": 8,
   "metadata": {},
   "outputs": [
    {
     "data": {
      "image/png": "[encoded data removed]",
      "text/plain": [
       "<Figure size 432x288 with 1 Axes>"
      ]
     },
     "metadata": {
      "needs_background": "light"
     },
     "output_type": "display_data"
    }
   ],
   "source": [
    "len_model = U_star_model - L_star_model\n",
    "\n",
    "\n",
    "\n",
    "len_both = U_star_both - L_star_both\n",
    "\n",
    "len_each = U_star_each - L_star_each\n",
    "\n",
    "# 將數據存入列表中，準備繪製 boxplot\n",
    "data = [len_model.flatten(), len_both.flatten(), len_each.flatten()]\n",
    "\n",
    "colors = ['tab:orange', 'tab:purple', 'tab:blue']  # 颜色列表\n",
    "\n",
    "# 創建一個圖，並繪製 boxplot\n",
    "plt.figure(figsize=(6, 4))\n",
    "box = plt.boxplot(data, patch_artist=True)\n",
    "\n",
    "for patch, color in zip(box['boxes'], colors):\n",
    "    patch.set_facecolor(color)\n",
    "\n",
    "# 添加標籤\n",
    "plt.xticks([1, 2, 3], ['QPI', 'CPI_B', 'CPI_E'], fontsize = 16)\n",
    "plt.yticks(fontsize = 14)\n",
    "plt.ylabel('')\n",
    "plt.title('')\n",
    "plt.tight_layout()\n",
    "plt.ylim(0,8)\n",
    "\n",
    "# 保存图形\n",
    "filename = 'AvgLen_4.4.1.png'\n",
    "path = os.path.join(folder+foldername, filename)\n",
    "plt.savefig(path, dpi=300, bbox_inches='tight')\n",
    "# show \n",
    "plt.show()"
   ]
  },
  {
   "cell_type": "markdown",
   "metadata": {},
   "source": [
    "## Coverage rate"
   ]
  },
  {
   "cell_type": "code",
   "execution_count": 9,
   "metadata": {},
   "outputs": [
    {
     "data": {
      "image/png": "[encoded data removed]",
      "text/plain": [
       "<Figure size 432x288 with 1 Axes>"
      ]
     },
     "metadata": {
      "needs_background": "light"
     },
     "output_type": "display_data"
    }
   ],
   "source": [
    "# 創建四個值對應 'Model', 'SCP', 'Cal_both', 'Cal_each'\n",
    "values = [CR_test_model.item(), CR_test_both.item(), CR_test_each.item()]  # 這裡假設一些示範數據值\n",
    "labels = ['QPI', 'CPI_B', 'CPI_E']\n",
    "\n",
    "# 繪製長條圖，使用四個不同的顏色\n",
    "colors = ['tab:orange', 'tab:purple', 'tab:blue']  # 颜色列表\n",
    "\n",
    "plt.figure(figsize=(6, 4))\n",
    "plt.bar(labels, values, color=colors, width=0.4)  # 調整 bar 的寬度\n",
    "\n",
    "# 添加紅色和黑色的水平線\n",
    "plt.axhline(y=0.95, color='red', linestyle='--', label='y=0.95')\n",
    "# plt.axhline(y=1, color='black', linestyle='--', label='y=1')\n",
    "\n",
    "# 添加数值在柱状图上方，并放置在红线附近\n",
    "for i, value in enumerate(values):\n",
    "    plt.text(i, values[i] + 0.02, f'{value:.2f}', ha='center', fontsize=14, color='black')\n",
    "\n",
    "\n",
    "# 設定 y 軸範圍\n",
    "plt.ylim(0, 1.2)\n",
    "\n",
    "# 添加標籤和標題\n",
    "plt.ylabel('')\n",
    "plt.yticks(fontsize = 14)\n",
    "plt.xticks(fontsize = 16)\n",
    "plt.title('')\n",
    "plt.tight_layout()\n",
    "\n",
    "# 保存图形\n",
    "filename = 'CR_4.4.1.png'\n",
    "path = os.path.join(folder+foldername, filename)\n",
    "plt.savefig(path, dpi=300, bbox_inches='tight')\n",
    "\n",
    "# show\n",
    "plt.show()"
   ]
  },
  {
   "cell_type": "code",
   "execution_count": null,
   "metadata": {},
   "outputs": [],
   "source": []
  }
 ],
 "metadata": {
  "kernelspec": {
   "display_name": "pt_fan",
   "language": "python",
   "name": "python3"
  },
  "language_info": {
   "codemirror_mode": {
    "name": "ipython",
    "version": 3
   },
   "file_extension": ".py",
   "mimetype": "text/x-python",
   "name": "python",
   "nbconvert_exporter": "python",
   "pygments_lexer": "ipython3",
   "version": "3.9.7"
  }
 },
 "nbformat": 4,
 "nbformat_minor": 2
}
