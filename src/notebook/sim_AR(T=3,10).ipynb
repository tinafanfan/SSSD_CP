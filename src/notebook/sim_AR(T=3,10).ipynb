{
 "cells": [
  {
   "cell_type": "code",
   "execution_count": 1,
   "metadata": {},
   "outputs": [],
   "source": [
    "import os\n",
    "import numpy as np\n",
    "import pandas as pd\n",
    "from matplotlib import pyplot as plt\n",
    "from datetime import datetime, timedelta\n",
    "\n",
    "# 自訂 function 可重新 reload\n",
    "from importlib import reload\n",
    "from utils import util_inference_result\n",
    "reload(util_inference_result)\n",
    "from utils.util_inference_result import *\n",
    "\n",
    "from sklearn.metrics import mean_squared_error"
   ]
  },
  {
   "cell_type": "markdown",
   "metadata": {},
   "source": [
    "# Set path"
   ]
  },
  {
   "cell_type": "code",
   "execution_count": null,
   "metadata": {},
   "outputs": [],
   "source": [
    "main_folder = '/home/hchuang/Documents/Project/SSSD_CP/src/results/ar1/'\n",
    "\n",
    "# 設定 1  T=3\n",
    "# sub_folder = 'ar1-6/T200_beta00.0001_betaT0.02/imputaiton_multiple_40k_test/' # M = 100\n",
    "# sub_folder = 'ar1-6/T200_beta00.0001_betaT0.02/imputaiton_multiple_40k/' # M = 1000\n",
    "\n",
    "# 設定 2  T=10\n",
    "# sub_folder = 'ar1-4/T200_beta00.0001_betaT0.02/imputaiton_multiple_40k_test/' # M = 100\n",
    "sub_folder = 'ar1-4/T200_beta00.0001_betaT0.02/imputaiton_multiple_40k/' # M = 1000\n",
    "\n",
    "\n",
    "# 設定 2  T=100\n",
    "# sub_folder = 'ar1-5/T200_beta00.0001_betaT0.02/imputaiton_multiple_10k_test/' # M = 100\n",
    "sub_folder = 'ar1-5/T200_beta00.0001_betaT0.02/imputaiton_multiple_10k/' # M = 1000\n"
   ]
  },
  {
   "cell_type": "markdown",
   "metadata": {},
   "source": [
    "# Read data and Calculate 2 metrics\n",
    "\n",
    "The metrics are shown in the thesis 4.4.1"
   ]
  },
  {
   "cell_type": "code",
   "execution_count": 7,
   "metadata": {},
   "outputs": [],
   "source": [
    "def metric_1(var1, var2):\n",
    "    # output: metric 1 and its standard error\n",
    "    var1 = var1.ravel()\n",
    "    var2 = var2.ravel()\n",
    "    stat = ((var1 - var2)**2)\n",
    "    return round(mean_squared_error(var1, var2),5), round(np.std(stat),5)\n",
    "\n",
    "def metric_2(var1):\n",
    "    var1 = var1.ravel()\n",
    "    stat = var1 - 1\n",
    "    return round(np.mean(var1) - 1,5), round(np.std(stat),5)\n",
    "\n"
   ]
  },
  {
   "cell_type": "code",
   "execution_count": 8,
   "metadata": {},
   "outputs": [],
   "source": [
    "# data = np.load(main_folder + sub_folder + 'original0.npy')\n",
    "\n",
    "# last_pred = np.expand_dims(np.empty(data.shape), axis = 0)\n",
    "\n",
    "# for i in range(1):\n",
    "#     pred = np.load(main_folder + sub_folder + str(i) + '_imputation0.npy')\n",
    "#     pred = np.expand_dims(pred, axis = 0)\n",
    "#     last_pred = np.vstack((last_pred, pred))\n",
    "\n",
    "\n",
    "# last_pred = last_pred[1:(last_pred.shape[0]+1),:,:,:]\n",
    "# p = np.mean(last_pred[:,:,:,-1], axis = 0)   \n",
    "# v = np.var(last_pred[:,:,:,-1], axis = 0)\n",
    "\n",
    "# a = p\n",
    "# b = data[:,:,-2].reshape(-1) # y_{T-1}\n",
    "# c = data[:,:,-1].reshape(-1) # y_{T}\n",
    "\n",
    "# # print(f'MSE to data = E[(p-y_T)^2] = {mean_squared_error(a, c)}')\n",
    "# # print(f'E(p-0.8*y_T-1) = {np.mean(a-b*0.8)}')\n",
    "# # print(f'var(p-0.8*y_T-1) = {np.var(a-b*0.8)}')\n",
    "\n",
    "# print(f'metric 1 = E[(p-0.8*y_T-1)^2] = {metric_1(a, b*0.8)}')\n",
    "# print(f'metric 2 = E[var(\\hat(y))] = {metric_2(v)}')"
   ]
  },
  {
   "cell_type": "code",
   "execution_count": 9,
   "metadata": {},
   "outputs": [
    {
     "ename": "FileNotFoundError",
     "evalue": "[Errno 2] No such file or directory: '/home/hchuang/Documents/Project/SSSD_CP/src/results/ar1/ar1-5/T200_beta00.0001_betaT0.02/imputaiton_multiple_10k/0_imputation0.npy'",
     "output_type": "error",
     "traceback": [
      "\u001b[0;31m---------------------------------------------------------------------------\u001b[0m",
      "\u001b[0;31mFileNotFoundError\u001b[0m                         Traceback (most recent call last)",
      "Cell \u001b[0;32mIn[9], line 6\u001b[0m\n\u001b[1;32m      3\u001b[0m last_pred \u001b[38;5;241m=\u001b[39m np\u001b[38;5;241m.\u001b[39mexpand_dims(np\u001b[38;5;241m.\u001b[39mempty(data\u001b[38;5;241m.\u001b[39mshape), axis \u001b[38;5;241m=\u001b[39m \u001b[38;5;241m0\u001b[39m)\n\u001b[1;32m      5\u001b[0m \u001b[38;5;28;01mfor\u001b[39;00m i \u001b[38;5;129;01min\u001b[39;00m \u001b[38;5;28mrange\u001b[39m(\u001b[38;5;241m5\u001b[39m):\n\u001b[0;32m----> 6\u001b[0m     pred \u001b[38;5;241m=\u001b[39m \u001b[43mnp\u001b[49m\u001b[38;5;241;43m.\u001b[39;49m\u001b[43mload\u001b[49m\u001b[43m(\u001b[49m\u001b[43mmain_folder\u001b[49m\u001b[43m \u001b[49m\u001b[38;5;241;43m+\u001b[39;49m\u001b[43m \u001b[49m\u001b[43msub_folder\u001b[49m\u001b[43m \u001b[49m\u001b[38;5;241;43m+\u001b[39;49m\u001b[43m \u001b[49m\u001b[38;5;28;43mstr\u001b[39;49m\u001b[43m(\u001b[49m\u001b[43mi\u001b[49m\u001b[43m)\u001b[49m\u001b[43m \u001b[49m\u001b[38;5;241;43m+\u001b[39;49m\u001b[43m \u001b[49m\u001b[38;5;124;43m'\u001b[39;49m\u001b[38;5;124;43m_imputation0.npy\u001b[39;49m\u001b[38;5;124;43m'\u001b[39;49m\u001b[43m)\u001b[49m\n\u001b[1;32m      7\u001b[0m     pred \u001b[38;5;241m=\u001b[39m np\u001b[38;5;241m.\u001b[39mexpand_dims(pred, axis \u001b[38;5;241m=\u001b[39m \u001b[38;5;241m0\u001b[39m)\n\u001b[1;32m      8\u001b[0m     last_pred \u001b[38;5;241m=\u001b[39m np\u001b[38;5;241m.\u001b[39mvstack((last_pred, pred))\n",
      "File \u001b[0;32m~/anaconda3/envs/pt_fan/lib/python3.9/site-packages/numpy/lib/npyio.py:407\u001b[0m, in \u001b[0;36mload\u001b[0;34m(file, mmap_mode, allow_pickle, fix_imports, encoding)\u001b[0m\n\u001b[1;32m    405\u001b[0m     own_fid \u001b[38;5;241m=\u001b[39m \u001b[38;5;28;01mFalse\u001b[39;00m\n\u001b[1;32m    406\u001b[0m \u001b[38;5;28;01melse\u001b[39;00m:\n\u001b[0;32m--> 407\u001b[0m     fid \u001b[38;5;241m=\u001b[39m stack\u001b[38;5;241m.\u001b[39menter_context(\u001b[38;5;28;43mopen\u001b[39;49m\u001b[43m(\u001b[49m\u001b[43mos_fspath\u001b[49m\u001b[43m(\u001b[49m\u001b[43mfile\u001b[49m\u001b[43m)\u001b[49m\u001b[43m,\u001b[49m\u001b[43m \u001b[49m\u001b[38;5;124;43m\"\u001b[39;49m\u001b[38;5;124;43mrb\u001b[39;49m\u001b[38;5;124;43m\"\u001b[39;49m\u001b[43m)\u001b[49m)\n\u001b[1;32m    408\u001b[0m     own_fid \u001b[38;5;241m=\u001b[39m \u001b[38;5;28;01mTrue\u001b[39;00m\n\u001b[1;32m    410\u001b[0m \u001b[38;5;66;03m# Code to distinguish from NumPy binary files and pickles.\u001b[39;00m\n",
      "\u001b[0;31mFileNotFoundError\u001b[0m: [Errno 2] No such file or directory: '/home/hchuang/Documents/Project/SSSD_CP/src/results/ar1/ar1-5/T200_beta00.0001_betaT0.02/imputaiton_multiple_10k/0_imputation0.npy'"
     ]
    }
   ],
   "source": [
    "data = np.load(main_folder + sub_folder + 'original0.npy')\n",
    "\n",
    "last_pred = np.expand_dims(np.empty(data.shape), axis = 0)\n",
    "\n",
    "for i in range(5):\n",
    "    pred = np.load(main_folder + sub_folder + str(i) + '_imputation0.npy')\n",
    "    pred = np.expand_dims(pred, axis = 0)\n",
    "    last_pred = np.vstack((last_pred, pred))\n",
    "\n",
    "\n",
    "last_pred = last_pred[1:(last_pred.shape[0]+1),:,:,:]\n",
    "p = np.mean(last_pred[:,:,:,-1], axis = 0)   \n",
    "v = np.var(last_pred[:,:,:,-1], axis = 0)\n",
    "\n",
    "a = p\n",
    "b = data[:,:,-2].reshape(-1) # y_{T-1}\n",
    "c = data[:,:,-1].reshape(-1) # y_{T}\n",
    "\n",
    "# print(f'MSE to data = E[(p-y_T)^2] = {mean_squared_error(a, c)}')\n",
    "# print(f'E(p-0.8*y_T-1) = {np.mean(a-b*0.8)}')\n",
    "# print(f'var(p-0.8*y_T-1) = {np.var(a-b*0.8)}')\n",
    "\n",
    "\n",
    "print(f'metric 1 = E[(p-0.8*y_T-1)^2] = {metric_1(a, b*0.8)}')\n",
    "print(f'metric 2 = E[var(\\hat(y))] = {metric_2(v)}')"
   ]
  },
  {
   "cell_type": "code",
   "execution_count": 46,
   "metadata": {},
   "outputs": [
    {
     "name": "stdout",
     "output_type": "stream",
     "text": [
      "metric 1 = E[(p-0.8*y_T-1)^2] = (0.39153, 0.53063)\n",
      "metric 2 = E[var(\\hat(y))] = (-0.96229, 0.03495)\n"
     ]
    }
   ],
   "source": [
    "data = np.load(main_folder + sub_folder + 'original0.npy')\n",
    "\n",
    "last_pred = np.expand_dims(np.empty(data.shape), axis = 0)\n",
    "\n",
    "for i in range(100):\n",
    "    pred = np.load(main_folder + sub_folder + str(i) + '_imputation0.npy')\n",
    "    pred = np.expand_dims(pred, axis = 0)\n",
    "    last_pred = np.vstack((last_pred, pred))\n",
    "\n",
    "\n",
    "last_pred = last_pred[1:(last_pred.shape[0]+1),:,:,:]\n",
    "p = np.mean(last_pred[:,:,:,-1], axis = 0)   \n",
    "v = np.var(last_pred[:,:,:,-1], axis = 0)\n",
    "\n",
    "a = p\n",
    "b = data[:,:,-2].reshape(-1) # y_{T-1}\n",
    "c = data[:,:,-1].reshape(-1) # y_{T}\n",
    "\n",
    "# print(f'MSE to data = E[(p-y_T)^2] = {mean_squared_error(a, c)}')\n",
    "# print(f'E(p-0.8*y_T-1) = {np.mean(a-b*0.8)}')\n",
    "# print(f'var(p-0.8*y_T-1) = {np.var(a-b*0.8)}')\n",
    "\n",
    "print(f'metric 1 = E[(p-0.8*y_T-1)^2] = {metric_1(a, b*0.8)}')\n",
    "print(f'metric 2 = E[var(\\hat(y))] = {metric_2(v)}')"
   ]
  },
  {
   "cell_type": "code",
   "execution_count": 47,
   "metadata": {},
   "outputs": [
    {
     "name": "stdout",
     "output_type": "stream",
     "text": [
      "metric 1 = E[(p-0.8*y_T-1)^2] = (0.39099, 0.5295)\n",
      "metric 2 = E[var(\\hat(y))] = (-0.96208, 0.03425)\n"
     ]
    }
   ],
   "source": [
    "data = np.load(main_folder + sub_folder + 'original0.npy')\n",
    "\n",
    "last_pred = np.expand_dims(np.empty(data.shape), axis = 0)\n",
    "\n",
    "for i in range(1000):\n",
    "    pred = np.load(main_folder + sub_folder + str(i) + '_imputation0.npy')\n",
    "    pred = np.expand_dims(pred, axis = 0)\n",
    "    last_pred = np.vstack((last_pred, pred))\n",
    "\n",
    "\n",
    "last_pred = last_pred[1:(last_pred.shape[0]+1),:,:,:]\n",
    "p = np.mean(last_pred[:,:,:,-1], axis = 0)   \n",
    "v = np.var(last_pred[:,:,:,-1], axis = 0)\n",
    "\n",
    "a = p\n",
    "b = data[:,:,-2].reshape(-1) # y_{T-1}\n",
    "c = data[:,:,-1].reshape(-1) # y_{T}\n",
    "\n",
    "print(f'metric 1 = E[(p-0.8*y_T-1)^2] = {metric_1(a, b*0.8)}')\n",
    "print(f'metric 2 = E[var(\\hat(y))] = {metric_2(v)}')"
   ]
  },
  {
   "cell_type": "markdown",
   "metadata": {},
   "source": [
    "# M vs mterics"
   ]
  },
  {
   "cell_type": "code",
   "execution_count": 165,
   "metadata": {},
   "outputs": [
    {
     "data": {
      "text/plain": [
       "(800, 1000, 1, 10)"
      ]
     },
     "execution_count": 165,
     "metadata": {},
     "output_type": "execute_result"
    }
   ],
   "source": [
    "last_pred.shape"
   ]
  },
  {
   "cell_type": "code",
   "execution_count": 166,
   "metadata": {},
   "outputs": [],
   "source": [
    "data = np.load(main_folder + sub_folder + 'original0.npy')\n",
    "last_pred = np.expand_dims(np.empty(data.shape), axis = 0)\n",
    "\n",
    "M = 800\n",
    "# stack M predictions\n",
    "for i in range(M):\n",
    "    pred = np.load(main_folder + sub_folder + str(i) + '_imputation0.npy')\n",
    "    pred = np.expand_dims(pred, axis = 0)\n",
    "    last_pred = np.vstack((last_pred, pred))\n",
    "last_pred = last_pred[1:(last_pred.shape[0]+1),:,:,:] # (M,N,1,T): M = # of predictions, N = # of test data, T = length of ts\n",
    "\n",
    "# np.random.shuffle(last_pred)\n",
    "\n",
    "N = 1000 # size of test data\n",
    "\n",
    "metric_1_ls = []\n",
    "metric_2_ls = []\n",
    "for m in range(1,M,1):\n",
    "    p = np.mean(last_pred[0:m,0:N,:,-1], axis = 0)   \n",
    "    v = np.var(last_pred[0:m,0:N,:,-1], axis = 0)\n",
    "\n",
    "    a = p\n",
    "    b = data[0:N,:,-2].reshape(-1) # y_{T-1}\n",
    "    c = data[0:N,:,-1].reshape(-1) # y_{T}\n",
    "\n",
    "    metric_1_ls.append(metric_1(a, b*0.8))\n",
    "    metric_2_ls.append(metric_2(v))"
   ]
  },
  {
   "cell_type": "code",
   "execution_count": 167,
   "metadata": {},
   "outputs": [
    {
     "data": {
      "image/png": "[encoded data removed]",
      "text/plain": [
       "<Figure size 720x432 with 1 Axes>"
      ]
     },
     "metadata": {
      "needs_background": "light"
     },
     "output_type": "display_data"
    }
   ],
   "source": [
    "plt.figure(figsize=(10,6))\n",
    "plt.plot(metric_1_ls, label='Metric 1 Values')\n",
    "plt.xlabel('M')\n",
    "plt.ylabel('Value')\n",
    "plt.title('Plot of Metric 1 Values')\n",
    "plt.legend()\n",
    "# plt.ylim((0.39,0.43))\n",
    "plt.grid(True)\n",
    "plt.show()"
   ]
  },
  {
   "cell_type": "code",
   "execution_count": 171,
   "metadata": {},
   "outputs": [
    {
     "data": {
      "image/png": "[encoded data removed]",
      "text/plain": [
       "<Figure size 720x432 with 1 Axes>"
      ]
     },
     "metadata": {
      "needs_background": "light"
     },
     "output_type": "display_data"
    }
   ],
   "source": [
    "plt.figure(figsize=(10,6))\n",
    "plt.plot(metric_2_ls, label='Metric 2 Values')\n",
    "plt.xlabel('M')\n",
    "plt.ylabel('Value')\n",
    "plt.title('Plot of Metric 2 Values')\n",
    "plt.legend()\n",
    "plt.ylim(-1,-0.96)\n",
    "plt.grid(True)\n",
    "plt.show()"
   ]
  },
  {
   "cell_type": "markdown",
   "metadata": {},
   "source": [
    "# CI"
   ]
  },
  {
   "cell_type": "code",
   "execution_count": 16,
   "metadata": {},
   "outputs": [],
   "source": [
    "predictions = np.squeeze(last_pred[:,:,:,-1]) # shape:(M,N), \\hat{y}_{T,i}^{(m)} i = 1,...,N, m = 1,...,M\n",
    "true_data_all_test = np.squeeze(data) # shape:(N,T), y_{T,i} i = 1,...,N\n",
    "\n",
    "pre_lag1 = true_data_all_test.shape[1]-1-1 # T-1 is the previous position, but python is start from 0, so do another -1\n"
   ]
  },
  {
   "cell_type": "code",
   "execution_count": 17,
   "metadata": {},
   "outputs": [
    {
     "name": "stdout",
     "output_type": "stream",
     "text": [
      "(1000,)\n"
     ]
    }
   ],
   "source": [
    "L, U = pred_interval(predictions, beta = 0.05)\n",
    "print(L.shape)"
   ]
  },
  {
   "cell_type": "code",
   "execution_count": 18,
   "metadata": {},
   "outputs": [
    {
     "name": "stdout",
     "output_type": "stream",
     "text": [
      "(1000,)\n",
      "(1000,)\n"
     ]
    }
   ],
   "source": [
    "mean_true = true_data_all_test[:,pre_lag1]*0.8\n",
    "L_true = true_data_all_test[:,pre_lag1]*0.8 - 1.96\n",
    "U_true = true_data_all_test[:,pre_lag1]*0.8 + 1.96\n",
    "print(mean_true.shape)\n",
    "print(L_true.shape)"
   ]
  },
  {
   "cell_type": "markdown",
   "metadata": {},
   "source": [
    "## Average length"
   ]
  },
  {
   "cell_type": "code",
   "execution_count": 19,
   "metadata": {},
   "outputs": [
    {
     "name": "stdout",
     "output_type": "stream",
     "text": [
      "3.9636748073579975\n",
      "0.14422651542911197\n"
     ]
    }
   ],
   "source": [
    "len_SSSD = U-L\n",
    "len_true = 1.96*2\n",
    "\n",
    "print(np.mean(len_SSSD))\n",
    "print(np.std(len_SSSD))"
   ]
  },
  {
   "cell_type": "markdown",
   "metadata": {},
   "source": [
    "## Overlap proportion"
   ]
  },
  {
   "cell_type": "code",
   "execution_count": 20,
   "metadata": {},
   "outputs": [],
   "source": [
    "def calculate_overlap_proportion(interval1, interval2):\n",
    "    # Unpack the intervals\n",
    "    a1, a2 = interval1\n",
    "    b1, b2 = interval2\n",
    "    \n",
    "    # Calculate the length of the first interval\n",
    "    length_interval1 = b2 - b1\n",
    "    \n",
    "    # Find the overlap range\n",
    "    overlap_start = max(a1, b1)\n",
    "    overlap_end = min(a2, b2)\n",
    "    \n",
    "    # Calculate overlap length (only if overlap exists)\n",
    "    overlap_length = max(0, overlap_end - overlap_start)\n",
    "    \n",
    "    # Calculate the proportion of overlap relative to the first interval\n",
    "    overlap_proportion = overlap_length / length_interval1 if length_interval1 > 0 else 0\n",
    "    \n",
    "    return overlap_proportion\n",
    "def calculate_mean_overlap_proportion(intervals1, intervals2):\n",
    "    proportions = []\n",
    "    \n",
    "    for i in range(len(intervals1[0])):\n",
    "        a1,b1 = intervals1\n",
    "        a2,b2 = intervals2\n",
    "        proportion = calculate_overlap_proportion((a1[i],b1[i]), (a2[i],b2[i]))\n",
    "        proportions.append(proportion)\n",
    "    \n",
    "    # Calculate the mean of the overlap proportions\n",
    "    return np.mean(proportions), proportions"
   ]
  },
  {
   "cell_type": "code",
   "execution_count": 21,
   "metadata": {},
   "outputs": [
    {
     "name": "stdout",
     "output_type": "stream",
     "text": [
      "Mean overlap proportion: 0.9028\n"
     ]
    }
   ],
   "source": [
    "mean_overlap, proportions = calculate_mean_overlap_proportion((L,U), (L_true,U_true))\n",
    "print(f\"Mean overlap proportion: {mean_overlap:.4f}\")"
   ]
  },
  {
   "cell_type": "markdown",
   "metadata": {},
   "source": [
    "## Covergae rate\n",
    "要跟 0.8Y_{T-1} 比，還是跟 Y_{T} 比較？"
   ]
  },
  {
   "cell_type": "code",
   "execution_count": 22,
   "metadata": {},
   "outputs": [
    {
     "name": "stdout",
     "output_type": "stream",
     "text": [
      "1.0\n",
      "1.0\n"
     ]
    },
    {
     "ename": "IndexError",
     "evalue": "index 9 is out of bounds for axis 1 with size 3",
     "output_type": "error",
     "traceback": [
      "\u001b[0;31m---------------------------------------------------------------------------\u001b[0m",
      "\u001b[0;31mIndexError\u001b[0m                                Traceback (most recent call last)",
      "Cell \u001b[0;32mIn[22], line 4\u001b[0m\n\u001b[1;32m      1\u001b[0m \u001b[38;5;28mprint\u001b[39m(coverage_rate(L, U, mean_true))\n\u001b[1;32m      2\u001b[0m \u001b[38;5;28mprint\u001b[39m(coverage_rate(L_true, U_true,  mean_true))\n\u001b[0;32m----> 4\u001b[0m \u001b[38;5;28mprint\u001b[39m(coverage_rate(L, U, \u001b[43mtrue_data_all_test\u001b[49m\u001b[43m[\u001b[49m\u001b[43m:\u001b[49m\u001b[43m,\u001b[49m\u001b[38;5;241;43m9\u001b[39;49m\u001b[43m]\u001b[49m))\n\u001b[1;32m      5\u001b[0m \u001b[38;5;28mprint\u001b[39m(coverage_rate(L_true, U_true,  true_data_all_test[:,\u001b[38;5;241m9\u001b[39m]))\n",
      "\u001b[0;31mIndexError\u001b[0m: index 9 is out of bounds for axis 1 with size 3"
     ]
    }
   ],
   "source": [
    "# print(coverage_rate(L, U, mean_true))\n",
    "# print(coverage_rate(L_true, U_true,  mean_true))\n",
    "\n",
    "# print(coverage_rate(L, U, true_data_all_test[:,9]))\n",
    "# print(coverage_rate(L_true, U_true,  true_data_all_test[:,9]))"
   ]
  },
  {
   "cell_type": "code",
   "execution_count": 23,
   "metadata": {},
   "outputs": [
    {
     "data": {
      "text/plain": [
       "(1000, 3)"
      ]
     },
     "execution_count": 23,
     "metadata": {},
     "output_type": "execute_result"
    }
   ],
   "source": [
    "true_data_all_test.shape"
   ]
  },
  {
   "cell_type": "code",
   "execution_count": null,
   "metadata": {},
   "outputs": [],
   "source": []
  }
 ],
 "metadata": {
  "kernelspec": {
   "display_name": "pt_fan",
   "language": "python",
   "name": "python3"
  },
  "language_info": {
   "codemirror_mode": {
    "name": "ipython",
    "version": 3
   },
   "file_extension": ".py",
   "mimetype": "text/x-python",
   "name": "python",
   "nbconvert_exporter": "python",
   "pygments_lexer": "ipython3",
   "version": "3.9.7"
  }
 },
 "nbformat": 4,
 "nbformat_minor": 2
}
