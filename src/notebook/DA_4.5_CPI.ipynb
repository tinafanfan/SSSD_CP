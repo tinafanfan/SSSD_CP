{
 "cells": [
  {
   "cell_type": "code",
   "execution_count": 62,
   "metadata": {},
   "outputs": [],
   "source": [
    "import os\n",
    "import numpy as np\n",
    "import pandas as pd\n",
    "from matplotlib import pyplot as plt\n",
    "from datetime import datetime, timedelta\n",
    "import sys\n",
    "\n",
    "from importlib import reload # 自訂 function 可重新 reload\n",
    "sys.path.append('/home/hchuang/Documents/Project/SSSD_CP/src/datasets_script/NYISO')\n",
    "from utils.data_utils import *\n",
    "sys.path.append('/home/hchuang/Documents/Project/SSSD_CP/src')\n",
    "from utils import util_inference_result\n",
    "reload(util_inference_result)\n",
    "from utils.util_inference_result import *\n",
    "\n",
    "\n",
    "\n"
   ]
  },
  {
   "cell_type": "markdown",
   "metadata": {},
   "source": [
    "# Read data"
   ]
  },
  {
   "cell_type": "code",
   "execution_count": 79,
   "metadata": {},
   "outputs": [
    {
     "name": "stdout",
     "output_type": "stream",
     "text": [
      "true_data_I2_all, shape: (2061, 192)\n",
      "true_data_I2_cond, shape: (2061, 168)\n",
      "true_data_I2_target, shape: (2061, 24)\n",
      "mul_pred_data_I2, shape: (50, 2061, 24)\n",
      "median_pred_data_I2, shape: (2061, 24)\n",
      "true_data_test_all, shape: (73, 192)\n",
      "true_data_test_cond, shape: (73, 168)\n",
      "true_data_test_target, shape: (73, 24)\n",
      "mul_pred_data_test, shape: (50, 73, 24)\n",
      "median_pred_data_test, shape: (73, 24)\n"
     ]
    }
   ],
   "source": [
    "main_folder_path = \"/home/hchuang/Documents/Project/SSSD_CP/src/\"\n",
    "DATASET = 'dataset_4' # dataset_4 or dataset 6\n",
    "result = load_result_data(main_folder_path, DATASET)\n",
    "\n",
    "\n",
    "# true_data_I2_all_o = result['true_data_I2_all_o']\n",
    "# true_data_I2_cond_o = result['true_data_I2_cond_o']\n",
    "# true_data_I2_target_o = result['true_data_I2_target_o']\n",
    "# true_data_I2_all = result['true_data_I2_all']\n",
    "# true_data_I2_cond = result['true_data_I2_cond']\n",
    "# true_data_I2_target = result['true_data_I2_target']\n",
    "# mul_pred_data_I2 = result['mul_pred_data_I2']\n",
    "# median_pred_data_I2 = result['median_pred_data_I2']\n",
    "# mul_pred_data_I2_o = result['mul_pred_data_I2_o']\n",
    "# median_pred_data_I2_o = result['median_pred_data_I2_o']\n",
    "\n",
    "# true_data_test_all_o = result['true_data_test_all_o']\n",
    "# true_data_test_cond_o = result['true_data_test_cond_o']\n",
    "# true_data_test_target_o = result['true_data_test_target_o']\n",
    "# true_data_test_all = result['true_data_test_all']\n",
    "# true_data_test_cond = result['true_data_test_cond']\n",
    "# true_data_test_target = result['true_data_test_target']\n",
    "# mul_pred_data_test = result['mul_pred_data_test']\n",
    "# median_pred_data_test = result['median_pred_data_test']\n",
    "# mul_pred_data_test_o = result['mul_pred_data_test_o']\n",
    "# median_pred_data_test_o = result['median_pred_data_test_o']\n",
    "\n",
    "true_data_I2_all = result['true_data_I2_all_o']\n",
    "true_data_I2_cond = result['true_data_I2_cond_o']\n",
    "true_data_I2_target = result['true_data_I2_target_o']\n",
    "mul_pred_data_I2 = result['mul_pred_data_I2_o']\n",
    "median_pred_data_I2 = result['median_pred_data_I2_o']\n",
    "\n",
    "true_data_test_all = result['true_data_test_all_o']\n",
    "true_data_test_cond = result['true_data_test_cond_o']\n",
    "true_data_test_target = result['true_data_test_target_o']\n",
    "mul_pred_data_test = result['mul_pred_data_test_o']\n",
    "median_pred_data_test = result['median_pred_data_test_o']"
   ]
  },
  {
   "cell_type": "markdown",
   "metadata": {},
   "source": [
    "## select 10/20-12/31 as calibration set"
   ]
  },
  {
   "cell_type": "code",
   "execution_count": 64,
   "metadata": {},
   "outputs": [],
   "source": [
    "_,train_days_I2 = date_index(zone_number = 1)\n",
    "# I2_winter_index = train_days_I2>0 # all I2\n",
    "# I2_winter_index = train_days_I2>=294 # >= 10/20\n",
    "\n",
    "I2_winter_index = train_days_I2>=287 # >= 10/20"
   ]
  },
  {
   "cell_type": "markdown",
   "metadata": {},
   "source": [
    "# CPI"
   ]
  },
  {
   "cell_type": "markdown",
   "metadata": {},
   "source": [
    "## Select calibration data"
   ]
  },
  {
   "cell_type": "code",
   "execution_count": 80,
   "metadata": {},
   "outputs": [],
   "source": [
    "mul_pred_I2 = mul_pred_data_I2[:,I2_winter_index,:]\n",
    "true_I2 = true_data_I2_target[I2_winter_index,:]\n",
    "median_pred_I2 = median_pred_data_I2[I2_winter_index,:]\n"
   ]
  },
  {
   "cell_type": "markdown",
   "metadata": {},
   "source": [
    "## 1: CPI_B"
   ]
  },
  {
   "cell_type": "code",
   "execution_count": 89,
   "metadata": {},
   "outputs": [],
   "source": [
    "# conformity score\n",
    "L, U = pred_interval(mul_pred_data_I2, beta = 0.05)\n",
    "E_star = compute_E_star(L, U, true_data_I2_target, alpha = 0.05)\n",
    "\n",
    "# test data\n",
    "L, U = pred_interval(mul_pred_data_test, beta = 0.05)\n",
    "L_star_B, U_star_B = adjust_PI(L, U, E_star)"
   ]
  },
  {
   "cell_type": "code",
   "execution_count": 121,
   "metadata": {},
   "outputs": [],
   "source": [
    "# # coverage rate\n",
    "# CR_barchart_compare(coverage_rate(L, U, true_data_test_target), \n",
    "#                     coverage_rate(L_star_B, U_star_B, true_data_test_target), \n",
    "#                     figure_title = \"Comparing 95% PI Coverage Rate\",\n",
    "#                     label_1 = 'SSSD', label_2 = 'Calibration_both',\n",
    "#                     color_1 = 'tab:orange', color_2 = 'tab:purple')"
   ]
  },
  {
   "cell_type": "markdown",
   "metadata": {},
   "source": [
    "## 2: CPI_E"
   ]
  },
  {
   "cell_type": "code",
   "execution_count": 92,
   "metadata": {},
   "outputs": [],
   "source": [
    "L, U = pred_interval(mul_pred_I2, beta = 0.05)\n",
    "\n",
    "# conformity score\n",
    "E_star_L, E_star_U = compute_E_star_separate(L, U, true_I2, alpha = 0.025)\n",
    "\n",
    "# test data\n",
    "L, U = pred_interval(mul_pred_data_test, beta = 0.05)\n",
    "L_star_E, U_star_E = adjust_PI_separate(L, U, E_star_L, E_star_U)\n"
   ]
  },
  {
   "cell_type": "markdown",
   "metadata": {},
   "source": [
    "## 3: SCP\n",
    "Split conformal prediction"
   ]
  },
  {
   "cell_type": "code",
   "execution_count": 110,
   "metadata": {},
   "outputs": [],
   "source": [
    "# conformity score\n",
    "E_star_exd = compute_E_star_SCP(pred = median_pred_I2, true = true_I2, alpha = 0.05)\n",
    "\n",
    "# test data\n",
    "L, U = pred_interval(mul_pred_data_test, beta = 0.05)\n",
    "L_star_S = median_pred_data_test - E_star_exd\n",
    "U_star_S = median_pred_data_test + E_star_exd"
   ]
  },
  {
   "cell_type": "code",
   "execution_count": 75,
   "metadata": {},
   "outputs": [],
   "source": [
    "# CR_barchart_compare(coverage_rate(L, U, true_data_test_target), coverage_rate(L_star, U_star, true_data_test_target), \n",
    "#                     figure_title = \"Comparing 95% PI Coverage Rate\",\n",
    "#                     label_1 = 'SSSD', label_2 = 'Conformal Prediction',\n",
    "#                     color_1 = 'tab:orange', color_2 = 'tab:green')"
   ]
  },
  {
   "cell_type": "markdown",
   "metadata": {},
   "source": [
    "## 4: Bias correction"
   ]
  },
  {
   "cell_type": "code",
   "execution_count": 131,
   "metadata": {},
   "outputs": [],
   "source": [
    "# 設定亂數種子（可選）\n",
    "np.random.seed(0)\n",
    "\n",
    "# 取得隨機分組索引\n",
    "idx = np.random.permutation(mul_pred_data_I2.shape[1])\n",
    "half = len(idx) // 2\n",
    "\n",
    "# 切分\n",
    "mul_pred_data_I2_1, mul_pred_data_I2_2 = mul_pred_data_I2[:, idx[:half], :], mul_pred_data_I2[:, idx[half:], :]\n",
    "\n",
    "true_data_I2_target_1, true_data_I2_target_2 = true_data_I2_target[idx[:half], :], true_data_I2_target[idx[half:], :]\n"
   ]
  },
  {
   "cell_type": "code",
   "execution_count": null,
   "metadata": {},
   "outputs": [],
   "source": [
    "# Bias\n",
    "bias = np.mean(true_data_I2_target_1 - np.mean(mul_pred_data_I2_1,axis=0),axis=0)\n",
    "\n",
    "mul_pred_data_I2_2_BC = mul_pred_data_I2_2 + np.expand_dims(bias, axis=0) \n",
    "mul_pred_data_test_BC = mul_pred_data_test + np.expand_dims(bias, axis=0) "
   ]
  },
  {
   "cell_type": "code",
   "execution_count": null,
   "metadata": {},
   "outputs": [],
   "source": [
    "# Scores and Quantile:\n",
    "mean_pred_data_I2_2_BC = np.mean(mul_pred_data_I2_2_BC,axis = 0)\n",
    "std_pred_data_I2_2_BC = np.std(mul_pred_data_I2_2_BC,axis = 0)\n",
    "\n",
    "scores = np.abs(mean_pred_data_I2_2_BC-true_data_I2_target_2)/std_pred_data_I2_2_BC"
   ]
  },
  {
   "cell_type": "markdown",
   "metadata": {},
   "source": [
    "# Comparison"
   ]
  },
  {
   "cell_type": "markdown",
   "metadata": {},
   "source": [
    "## Coverage rate"
   ]
  },
  {
   "cell_type": "code",
   "execution_count": 113,
   "metadata": {},
   "outputs": [
    {
     "data": {
      "image/png": "[encoded data removed]",
      "text/plain": [
       "<Figure size 1440x720 with 1 Axes>"
      ]
     },
     "metadata": {
      "needs_background": "light"
     },
     "output_type": "display_data"
    }
   ],
   "source": [
    "test_CR_original = coverage_rate(L, U, true_data_test_target)\n",
    "adjusted_values1 = coverage_rate(L_star_B, U_star_B, true_data_test_target)\n",
    "adjusted_values2 = coverage_rate(L_star_E, U_star_E, true_data_test_target)\n",
    "adjusted_values3 = coverage_rate(L_star_S, U_star_S, true_data_test_target)\n",
    "figure_title = \"Comparing 95% PI Coverage Rate\"\n",
    "label_1 = 'CPI_B'\n",
    "label_2 = 'CPI_E'\n",
    "label_3 = 'SCP'\n",
    "color_1 = 'tab:purple'\n",
    "color_2 = 'tab:blue'\n",
    "color_3 = 'tab:green'\n",
    "\n",
    "X_axis = np.arange(len(adjusted_values1)) \n",
    "\n",
    "\n",
    "plt.figure(figsize=(20, 10)) \n",
    "plt.rcParams['font.size'] = 24 # 設置繪圖時的字體大小\n",
    "\n",
    "plt.bar(X_axis - 0.3, test_CR_original, 0.2, label = 'SSSD EQPI', color = 'tab:orange') \n",
    "plt.bar(X_axis - 0.1, adjusted_values3, 0.2, label = label_3, color = color_3) \n",
    "plt.bar(X_axis + 0.1, adjusted_values1, 0.2, label = label_1, color = color_1) \n",
    "plt.bar(X_axis + 0.3, adjusted_values2, 0.2, label = label_2, color = color_2) \n",
    "\n",
    "plt.axhline(y=0.95, color='r', linestyle='--')\n",
    "plt.axhline(y=1, color='black', linestyle='--')\n",
    "\n",
    "\n",
    "plt.ylim(0, 1.1)\n",
    "plt.xlabel(\"Hours\") \n",
    "plt.ylabel(\"\") \n",
    "# plt.title(figure_title) \n",
    "# plt.legend(loc = 'upper right', bbox_to_anchor=(1, 0.5)) \n",
    "plt.legend(loc=(1.001, 0.79))\n",
    "plt.show() "
   ]
  },
  {
   "cell_type": "markdown",
   "metadata": {},
   "source": [
    "## MAPE"
   ]
  },
  {
   "cell_type": "code",
   "execution_count": 115,
   "metadata": {},
   "outputs": [],
   "source": [
    "pred_test_cal_B = (L_star_B+U_star_B)/2\n",
    "pred_test_cal_E = (L_star_E+U_star_E)/2\n",
    "pred_test_cal_S = (L_star_S+U_star_S)/2"
   ]
  },
  {
   "cell_type": "code",
   "execution_count": 117,
   "metadata": {},
   "outputs": [
    {
     "name": "stdout",
     "output_type": "stream",
     "text": [
      "MAPE SSSD: 1.6407\n",
      "MAPE CPI_B: 1.643\n",
      "MAPE CPI_E: 1.6353\n",
      "MAPE SCP: 1.6407\n"
     ]
    }
   ],
   "source": [
    "print(f'MAPE SSSD: {round(np.mean(abs((true_data_test_target - median_pred_data_test))/true_data_test_target)*100,4)}')\n",
    "print(f'MAPE CPI_B: {round(np.mean(abs((true_data_test_target - pred_test_cal_B))/true_data_test_target)*100,4)}')\n",
    "print(f'MAPE CPI_E: {round(np.mean(abs((true_data_test_target - pred_test_cal_E))/true_data_test_target)*100,4)}')\n",
    "print(f'MAPE SCP: {round(np.mean(abs((true_data_test_target - pred_test_cal_S))/true_data_test_target)*100,4)}')"
   ]
  },
  {
   "cell_type": "markdown",
   "metadata": {},
   "source": [
    "## Interval score"
   ]
  },
  {
   "cell_type": "code",
   "execution_count": 120,
   "metadata": {},
   "outputs": [
    {
     "name": "stdout",
     "output_type": "stream",
     "text": [
      "IS SSSD: 219585.03\n",
      "IS CPI_B: 200549.27\n",
      "IS CPI_E: 211038.68\n",
      "IS SCP: 209207.28\n"
     ]
    }
   ],
   "source": [
    "print(f'IS SSSD: {np.round(np.mean(Interval_Score(L,U,true,0.05)),2)}')\n",
    "print(f'IS CPI_B: {np.round(np.mean(Interval_Score(L_star_B,U_star_B,true,0.05)),2)}')\n",
    "print(f'IS CPI_E: {np.round(np.mean(Interval_Score(L_star_E,U_star_E,true,0.05)),2)}')\n",
    "print(f'IS SCP: {np.round(np.mean(Interval_Score(L_star_S,U_star_S,true,0.05)),2)}')"
   ]
  },
  {
   "cell_type": "markdown",
   "metadata": {},
   "source": [
    "## PI"
   ]
  },
  {
   "cell_type": "code",
   "execution_count": null,
   "metadata": {},
   "outputs": [],
   "source": [
    "# one_obs = 72 # 0, 13, 30, 72\n",
    "# prediction_linechart(one_obs, true_data_test_all, median_pred_data_test)\n",
    "# PI_linechart(one_obs, true_data_test_all, L, U, figure_title = \"\", PI_label = \"SSSD\", PI_color = 'tab:blue')\n",
    "# PI_linechart(one_obs, true_data_test_all, L_star, U_star, figure_title = \"\", PI_label = \"Calibration\", PI_color = 'tab:red')\n"
   ]
  },
  {
   "cell_type": "markdown",
   "metadata": {},
   "source": [
    "## Predictions"
   ]
  },
  {
   "cell_type": "code",
   "execution_count": null,
   "metadata": {},
   "outputs": [],
   "source": [
    "# for obs in range(1):\n",
    "\n",
    "#     data1 = median_pred_data_test[obs,:].flatten()\n",
    "#     data2 = median_pred_data_calibrated[obs,:].flatten()\n",
    "#     data3 = true_data_test_target[obs,:].flatten()\n",
    "#     x = np.arange(1, 25)\n",
    "\n",
    "#     plt.figure(figsize=(10, 6))\n",
    "#     plt.plot(x, data1, label='SSSD', marker='o')\n",
    "#     plt.plot(x, data2, label='CPI', marker='s')\n",
    "#     plt.plot(x, data3, label='True', marker='^')\n",
    "#     plt.legend()"
   ]
  }
 ],
 "metadata": {
  "kernelspec": {
   "display_name": "pt_fan",
   "language": "python",
   "name": "python3"
  },
  "language_info": {
   "codemirror_mode": {
    "name": "ipython",
    "version": 3
   },
   "file_extension": ".py",
   "mimetype": "text/x-python",
   "name": "python",
   "nbconvert_exporter": "python",
   "pygments_lexer": "ipython3",
   "version": "3.9.7"
  }
 },
 "nbformat": 4,
 "nbformat_minor": 2
}
