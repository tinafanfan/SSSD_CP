{
 "cells": [
  {
   "cell_type": "markdown",
   "metadata": {},
   "source": [
    "- 目的：產生論文 4.4.2 圖檔\n",
    "- 作法：修改 ar1-6(T=3) Setting 當中的五個 scenarios"
   ]
  },
  {
   "cell_type": "code",
   "execution_count": 436,
   "metadata": {},
   "outputs": [],
   "source": [
    "import os\n",
    "import numpy as np\n",
    "import pandas as pd\n",
    "from matplotlib import pyplot as plt\n",
    "from datetime import datetime, timedelta\n",
    "\n",
    "\n",
    "# 自訂 function 可重新 reload\n",
    "from importlib import reload\n",
    "from utils import util_inference_result\n",
    "reload(util_inference_result)\n",
    "from utils.util_inference_result import *\n",
    "\n",
    "from scipy.stats import norm\n"
   ]
  },
  {
   "cell_type": "code",
   "execution_count": 437,
   "metadata": {},
   "outputs": [],
   "source": [
    "def pred_modify(pred, case):\n",
    "    if case == 'original': # original\n",
    "        pred = pred\n",
    "    elif case == 'narrow': # too narrow\n",
    "        pred = 0.5*(pred-np.mean(pred, axis=0)) + np.mean(pred, axis=0)\n",
    "    elif case == 'wide':\n",
    "        pred = 2*(pred-np.mean(pred, axis=0)) + np.mean(pred, axis=0)\n",
    "    elif case == 'under': # under estimation case\n",
    "        pred = pred - 3\n",
    "    elif case =='over': # over estimation case\n",
    "        pred = pred + 3\n",
    "    return pred"
   ]
  },
  {
   "cell_type": "markdown",
   "metadata": {},
   "source": [
    "# Setting"
   ]
  },
  {
   "cell_type": "code",
   "execution_count": 438,
   "metadata": {},
   "outputs": [],
   "source": [
    "interval_case = \"over\"  # case: original, narrow, wide, under, over"
   ]
  },
  {
   "cell_type": "markdown",
   "metadata": {},
   "source": [
    "# Read data"
   ]
  },
  {
   "cell_type": "code",
   "execution_count": 439,
   "metadata": {},
   "outputs": [
    {
     "name": "stdout",
     "output_type": "stream",
     "text": [
      "pred_data_I2, shape: (100, 10000, 1, 1)\n",
      "true_data_I2, shape: (10000, 1, 1)\n",
      "pred_data_test, shape: (100, 1000, 1, 1)\n",
      "true_data_test, shape: (1000, 1, 1)\n"
     ]
    }
   ],
   "source": [
    "main_folder_path = \"/home/hchuang/Documents/Project/\"\n",
    "\n",
    "# I2\n",
    "folder_path = main_folder_path + \"SSSD_CP/src/results/ar1/ar1-6/T200_beta00.0001_betaT0.02/imputaiton_multiple_40k_I2/\"\n",
    "pred_data_I2 = read_multiple_imputations(folder_path, 1)\n",
    "true_data_I2 = read_missing_k_data(folder_path, npy_file=\"original0.npy\", missing_k = 1)\n",
    "\n",
    "print(f\"pred_data_I2, shape: {pred_data_I2.shape}\")\n",
    "print(f\"true_data_I2, shape: {true_data_I2.shape}\")\n",
    "\n",
    "# test data\n",
    "folder_path = main_folder_path + \"SSSD_CP/src/results/ar1/ar1-6/T200_beta00.0001_betaT0.02/imputaiton_multiple_40k_test/\"\n",
    "pred_data_test = read_multiple_imputations(folder_path, 1)\n",
    "true_data_test = read_missing_k_data(folder_path, npy_file=\"original0.npy\", missing_k = 1)\n",
    "\n",
    "print(f\"pred_data_test, shape: {pred_data_test.shape}\")\n",
    "print(f\"true_data_test, shape: {true_data_test.shape}\")\n",
    "\n",
    "# test data all (whole series) for calculating true conditional distribution 0.8*y_2 in Comparison section\n",
    "true_data_all_test = np.load('/home/hchuang/Documents/Project/SSSD_CP/src/datasets/AR/test_ar1_1000_3.npy')"
   ]
  },
  {
   "cell_type": "markdown",
   "metadata": {},
   "source": [
    "# Assumed Model"
   ]
  },
  {
   "cell_type": "code",
   "execution_count": 440,
   "metadata": {},
   "outputs": [],
   "source": [
    "# modify predictions\n",
    "pred_data_I2 = pred_modify(pred_data_I2, case = interval_case)\n",
    "pred_data_test = pred_modify(pred_data_test, case = interval_case)\n",
    "\n",
    "# prediction interval and coverage rate of assuming model\n",
    "L_star_model, U_star_model = pred_interval(pred_data_test, beta = 0.05)\n",
    "CR_test_model = coverage_rate(L_star_model, U_star_model, true_data_test)"
   ]
  },
  {
   "cell_type": "markdown",
   "metadata": {},
   "source": [
    "# Method 1: CPI_B"
   ]
  },
  {
   "cell_type": "code",
   "execution_count": 441,
   "metadata": {},
   "outputs": [
    {
     "name": "stdout",
     "output_type": "stream",
     "text": [
      "E_star_L: [[2.9838596]]\n",
      "I2 CR: [[0.1611]]\n",
      "I2 adjusted CR: [[0.95]]\n",
      "test CR: [[0.154]]\n",
      "test adjusted CR: [[0.95]]\n"
     ]
    }
   ],
   "source": [
    "# Compute E*\n",
    "pred_data = pred_data_I2\n",
    "true_data = true_data_I2\n",
    "\n",
    "L, U = pred_interval(pred_data, beta = 0.05)\n",
    "# L, U = case_setting(L, U, case = interval_case) # modify interval\n",
    "\n",
    "E_star = compute_E_star(L, U, true_data, alpha = 0.05)\n",
    "L_star, U_star = adjust_PI(L, U, E_star)\n",
    "\n",
    "print(f'E_star_L: {E_star}')\n",
    "print(f'I2 CR: {coverage_rate(L, U, true_data)}')\n",
    "print(f'I2 adjusted CR: {coverage_rate(L_star, U_star, true_data)}')\n",
    "\n",
    "# adjust PI\n",
    "pred_data = pred_data_test\n",
    "true_data = true_data_test\n",
    "\n",
    "L, U = pred_interval(pred_data, beta = 0.05)\n",
    "# L, U = case_setting(L,U, case = interval_case)  # modify interval\n",
    "L_star_both, U_star_both = adjust_PI(L, U, E_star)\n",
    "print(f'test CR: {coverage_rate(L, U, true_data)}')\n",
    "print(f'test adjusted CR: {coverage_rate(L_star_both, U_star_both, true_data)}')\n",
    "\n",
    "CR_test_both = coverage_rate(L_star_both, U_star_both, true_data)"
   ]
  },
  {
   "cell_type": "markdown",
   "metadata": {},
   "source": [
    "# Method 2: CPI_E"
   ]
  },
  {
   "cell_type": "code",
   "execution_count": 442,
   "metadata": {},
   "outputs": [
    {
     "name": "stdout",
     "output_type": "stream",
     "text": [
      "E_star_L: [[3.334038]], E_star_U: [[-2.70655789]]\n",
      "I2 CR: [[0.1611]]\n",
      "I2 adjusted CR: [[0.95]]\n",
      "test CR: [[0.154]]\n",
      "test adjusted CR: [[0.955]]\n"
     ]
    }
   ],
   "source": [
    "# Compute E*\n",
    "pred_data = pred_data_I2\n",
    "true_data = true_data_I2\n",
    "\n",
    "L, U = pred_interval(pred_data, beta = 0.05)\n",
    "\n",
    "E_star_L, E_star_U = compute_E_star_separate(L, U, true_data, alpha = 0.025)\n",
    "L_star, U_star = adjust_PI_separate(L, U, E_star_L, E_star_U)\n",
    "\n",
    "print(f'E_star_L: {E_star_L}, E_star_U: {E_star_U}')\n",
    "print(f'I2 CR: {coverage_rate(L, U, true_data)}')\n",
    "print(f'I2 adjusted CR: {coverage_rate(L_star, U_star, true_data)}')\n",
    "\n",
    "# adjust PI\n",
    "pred_data = pred_data_test\n",
    "true_data = true_data_test\n",
    "\n",
    "L, U = pred_interval(pred_data, beta = 0.05)\n",
    "L_star_each, U_star_each = adjust_PI_separate(L, U, E_star_L, E_star_U)\n",
    "\n",
    "print(f'test CR: {coverage_rate(L, U, true_data)}')\n",
    "print(f'test adjusted CR: {coverage_rate(L_star_each, U_star_each, true_data)}')\n",
    "CR_test_each = coverage_rate(L_star_each, U_star_each, true_data)"
   ]
  },
  {
   "cell_type": "markdown",
   "metadata": {},
   "source": [
    "# Method 3: SCP"
   ]
  },
  {
   "cell_type": "code",
   "execution_count": 443,
   "metadata": {},
   "outputs": [
    {
     "name": "stdout",
     "output_type": "stream",
     "text": [
      "test CR: [[0.]]\n",
      "test adjusted CR: [[0.946]]\n"
     ]
    }
   ],
   "source": [
    "# compute E\n",
    "pred_data = np.median(pred_data_I2, axis = 0)\n",
    "\n",
    "# pred_data = median_pred_data_I2 + 3\n",
    "true_data = true_data_I2\n",
    "\n",
    "E_star_exd = compute_E_star_SCP(pred = pred_data, true = true_data, alpha = 0.05)\n",
    "\n",
    "L = pred_data - E_star_exd\n",
    "U = pred_data + E_star_exd\n",
    "\n",
    "# compute conformal prediction \n",
    "pred_data = np.median(pred_data_test, axis = 0)\n",
    "\n",
    "# pred_data = median_pred_data_test + 3\n",
    "true_data = true_data_test \n",
    "\n",
    "L, U = pred_interval(pred_data_test+3, beta = 0.05)\n",
    "# L, U = case_setting(L,U, case = interval_case)  # modify interval\n",
    "L_star_scp = pred_data - E_star_exd\n",
    "U_star_scp = pred_data + E_star_exd\n",
    "\n",
    "print(f'test CR: {coverage_rate(L, U, true_data)}')\n",
    "print(f'test adjusted CR: {coverage_rate(L_star_scp, U_star_scp, true_data)}')\n",
    "CR_test_scp = coverage_rate(L_star_scp, U_star_scp, true_data)"
   ]
  },
  {
   "cell_type": "markdown",
   "metadata": {},
   "source": [
    "# Comparison"
   ]
  },
  {
   "cell_type": "code",
   "execution_count": 444,
   "metadata": {},
   "outputs": [
    {
     "name": "stdout",
     "output_type": "stream",
     "text": [
      "Current Working Directory: /home/hchuang/Documents/Project/SSSD_CP/src\n"
     ]
    }
   ],
   "source": [
    "import os\n",
    "current_directory = os.getcwd()\n",
    "print(\"Current Working Directory:\", current_directory)"
   ]
  },
  {
   "cell_type": "code",
   "execution_count": 445,
   "metadata": {},
   "outputs": [],
   "source": [
    "# 指定保存的文件夹\n",
    "folder = '/home/hchuang/Documents/Project/SSSD_CP/src/results/ar1/ar1-6/T200_beta00.0001_betaT0.02/'\n",
    "foldername = 'figures/'\n",
    "# 检查文件夹是否存在，如果不存在，则创建\n",
    "if not os.path.exists(folder+foldername):\n",
    "    os.makedirs(folder+foldername)"
   ]
  },
  {
   "cell_type": "markdown",
   "metadata": {},
   "source": [
    "## 單張圖分開畫"
   ]
  },
  {
   "cell_type": "markdown",
   "metadata": {},
   "source": [
    "### Intervals per test data"
   ]
  },
  {
   "cell_type": "code",
   "execution_count": 446,
   "metadata": {},
   "outputs": [],
   "source": [
    "# for index in range(1):\n",
    "#     L_true = true_data_all_test[index,1,0]*0.8 - 1.96\n",
    "#     U_true = true_data_all_test[index,1,0]*0.8 + 1.96\n",
    "\n",
    "#     L_model = L_star_model[index,0,0]\n",
    "#     U_model = U_star_model[index,0,0]\n",
    "\n",
    "#     L_scp = L_star_scp[index,0,0]\n",
    "#     U_scp = U_star_scp[index,0,0]\n",
    "\n",
    "#     L_both = L_star_both[index,0,0]\n",
    "#     U_both = U_star_both[index,0,0]\n",
    "\n",
    "#     L_each = L_star_each[index,0,0]\n",
    "#     U_each = U_star_each[index,0,0]\n",
    "#     # 定義區間的上下界和名稱\n",
    "#     intervals = {\n",
    "#         'True': (L_true, U_true),\n",
    "#         'Model': (L_model, U_model),\n",
    "#         'SCP': (L_scp, U_scp),\n",
    "#         'Cal_both': (L_both, U_both),\n",
    "#         'Cal_each': (L_each, U_each)\n",
    "#     }\n",
    "\n",
    "#     # 調整圖形去掉 y 軸的那條線\n",
    "#     plt.figure(figsize=(8, 4))\n",
    "\n",
    "#     # 繪製區間線條和圓點\n",
    "#     for i, (label, (start, end)) in enumerate(intervals.items()):\n",
    "#         k = len(intervals) - i - 1\n",
    "#         plt.plot([start, end], [k, k], marker='|', markersize=8)  # 繪製線和端點\n",
    "#         plt.text(-8, k, label, va='center', ha='right', fontsize=20)  # 左側對齊區間名稱\n",
    "\n",
    "#     # 隱藏 y 軸\n",
    "#     plt.gca().yaxis.set_visible(False)  # 隱藏 y 軸的數值\n",
    "#     # plt.gca().spines['left'].set_visible(False)  # 隱藏 y 軸的線\n",
    "\n",
    "#     # 添加 x 軸網格線\n",
    "#     plt.grid(True, axis='x', linestyle='--', alpha=0.6)\n",
    "\n",
    "#     # 調整 x 軸範圍\n",
    "#     plt.xlim(-10, 10)\n",
    "#     plt.ylim(-1, len(intervals))  # 調整 y 軸範圍（實際上不顯示）\n",
    "\n",
    "#     # 設定標題\n",
    "#     plt.title('')\n",
    "\n",
    "#     plt.tight_layout()\n",
    "#     plt.show()\n"
   ]
  },
  {
   "cell_type": "markdown",
   "metadata": {},
   "source": [
    "### Distribution per test data"
   ]
  },
  {
   "cell_type": "code",
   "execution_count": 447,
   "metadata": {},
   "outputs": [],
   "source": [
    "\n",
    "# index = 0\n",
    "\n",
    "# # 第一部分：畫出 Normal Distribution\n",
    "# mean = true_data_all_test[index,1,0].flatten()*0.8  # 設定平均值\n",
    "# std_dev = 1  # 設定標準差\n",
    "\n",
    "# x = np.linspace(mean - 4*std_dev, mean + 4*std_dev, 1000)  # X 軸範圍\n",
    "# y = norm.pdf(x, mean, std_dev)  # 使用正態分佈的概率密度函數 (PDF)\n",
    "\n",
    "# # 第二部分：畫出 Histogram\n",
    "# data = pred_data_test[:,index,0,0].flatten()  # 假設的隨機數據，符合標準正態分佈\n",
    "\n",
    "# # 繪製圖形\n",
    "# plt.figure(figsize=(8, 4))\n",
    "\n",
    "# # 畫出正態分佈曲線\n",
    "# plt.plot(x, y, label='Conditional Distribution of Test Data', color='blue', alpha=0.5)  # 添加透明度\n",
    "\n",
    "# # 畫出直方圖\n",
    "# plt.hist(data, bins=20, density=True, alpha=0.6, label='Histogram of Predictions', color='orange')\n",
    "\n",
    "# # 添加垂直線在平均值位置\n",
    "# plt.axvline(x=true_data_test[index,0,0], color='blue', linestyle='--', label='Test Data')\n",
    "\n",
    "\n",
    "# # 設置標題和標籤\n",
    "# plt.title('')\n",
    "# plt.xlabel('')\n",
    "# plt.ylabel('')\n",
    "# plt.legend()\n",
    "\n",
    "# # 顯示圖形\n",
    "# plt.tight_layout()\n",
    "# plt.show()\n"
   ]
  },
  {
   "cell_type": "markdown",
   "metadata": {},
   "source": [
    "## Intervals per test data"
   ]
  },
  {
   "cell_type": "code",
   "execution_count": 448,
   "metadata": {},
   "outputs": [
    {
     "data": {
      "text/plain": [
       "3"
      ]
     },
     "execution_count": 448,
     "metadata": {},
     "output_type": "execute_result"
    }
   ],
   "source": [
    "true_data_all_test.shape[1]"
   ]
  },
  {
   "cell_type": "code",
   "execution_count": 449,
   "metadata": {},
   "outputs": [
    {
     "data": {
      "text/plain": [
       "{'True': (-2.497222778396311, 1.422777221603689),\n",
       " 'EQPI': (-5.323402512073517, -1.5924087494611754),\n",
       " 'CPI_B': (-8.265965863301068, 1.350154601766376),\n",
       " 'CPI_E': (-2.6574403983717847, 1.701033356499164),\n",
       " 'SCP': (-8.175932251412867, 1.585316025216577)}"
      ]
     },
     "execution_count": 449,
     "metadata": {},
     "output_type": "execute_result"
    }
   ],
   "source": [
    "intervals"
   ]
  },
  {
   "cell_type": "code",
   "execution_count": 450,
   "metadata": {},
   "outputs": [
    {
     "data": {
      "image/png": "[encoded data removed]",
      "text/plain": [
       "<Figure size 432x432 with 2 Axes>"
      ]
     },
     "metadata": {
      "needs_background": "light"
     },
     "output_type": "display_data"
    }
   ],
   "source": [
    "index = 0\n",
    "pre_lag1 = 1 # position index of T-1 \n",
    "\n",
    "# 資料準備 ----------------\n",
    "# 第一張圖資料準備：上\n",
    "## 常態分佈\n",
    "mean = true_data_all_test[index, pre_lag1, 0].flatten() * 0.8\n",
    "std_dev = 1\n",
    "x = np.linspace(mean - 4*std_dev, mean + 4*std_dev, 1000)\n",
    "y = norm.pdf(x, mean, std_dev)\n",
    "\n",
    "## 直方圖\n",
    "data = pred_data_test[:, index, 0, 0].flatten()\n",
    "\n",
    "# 第二張圖資料準備：下\n",
    "L_true = true_data_all_test[index,pre_lag1,0]*0.8 - 1.96\n",
    "U_true = true_data_all_test[index,pre_lag1,0]*0.8 + 1.96\n",
    "\n",
    "L_model = L_star_model[index,0,0]\n",
    "U_model = U_star_model[index,0,0]\n",
    "\n",
    "L_scp = L_star_scp[index,0,0]\n",
    "U_scp = U_star_scp[index,0,0]\n",
    "\n",
    "L_both = L_star_both[index,0,0]\n",
    "U_both = U_star_both[index,0,0]\n",
    "\n",
    "L_each = L_star_each[index,0,0]\n",
    "U_each = U_star_each[index,0,0]\n",
    "\n",
    "intervals = {\n",
    "    'True': (L_true, U_true),\n",
    "    'EQPI': (L_model, U_model),\n",
    "    'CPI_B': (L_both, U_both),\n",
    "    'CPI_E': (L_each, U_each),\n",
    "    'SCP': (L_scp, U_scp)\n",
    "}\n",
    "\n",
    "\n",
    "# 畫圖 ----------------\n",
    "\n",
    "# 创建 subplot 网格，1 行 2 列，共享 x 轴\n",
    "fig, (ax1, ax2) = plt.subplots(2, 1, figsize=(6, 6), sharex=True, gridspec_kw={'height_ratios': [1.5, 1]})\n",
    "# 設定顏色\n",
    "colors = ['tab:red', 'tab:orange', 'tab:purple', 'tab:blue', 'tab:green']  # 颜色列表\n",
    "# 找最小的 x for 第二張圖的 text\n",
    "# x_min = min([min(x), np.min(data)] + [item[0] for item in intervals.values()])\n",
    "x_min = -8.5\n",
    "# 第一張圖：绘制正态分布曲线和直方图\n",
    "ax1.plot(x, y, label='True Cond. Dist. of Test Data', color=colors[0], alpha=1)\n",
    "# ax1.axvline(x=true_data_test[index, 0, 0], color=colors[0], linestyle='--', label='Test Data')\n",
    "ax1.hist(data, bins=20, density=True, alpha=0.6, label='Histogram of Predictions', color=colors[1])\n",
    "ax1.set_ylim(0, 1)# 设置 y 轴范围\n",
    "ax1.set_xlim(-8.5, 8.5)# 设置 y 轴范围\n",
    "\n",
    "# 第一張圖調整\n",
    "ax1.xaxis.tick_bottom()  # 将 x 轴刻度保持在底部\n",
    "ax1.set_xlabel('')\n",
    "ax1.tick_params(axis='x', which='both', bottom=True, top=False, labelbottom=True, labelsize=14)  # 显示 x 轴刻度\n",
    "ax1.tick_params(axis='y', which='both', left=True, right=False, labelleft=True, labelsize=14)\n",
    "\n",
    "# ax1.legend(frameon=False, fancybox=True, facecolor='none', fontsize = 12, loc = 'upper left')\n",
    "\n",
    "\n",
    "# 第二張圖：畫 intervals\n",
    "for i, (label, (start, end)) in enumerate(intervals.items()):\n",
    "    k = 0.5*(len(intervals) - i - 1)\n",
    "    ax2.plot([start, end], [k, k], marker='|', markersize=8, color = colors[i], lw = 2.5)\n",
    "    ax2.text(x_min-0.5, k, label, va='center', ha='right', fontsize=20)\n",
    "\n",
    "# 第二張圖調整\n",
    "ax2.set_ylim(-0.3, 2.3)\n",
    "for spine in ax2.spines.values():\n",
    "    spine.set_visible(False)\n",
    "ax2.yaxis.set_visible(False)\n",
    "ax2.xaxis.set_visible(False)\n",
    "\n",
    "# 调整子图间的垂直间距\n",
    "plt.subplots_adjust(hspace=0.1)  # 设置子图的垂直间距为0\n",
    "\n",
    "# 添加图例\n",
    "plt.tight_layout()\n",
    "\n",
    "# 保存图形\n",
    "filename = 'PI_'+interval_case+'.png'\n",
    "path = os.path.join(folder+foldername, filename)\n",
    "plt.savefig(path, dpi=300, bbox_inches='tight')\n",
    "\n",
    "# show\n",
    "plt.show()"
   ]
  },
  {
   "cell_type": "markdown",
   "metadata": {},
   "source": [
    "## Average length"
   ]
  },
  {
   "cell_type": "code",
   "execution_count": 451,
   "metadata": {},
   "outputs": [
    {
     "data": {
      "image/png": "[encoded data removed]",
      "text/plain": [
       "<Figure size 432x288 with 1 Axes>"
      ]
     },
     "metadata": {
      "needs_background": "light"
     },
     "output_type": "display_data"
    }
   ],
   "source": [
    "len_model = U_star_model - L_star_model\n",
    "\n",
    "len_scp =  U_star_scp - L_star_scp\n",
    "\n",
    "len_both = U_star_both - L_star_both\n",
    "\n",
    "len_each = U_star_each - L_star_each\n",
    "\n",
    "# 將數據存入列表中，準備繪製 boxplot\n",
    "data = [len_model.flatten(), len_both.flatten(), len_each.flatten(), len_scp.flatten()]\n",
    "\n",
    "colors = ['tab:orange', 'tab:purple', 'tab:blue', 'tab:green']  # 颜色列表\n",
    "\n",
    "# 創建一個圖，並繪製 boxplot\n",
    "plt.figure(figsize=(6, 4))\n",
    "box = plt.boxplot(data, patch_artist=True)\n",
    "\n",
    "for patch, color in zip(box['boxes'], colors):\n",
    "    patch.set_facecolor(color)\n",
    "\n",
    "# 添加標籤\n",
    "plt.xticks([1, 2, 3, 4], ['EQPI', 'CPI_B', 'CPI_E', 'SCP'], fontsize = 20)\n",
    "plt.yticks(fontsize = 14)\n",
    "plt.ylabel('')\n",
    "plt.title('')\n",
    "plt.tight_layout()\n",
    "plt.ylim(0,12)\n",
    "\n",
    "# 保存图形\n",
    "filename = 'AvgLen_'+interval_case+'.png'\n",
    "path = os.path.join(folder+foldername, filename)\n",
    "plt.savefig(path, dpi=300, bbox_inches='tight')\n",
    "# show \n",
    "plt.show()"
   ]
  },
  {
   "cell_type": "markdown",
   "metadata": {},
   "source": [
    "## Coverage rate"
   ]
  },
  {
   "cell_type": "code",
   "execution_count": 452,
   "metadata": {},
   "outputs": [
    {
     "data": {
      "image/png": "[encoded data removed]",
      "text/plain": [
       "<Figure size 432x288 with 1 Axes>"
      ]
     },
     "metadata": {
      "needs_background": "light"
     },
     "output_type": "display_data"
    }
   ],
   "source": [
    "# 創建四個值對應 'Model', 'SCP', 'Cal_both', 'Cal_each'\n",
    "values = [CR_test_model.item(), CR_test_both.item(), CR_test_each.item(), CR_test_scp.item()]  # 這裡假設一些示範數據值\n",
    "labels = ['EQPI', 'CPI_B', 'CPI_E', 'SCP']\n",
    "\n",
    "# 繪製長條圖，使用四個不同的顏色\n",
    "colors = ['tab:orange', 'tab:purple', 'tab:blue', 'tab:green']  # 颜色列表\n",
    "\n",
    "plt.figure(figsize=(6, 4))\n",
    "plt.bar(labels, values, color=colors, width=0.4)  # 調整 bar 的寬度\n",
    "\n",
    "# 添加紅色和黑色的水平線\n",
    "plt.axhline(y=0.95, color='red', linestyle='--', label='y=0.95')\n",
    "# plt.axhline(y=1, color='black', linestyle='--', label='y=1')\n",
    "\n",
    "# 添加数值在柱状图上方，并放置在红线附近\n",
    "for i, value in enumerate(values):\n",
    "    plt.text(i, values[i] + 0.02, f'{value:.2f}', ha='center', fontsize=14, color='black')\n",
    "\n",
    "\n",
    "# 設定 y 軸範圍\n",
    "plt.ylim(0, 1.2)\n",
    "\n",
    "# 添加標籤和標題\n",
    "plt.ylabel('')\n",
    "plt.yticks(fontsize = 14)\n",
    "plt.xticks(fontsize = 20)\n",
    "plt.title('')\n",
    "plt.tight_layout()\n",
    "\n",
    "# 保存图形\n",
    "filename = 'CR_'+interval_case+'.png'\n",
    "path = os.path.join(folder+foldername, filename)\n",
    "plt.savefig(path, dpi=300, bbox_inches='tight')\n",
    "\n",
    "# show\n",
    "plt.show()"
   ]
  },
  {
   "cell_type": "code",
   "execution_count": null,
   "metadata": {},
   "outputs": [],
   "source": []
  }
 ],
 "metadata": {
  "kernelspec": {
   "display_name": "pt_fan",
   "language": "python",
   "name": "python3"
  },
  "language_info": {
   "codemirror_mode": {
    "name": "ipython",
    "version": 3
   },
   "file_extension": ".py",
   "mimetype": "text/x-python",
   "name": "python",
   "nbconvert_exporter": "python",
   "pygments_lexer": "ipython3",
   "version": "3.9.7"
  }
 },
 "nbformat": 4,
 "nbformat_minor": 2
}
