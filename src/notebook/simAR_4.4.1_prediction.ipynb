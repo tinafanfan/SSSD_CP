{
 "cells": [
  {
   "cell_type": "code",
   "execution_count": 3,
   "metadata": {},
   "outputs": [],
   "source": [
    "import os\n",
    "import numpy as np\n",
    "import pandas as pd\n",
    "from matplotlib import pyplot as plt\n",
    "from datetime import datetime, timedelta\n",
    "\n",
    "# 自訂 function 可重新 reload\n",
    "from importlib import reload\n",
    "import sys # 到其他資料夾\n",
    "sys.path.append('/home/hchuang/Documents/Project/SSSD_CP/src')\n",
    "from utils import util_inference_result\n",
    "reload(util_inference_result)\n",
    "from utils.util_inference_result import *\n",
    "\n",
    "from sklearn.metrics import mean_squared_error"
   ]
  },
  {
   "cell_type": "markdown",
   "metadata": {},
   "source": [
    "# Set path"
   ]
  },
  {
   "cell_type": "code",
   "execution_count": 4,
   "metadata": {},
   "outputs": [],
   "source": [
    "main_folder = '/home/hchuang/Documents/Project/SSSD_CP/src/results/ar1/'\n",
    "\n",
    "# 設定 1  T=3\n",
    "# sub_folder = 'ar1-6/T200_beta00.0001_betaT0.02/imputaiton_multiple_40k_test/' # M = 100\n",
    "# sub_folder = 'ar1-6/T200_beta00.0001_betaT0.02/imputaiton_multiple_40k/' # M = 1000\n",
    "\n",
    "# 設定 2  T=10\n",
    "# sub_folder = 'ar1-4/T200_beta00.0001_betaT0.02/imputaiton_multiple_40k_test/' # M = 100\n",
    "sub_folder = 'ar1-4/T200_beta00.0001_betaT0.02/imputaiton_multiple_40k/' # M = 1000\n",
    "\n",
    "\n",
    "# 設定 2  T=100\n",
    "# sub_folder = 'ar1-5/T200_beta00.0001_betaT0.02/imputaiton_multiple_10k_test/' # M = 100\n",
    "sub_folder = 'ar1-5/T200_beta00.0001_betaT0.02/imputaiton_multiple_10k/' # M = 1000\n"
   ]
  },
  {
   "cell_type": "markdown",
   "metadata": {},
   "source": [
    "# Read data and Calculate metrics\n",
    "\n",
    "The metrics are shown in the thesis 4.4.1"
   ]
  },
  {
   "cell_type": "code",
   "execution_count": null,
   "metadata": {},
   "outputs": [],
   "source": [
    "def metric_1(var1, var2):\n",
    "    # output: metric 1 and its standard error\n",
    "    var1 = var1.ravel()\n",
    "    var2 = var2.ravel()\n",
    "    stat = ((var1 - var2)**2)\n",
    "    return round(mean_squared_error(var1, var2),5), round(np.std(stat),5)\n",
    "\n",
    "def metric_2(var1):\n",
    "    var1 = var1.ravel()\n",
    "    stat = ((var1 - 1)**2)\n",
    "    return round(np.mean(stat),5), round(np.std(stat),5)\n",
    "\n",
    "def metric_3(var1):\n",
    "    var1 = var1.ravel()\n",
    "    stat = var1 - 1\n",
    "    return round(np.mean(var1) - 1,5), round(np.std(stat),5)\n",
    "\n"
   ]
  },
  {
   "cell_type": "code",
   "execution_count": null,
   "metadata": {},
   "outputs": [
    {
     "name": "stdout",
     "output_type": "stream",
     "text": [
      "metric 1 = E[(p-0.8*y_T-1)^2] = (0.24385, 0.3371)\n",
      "metric 2 = E[var(\\hat(y))] = (-0.95221, 0.01803)\n"
     ]
    }
   ],
   "source": [
    "data = np.load(main_folder + sub_folder + 'original0.npy')\n",
    "\n",
    "last_pred = np.expand_dims(np.empty(data.shape), axis = 0)\n",
    "\n",
    "for i in range(1000):\n",
    "    pred = np.load(main_folder + sub_folder + str(i) + '_imputation0.npy')\n",
    "    pred = np.expand_dims(pred, axis = 0)\n",
    "    last_pred = np.vstack((last_pred, pred))\n",
    "\n",
    "\n",
    "last_pred = last_pred[1:(last_pred.shape[0]+1),:,:,:]\n",
    "p = np.mean(last_pred[:,:,:,-1], axis = 0)   \n",
    "v = np.var(last_pred[:,:,:,-1], axis = 0)\n",
    "\n",
    "a = p\n",
    "b = data[:,:,-2].reshape(-1) # y_{T-1}\n",
    "c = data[:,:,-1].reshape(-1) # y_{T}\n",
    "\n",
    "print(f'metric 1 = MSE of Exp = {metric_1(a, b*0.8)}')\n",
    "print(f'metric 2 = MSE of Var = {metric_2(v)}')\n",
    "print(f'metric 3 = Bias of Var = {metric_3(v)}')"
   ]
  }
 ],
 "metadata": {
  "kernelspec": {
   "display_name": "pt_fan",
   "language": "python",
   "name": "python3"
  },
  "language_info": {
   "codemirror_mode": {
    "name": "ipython",
    "version": 3
   },
   "file_extension": ".py",
   "mimetype": "text/x-python",
   "name": "python",
   "nbconvert_exporter": "python",
   "pygments_lexer": "ipython3",
   "version": "3.9.7"
  }
 },
 "nbformat": 4,
 "nbformat_minor": 2
}
