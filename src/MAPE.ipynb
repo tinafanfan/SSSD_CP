{
 "cells": [
  {
   "cell_type": "code",
   "execution_count": 46,
   "metadata": {},
   "outputs": [],
   "source": [
    "import os\n",
    "import numpy as np\n",
    "import pandas as pd\n",
    "from matplotlib import pyplot as plt\n",
    "from datetime import datetime, timedelta"
   ]
  },
  {
   "cell_type": "code",
   "execution_count": 47,
   "metadata": {},
   "outputs": [],
   "source": [
    "# 自訂 function 可重新 reload\n",
    "from importlib import reload\n",
    "from utils import util_inference_result\n",
    "reload(util_inference_result)\n",
    "from utils.util_inference_result import *"
   ]
  },
  {
   "cell_type": "code",
   "execution_count": 83,
   "metadata": {},
   "outputs": [],
   "source": [
    "# 4_mix\n",
    "main_folder = '/home/hchuang/Documents/Project/SSSD_CP/src/'\n",
    "result_folder = 'results/NYISO_4/NYISO_4_mix/T200_beta00.0001_betaT0.02/imputaiton_multiple_20k/'\n",
    "dataset_folder = 'datasets/NYISO/dataset_4/mix/'\n",
    "dataset_filename = 'load_array_mix_test.npy'\n",
    "\n",
    "# 4_all\n",
    "# main_folder = '/home/hchuang/Documents/Project/SSSD_CP/src/'\n",
    "# result_folder = 'results/NYISO_4/NYISO_4_all/T200_beta00.0001_betaT0.02/imputaiton_multiple_20k/'\n",
    "# dataset_folder = 'datasets/NYISO/dataset_4/all/'\n",
    "# dataset_filename = 'load_array_all_test.npy'\n",
    "\n",
    "# zone\n",
    "# zone_name = ['CAPITL', 'CENTRL', 'DUNWOD', 'GENESE', 'HUD VL', \n",
    "#              'LONGIL', 'MHK VL', 'MILLWD', 'N.Y.C.', 'NORTH', \n",
    "#              'WEST']\n",
    "# zone_index = 2\n",
    "\n",
    "# main_folder = '/home/hchuang/Documents/Project/SSSD_CP/src/'\n",
    "# result_folder = 'results/NYISO_4/Zone/NYISO_4_'+ zone_name[zone_index] + '/T200_beta00.0001_betaT0.02/imputaiton_multiple_20k/'\n",
    "# dataset_folder = 'datasets/NYISO/dataset_4/zone/'\n",
    "# dataset_filename = zone_name[zone_index] + '_test.npy'\n",
    "\n"
   ]
  },
  {
   "cell_type": "code",
   "execution_count": 84,
   "metadata": {},
   "outputs": [
    {
     "name": "stdout",
     "output_type": "stream",
     "text": [
      "0.010573688\n",
      "-1.1636393\n",
      "-1.1682571\n",
      "0.010573688\n",
      "-1.1636393\n",
      "-1.1682571\n"
     ]
    }
   ],
   "source": [
    "print(np.std(pred_data[0:10,0,:,0]))\n",
    "print(np.mean(pred_data[0:10,0,:,0]))\n",
    "print(np.median(pred_data[0:10,0,:,0]))\n",
    "\n",
    "\n",
    "print(np.std(pred_data[:,0,:,0]))\n",
    "print(np.mean(pred_data[:,0,:,0]))\n",
    "print(np.median(pred_data[:,0,:,0]))"
   ]
  },
  {
   "cell_type": "code",
   "execution_count": 85,
   "metadata": {},
   "outputs": [
    {
     "name": "stdout",
     "output_type": "stream",
     "text": [
      "(5, 803, 1, 24)\n",
      "(803, 1, 24)\n",
      "(803, 1, 192)\n",
      "(803, 1, 24)\n",
      "(803, 1, 192)\n",
      "(803, 1, 168)\n",
      "(803, 1, 24)\n"
     ]
    }
   ],
   "source": [
    "pred_data = read_multiple_imputations(main_folder + result_folder, 24)\n",
    "print(pred_data.shape)\n",
    "\n",
    "if len(pred_data.shape)==4: # 讀取 inference_multiples.py 的結果 len = 4; inference.py 則是 3\n",
    "    pred_mean = np.mean(pred_data, axis = 0)\n",
    "    pred_median = np.median(pred_data, axis = 0)\n",
    "    print(pred_mean.shape)\n",
    "else:    \n",
    "    pred_data_target = pred_data[:,:,:,-24:].reshape(pred_data.shape[1],1,24)\n",
    "    print(pred_data_target.shape)\n",
    "\n",
    "file_path = os.path.join(main_folder + result_folder, 'original0.npy')\n",
    "true_data = np.load(file_path)\n",
    "print(true_data.shape)\n",
    "true_data_target = true_data[:,:,-24:]\n",
    "print(true_data_target.shape)\n",
    "\n",
    "file_path = os.path.join(main_folder + dataset_folder, dataset_filename)\n",
    "true_data_o = np.swapaxes(np.load(file_path), axis1=1, axis2=2)\n",
    "print(true_data_o.shape)\n",
    "\n",
    "true_data_o_cond = true_data_o[:,:,0:168]\n",
    "print(true_data_o_cond.shape)\n",
    "true_data_o_target = true_data_o[:,:,-24:]\n",
    "print(true_data_o_target.shape)"
   ]
  },
  {
   "cell_type": "code",
   "execution_count": 86,
   "metadata": {},
   "outputs": [
    {
     "name": "stdout",
     "output_type": "stream",
     "text": [
      "NYISO_4\n",
      "median MAPE: 3.34\n",
      "MAPE: 3.3948\n",
      "MSE: 0.1584\n"
     ]
    }
   ],
   "source": [
    "# 因應使用 z normalization or range normalization，需使用不同的 resacle\n",
    "if 'NYISO_4' in result_folder:\n",
    "    print('NYISO_4')\n",
    "    m = np.mean(true_data_o_cond, axis=2).reshape((pred_mean.shape[0], pred_mean.shape[1], 1))\n",
    "    s = np.std(true_data_o_cond, axis=2).reshape((pred_mean.shape[0], pred_mean.shape[1], 1))\n",
    "\n",
    "    pred_mean_o = pred_mean*s + m\n",
    "    pred_median_o = pred_median*s + m\n",
    "\n",
    "    print(f'median MAPE: {round(np.mean(abs((true_data_o_target - pred_median_o))/true_data_o_target)*100,2)}')\n",
    "    print(f'MAPE: {round(np.mean(abs((true_data_o_target - pred_mean_o))/true_data_o_target)*100,4)}')\n",
    "    print(f'MSE: {round(np.mean(np.square(true_data_target - pred_mean))*1,4)}')\n",
    "    \n",
    "elif 'NYISO_5' in result_folder:  \n",
    "    print('NYISO_5')\n",
    "    min_value = np.min(true_data_o_cond, axis=2).reshape((pred_mean.shape[0], pred_mean.shape[1], 1))\n",
    "    max_value = np.max(true_data_o_cond, axis=2).reshape((pred_mean.shape[0], pred_mean.shape[1], 1))\n",
    "\n",
    "    pred_mean_o = pred_mean*(max_value - min_value) + min_value\n",
    "    pred_median_o = pred_median*(max_value - min_value) + min_value\n",
    "\n",
    "    print(f'median MAPE: {round(np.mean(abs((true_data_o_target - pred_median_o))/true_data_o_target)*100,2)}')\n",
    "    print(f'MAPE: {round(np.mean(abs((true_data_o_target - pred_mean_o))/true_data_o_target)*100,4)}')\n",
    "    print(f'MSE: {round(np.mean(np.square(true_data_target - pred_mean))*1,4)}')"
   ]
  },
  {
   "cell_type": "code",
   "execution_count": 69,
   "metadata": {},
   "outputs": [],
   "source": [
    "zone_name = ['CAPITL', 'CENTRL', 'DUNWOOD', 'GENESE', 'HUD VL', 'LONGIL', 'MHK VL', \n",
    "             'MILLWD', 'N.Y.C.', 'NORTH', 'WEST']\n",
    "if 'mix' in dataset_filename:\n",
    "    print('mix')\n",
    "    # mix 資料集看單一個 zone\n",
    "    for i in range(11):\n",
    "        num = int(true_data_o_target.shape[0]/11)\n",
    "        zone_obs_num = range(num*(i), num*(i+1))\n",
    "        print(f'{i} MAPE: {round(np.mean(abs((true_data_o_target[zone_obs_num,:,:] - pred_mean_o[zone_obs_num,:,:])/true_data_o_target[zone_obs_num,:,:]))*100,4)}')\n",
    "        # print(f'MSE: {round(np.mean(np.square(true_data_target[:,i,:] - pred_mean[:,i,:]))*1,4)}')\n",
    "if dataset_filename[:3]=='all' or dataset_filename[11:14]=='all':\n",
    "    print('all')\n",
    "    # all 資料集看單一個 zone\n",
    "    for i in range(11):\n",
    "        median_MAPE = round(np.mean(abs((true_data_o_target[:,i,:] - pred_median_o[:,i,:])/true_data_o_target[:,i,:]))*100,2)\n",
    "        MAPE = round(np.mean(abs((true_data_o_target[:,i,:] - pred_mean_o[:,i,:])/true_data_o_target[:,i,:]))*100,4)\n",
    "        MSE = round(np.mean(np.square(true_data_target[:,i,:] - pred_mean[:,i,:]))*1,4)\n",
    "        print(f'{zone_name[i]}: median MAPE = {median_MAPE} MAPE = {MAPE}  MSE = {MSE}')\n",
    "        "
   ]
  },
  {
   "cell_type": "markdown",
   "metadata": {},
   "source": [
    "# Select which pkl\n",
    "\n",
    "compare each imputation generated from different pkl"
   ]
  },
  {
   "cell_type": "code",
   "execution_count": 25,
   "metadata": {},
   "outputs": [
    {
     "name": "stdout",
     "output_type": "stream",
     "text": [
      "MAPE: 3.5904037804097957\n",
      "MAPE: 2.898665800129504\n",
      "MAPE: 2.8213715364070935\n",
      "MAPE: 2.744114768133877\n",
      "MAPE: 2.634120765526516\n",
      "MAPE: 2.580837563737816\n",
      "MAPE: 2.5700620774130165\n",
      "MAPE: 2.5964068438556995\n",
      "MAPE: 2.5493624462224145\n"
     ]
    }
   ],
   "source": [
    "main_folder = '/home/hchuang/Documents/Project/SSSD_CP/src/'\n",
    "result_folder = 'results/NYISO_mix/T200_beta00.0001_betaT0.02/compare_pkl_test_data_1/'\n",
    "dataset_folder = 'datasets/NYISO/dataset_2/mix/'\n",
    "dataset_filename = 'mix_test_data_1.npy'\n",
    "\n",
    "pred_data = read_multiple_imputations(main_folder + result_folder, 24)\n",
    "\n",
    "file_path = os.path.join(main_folder + result_folder, 'original0.npy')\n",
    "true_data = np.load(file_path)\n",
    "true_data_target = true_data[:,:,-24:]\n",
    "\n",
    "file_path = os.path.join(main_folder + dataset_folder, dataset_filename)\n",
    "true_data_o = np.swapaxes(np.load(file_path), axis1=1, axis2=2)\n",
    "\n",
    "true_data_o_cond = true_data_o[:,:,0:168]\n",
    "true_data_o_target = true_data_o[:,:,-24:]\n",
    "\n",
    "m = np.mean(true_data_o_cond, axis=2).reshape((true_data_o_cond.shape[0], 1, 1))\n",
    "s = np.std(true_data_o_cond, axis=2).reshape((true_data_o_cond.shape[0], 1, 1))\n",
    "\n",
    "# for i in range(17):\n",
    "for i in [0,1,2,3,9,13,14,15,16]:    \n",
    "    num = i+1\n",
    "    file_name = str(num) + '0_imputation0.npy'\n",
    "    file_path = os.path.join(main_folder + result_folder, file_name)\n",
    "    pred_each = np.load(file_path)\n",
    "    pred_each = pred_each[:,:,-24:]\n",
    "    # pred_each = pred_data[i,:,:,:].reshape(pred_data.shape[1],pred_data.shape[2],pred_data.shape[3])\n",
    "\n",
    "    pred_data_rescale = pred_each*s + m\n",
    "    print(f'MAPE: {np.mean(abs((true_data_o_target - pred_data_rescale)/true_data_o_target))*100}')\n"
   ]
  },
  {
   "cell_type": "code",
   "execution_count": null,
   "metadata": {},
   "outputs": [],
   "source": []
  },
  {
   "cell_type": "markdown",
   "metadata": {},
   "source": [
    "# mix data 對應到 zone\n"
   ]
  },
  {
   "cell_type": "code",
   "execution_count": 27,
   "metadata": {},
   "outputs": [
    {
     "name": "stdout",
     "output_type": "stream",
     "text": [
      "(22, 1, 192)\n"
     ]
    }
   ],
   "source": [
    "dataset_folder = 'datasets/NYISO/dataset_2/mix/'\n",
    "dataset_filename = 'mix_test_data_0_stdd.npy'\n",
    "file_path = os.path.join(main_folder + dataset_folder, dataset_filename)\n",
    "true_data = np.swapaxes(np.load(file_path), axis1=1, axis2=2)\n",
    "print(true_data.shape)"
   ]
  },
  {
   "cell_type": "code",
   "execution_count": 38,
   "metadata": {},
   "outputs": [
    {
     "name": "stdout",
     "output_type": "stream",
     "text": [
      "(2, 1, 192)\n"
     ]
    }
   ],
   "source": [
    "dataset_folder = 'datasets/NYISO/dataset_2/zone/'\n",
    "dataset_filename = 'WEST_test_data_0_stdd.npy'\n",
    "file_path = os.path.join(main_folder + dataset_folder, dataset_filename)\n",
    "zone_true_data = np.swapaxes(np.load(file_path), axis1=1, axis2=2)\n",
    "print(zone_true_data.shape)"
   ]
  },
  {
   "cell_type": "code",
   "execution_count": 39,
   "metadata": {},
   "outputs": [
    {
     "name": "stdout",
     "output_type": "stream",
     "text": [
      "[-0.84438167 -0.98628458]\n",
      "[-0.84438167 -0.98628458]\n"
     ]
    }
   ],
   "source": [
    "print(true_data[20:22,0,0])\n",
    "print(zone_true_data[0:2,0,0])"
   ]
  },
  {
   "cell_type": "code",
   "execution_count": null,
   "metadata": {},
   "outputs": [],
   "source": []
  },
  {
   "cell_type": "code",
   "execution_count": 12,
   "metadata": {},
   "outputs": [
    {
     "data": {
      "text/plain": [
       "0"
      ]
     },
     "execution_count": 12,
     "metadata": {},
     "output_type": "execute_result"
    }
   ],
   "source": [
    "2%1"
   ]
  },
  {
   "cell_type": "code",
   "execution_count": 24,
   "metadata": {},
   "outputs": [
    {
     "name": "stdout",
     "output_type": "stream",
     "text": [
      "0\n",
      "1\n",
      "2\n"
     ]
    }
   ],
   "source": [
    "n_iter = 0\n",
    "while n_iter < 3:\n",
    "    # print(n_iter)\n",
    "    print(n_iter)\n",
    "    for i in range(2):\n",
    "        i+i\n",
    "        # print(n_iter)\n",
    "    n_iter += 1\n",
    "    "
   ]
  },
  {
   "cell_type": "code",
   "execution_count": 7,
   "metadata": {},
   "outputs": [
    {
     "data": {
      "text/plain": [
       "10"
      ]
     },
     "execution_count": 7,
     "metadata": {},
     "output_type": "execute_result"
    }
   ],
   "source": []
  },
  {
   "cell_type": "code",
   "execution_count": null,
   "metadata": {},
   "outputs": [],
   "source": []
  }
 ],
 "metadata": {
  "kernelspec": {
   "display_name": "pt_fan",
   "language": "python",
   "name": "python3"
  },
  "language_info": {
   "codemirror_mode": {
    "name": "ipython",
    "version": 3
   },
   "file_extension": ".py",
   "mimetype": "text/x-python",
   "name": "python",
   "nbconvert_exporter": "python",
   "pygments_lexer": "ipython3",
   "version": "3.9.7"
  }
 },
 "nbformat": 4,
 "nbformat_minor": 2
}
