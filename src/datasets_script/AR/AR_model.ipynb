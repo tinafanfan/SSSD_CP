{
 "cells": [
  {
   "cell_type": "code",
   "execution_count": 15,
   "metadata": {},
   "outputs": [],
   "source": [
    "import numpy as np\n",
    "import pandas as pd\n",
    "import matplotlib.pyplot as plt\n",
    "import statsmodels.api as sm"
   ]
  },
  {
   "cell_type": "code",
   "execution_count": 11,
   "metadata": {},
   "outputs": [],
   "source": [
    "# generate data\n",
    "np.random.seed(12345)\n",
    "arparams = np.array([.8])\n",
    "maparams = np.array([0])\n",
    "ar = np.r_[1, -arparams] # include zero-lag and use an opposite sign, see note below\n",
    "ma = np.r_[1, maparams] # include zero-lag\n",
    "y = sm.tsa.arma_generate_sample(ar, ma, nsample = 100, scale = 1) # y_{0},...\\y_{99}"
   ]
  },
  {
   "cell_type": "code",
   "execution_count": 26,
   "metadata": {},
   "outputs": [
    {
     "data": {
      "text/plain": [
       "3.9502128487251684"
      ]
     },
     "execution_count": 26,
     "metadata": {},
     "output_type": "execute_result"
    }
   ],
   "source": [
    "# 差一期的 covariance\n",
    "lagged_data = np.roll(y, 1) \n",
    "pre_processed_data = np.vstack((y, lagged_data)) \n",
    "cov_mat = np.cov(pre_processed_data)\n",
    "cov_mat[0,1]"
   ]
  },
  {
   "cell_type": "code",
   "execution_count": 3,
   "metadata": {},
   "outputs": [
    {
     "data": {
      "text/plain": [
       "[<matplotlib.lines.Line2D at 0x7f26573ddac0>]"
      ]
     },
     "execution_count": 3,
     "metadata": {},
     "output_type": "execute_result"
    },
    {
     "data": {
      "image/png": "[encoded data removed]",
      "text/plain": [
       "<Figure size 432x288 with 1 Axes>"
      ]
     },
     "metadata": {
      "needs_background": "light"
     },
     "output_type": "display_data"
    }
   ],
   "source": [
    "# plot the seires\n",
    "plt.plot(y)"
   ]
  },
  {
   "cell_type": "code",
   "execution_count": 6,
   "metadata": {},
   "outputs": [
    {
     "name": "stdout",
     "output_type": "stream",
     "text": [
      "                               SARIMAX Results                                \n",
      "==============================================================================\n",
      "Dep. Variable:                      y   No. Observations:                   98\n",
      "Model:                 ARIMA(1, 0, 0)   Log Likelihood                -142.781\n",
      "Date:                Wed, 06 Mar 2024   AIC                            291.562\n",
      "Time:                        10:53:52   BIC                            299.317\n",
      "Sample:                             0   HQIC                           294.699\n",
      "                                 - 98                                         \n",
      "Covariance Type:                  opg                                         \n",
      "==============================================================================\n",
      "                 coef    std err          z      P>|z|      [0.025      0.975]\n",
      "------------------------------------------------------------------------------\n",
      "const          0.1427      0.790      0.181      0.857      -1.406       1.691\n",
      "ar.L1          0.8683      0.052     16.623      0.000       0.766       0.971\n",
      "sigma2         1.0637      0.148      7.199      0.000       0.774       1.353\n",
      "===================================================================================\n",
      "Ljung-Box (L1) (Q):                   0.17   Jarque-Bera (JB):                 0.10\n",
      "Prob(Q):                              0.68   Prob(JB):                         0.95\n",
      "Heteroskedasticity (H):               0.77   Skew:                             0.03\n",
      "Prob(H) (two-sided):                  0.46   Kurtosis:                         3.14\n",
      "===================================================================================\n",
      "\n",
      "Warnings:\n",
      "[1] Covariance matrix calculated using the outer product of gradients (complex-step).\n"
     ]
    }
   ],
   "source": [
    "# fit model\n",
    "mod = sm.tsa.ARIMA(y[0:(len(y)-1)], order=(1, 0, 0))\n",
    "res = mod.fit()\n",
    "# summary of fitted model\n",
    "print(res.summary())"
   ]
  },
  {
   "cell_type": "code",
   "execution_count": 8,
   "metadata": {},
   "outputs": [
    {
     "data": {
      "text/plain": [
       "array([1.84829262, 1.63131067])"
      ]
     },
     "execution_count": 8,
     "metadata": {},
     "output_type": "execute_result"
    }
   ],
   "source": [
    "y[-2:] # y_{98}, y_{99}"
   ]
  },
  {
   "cell_type": "code",
   "execution_count": 9,
   "metadata": {},
   "outputs": [
    {
     "name": "stdout",
     "output_type": "stream",
     "text": [
      "1.4809222285576262\n",
      "1.2858264051243373\n",
      "1.623595304429663\n",
      "1.428499480996374\n"
     ]
    }
   ],
   "source": [
    "print((y[-2]-res.params[0])*res.params[1]) # \\hat{y}_{99}\n",
    "print((y[-2]-res.params[0])*res.params[1]*res.params[1]) # \\hat{y}_{100}\n",
    "\n",
    "print((y[-2]-res.params[0])*res.params[1]+res.params[0]) # \\hat{y}_{99}\n",
    "print((y[-2]-res.params[0])*res.params[1]*res.params[1]+res.params[0]) # \\hat{y}_{100}"
   ]
  },
  {
   "cell_type": "code",
   "execution_count": null,
   "metadata": {},
   "outputs": [],
   "source": [
    "print(res.forecast(steps=2, signal_only=True))\n",
    "print(res.forecast(steps=2, signal_only=False)) # default"
   ]
  },
  {
   "cell_type": "code",
   "execution_count": null,
   "metadata": {},
   "outputs": [],
   "source": [
    "fcast_res = res.get_forecast(steps=2, signal_only=True)\n",
    "print(fcast_res.summary_frame(alpha=0.10))"
   ]
  }
 ],
 "metadata": {
  "kernelspec": {
   "display_name": "pt_fan",
   "language": "python",
   "name": "python3"
  },
  "language_info": {
   "codemirror_mode": {
    "name": "ipython",
    "version": 3
   },
   "file_extension": ".py",
   "mimetype": "text/x-python",
   "name": "python",
   "nbconvert_exporter": "python",
   "pygments_lexer": "ipython3",
   "version": "3.9.7"
  }
 },
 "nbformat": 4,
 "nbformat_minor": 2
}
