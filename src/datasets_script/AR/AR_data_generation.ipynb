{
 "cells": [
  {
   "cell_type": "code",
   "execution_count": 30,
   "metadata": {},
   "outputs": [],
   "source": [
    "import numpy as np\n",
    "import pandas as pd\n",
    "import matplotlib.pyplot as plt\n",
    "import statsmodels.api as sm"
   ]
  },
  {
   "cell_type": "code",
   "execution_count": 31,
   "metadata": {},
   "outputs": [],
   "source": [
    "def ar1_data_generate(phi = 0.8, sigma = 1, length = 2, num_series = 1000, seed = 12345):\n",
    "\n",
    "    arparams = np.array([phi])\n",
    "    maparams = np.array([0])\n",
    "    ar = np.r_[1, -arparams] # include zero-lag and use an opposite sign, see note below\n",
    "    ma = np.r_[1, maparams] # include zero-lag\n",
    "\n",
    "    ar1_np = np.zeros((num_series, length+20, 1))\n",
    "    for i in range(num_series):\n",
    "        # generate data\n",
    "        # np.random.seed(seed+i)\n",
    "        ar1_np[i,:,0] = sm.tsa.arma_generate_sample(ar, ma, nsample = length+20, scale = sigma) # y_{0},...\\y_{99}\n",
    "    return ar1_np[:,20:,:] # 發現series前面的 variance 不是 marginal variance (\\sigma^2/(1-\\phi^2)), so burn out\n",
    "\n",
    "def range_normalization(data, num_normalized):\n",
    "    '''\n",
    "    將每一條 ts 做 normalization (x-min)/(max - min)\n",
    "    \n",
    "    input:  npy (obs, length, channel)\n",
    "    output: npy (obs, length, channel)\n",
    "    '''\n",
    "\n",
    "    obs = data.shape[0]\n",
    "    channel = data.shape[2]\n",
    "\n",
    "    min_value = np.min(data[:, 0:num_normalized, :], axis = 1).reshape(obs, 1, channel)\n",
    "    max_value = np.max(data[:, 0:num_normalized, :], axis = 1).reshape(obs, 1, channel)\n",
    "    \n",
    "    data_normalized = (data - min_value)/(max_value - min_value)\n",
    "\n",
    "    return data_normalized    "
   ]
  },
  {
   "cell_type": "code",
   "execution_count": 38,
   "metadata": {},
   "outputs": [],
   "source": [
    "num_series_train = 10000\n",
    "num_series_test = 1000\n",
    "\n",
    "length = 100"
   ]
  },
  {
   "cell_type": "code",
   "execution_count": 39,
   "metadata": {},
   "outputs": [],
   "source": [
    "train_ar1 = ar1_data_generate(phi = 0.8, sigma = 1, length = length, num_series = num_series_train, seed = 1)\n",
    "test_ar1 = ar1_data_generate(phi = 0.8, sigma = 1, length = length, num_series = num_series_test, seed = 12345)"
   ]
  },
  {
   "cell_type": "code",
   "execution_count": 40,
   "metadata": {},
   "outputs": [
    {
     "name": "stdout",
     "output_type": "stream",
     "text": [
      "(10000, 100, 1)\n",
      "(1000, 100, 1)\n"
     ]
    }
   ],
   "source": [
    "print(train_ar1.shape)\n",
    "print(test_ar1.shape)"
   ]
  },
  {
   "cell_type": "code",
   "execution_count": 41,
   "metadata": {},
   "outputs": [
    {
     "data": {
      "text/plain": [
       "[<matplotlib.lines.Line2D at 0x7f87a00aafd0>]"
      ]
     },
     "execution_count": 41,
     "metadata": {},
     "output_type": "execute_result"
    },
    {
     "data": {
      "image/png": "[encoded data removed]",
      "text/plain": [
       "<Figure size 432x288 with 1 Axes>"
      ]
     },
     "metadata": {
      "needs_background": "light"
     },
     "output_type": "display_data"
    }
   ],
   "source": [
    "plt.plot(train_ar1[3,:,0])"
   ]
  },
  {
   "cell_type": "code",
   "execution_count": 44,
   "metadata": {},
   "outputs": [
    {
     "name": "stdout",
     "output_type": "stream",
     "text": [
      "2.7509892687568236\n",
      "0.005991659143831712\n",
      "[[1.         0.65313726]\n",
      " [0.65313726 1.        ]]\n"
     ]
    }
   ],
   "source": [
    "print(np.var(train_ar1[:,0,0]))\n",
    "print(np.mean(train_ar1[:,0,0]))\n",
    "print(np.corrcoef(train_ar1[:,96,0],train_ar1[:,98,0]))"
   ]
  },
  {
   "cell_type": "code",
   "execution_count": 36,
   "metadata": {},
   "outputs": [],
   "source": [
    "np.save('/home/hchuang/Documents/Project/SSSD_CP/src/datasets/AR/train_ar1_'+str(num_series_train)+'_'+str(length)+'.npy', train_ar1)\n",
    "np.save('/home/hchuang/Documents/Project/SSSD_CP/src/datasets/AR/test_ar1_'+str(num_series_test)+'_'+str(length)+'.npy', test_ar1)"
   ]
  },
  {
   "cell_type": "code",
   "execution_count": 37,
   "metadata": {},
   "outputs": [],
   "source": [
    "# train_ar1_stdd = range_normalization(train_ar1, 99)\n",
    "# test_ar1_stdd = range_normalization(test_ar1, 99)\n",
    "\n",
    "# np.save('/home/hchuang/Documents/Project/SSSD_CP/src/datasets/AR/train_ar1_'+str(num_series_train)+'_'+str(length)+'_stdd.npy', train_ar1_stdd)\n",
    "# np.save('/home/hchuang/Documents/Project/SSSD_CP/src/datasets/AR/test_ar1_'+str(num_series_test)+'_'+str(length)+'_stdd.npy', test_ar1_stdd)"
   ]
  },
  {
   "cell_type": "code",
   "execution_count": 30,
   "metadata": {},
   "outputs": [
    {
     "data": {
      "text/plain": [
       "2.7777777777777786"
      ]
     },
     "execution_count": 30,
     "metadata": {},
     "output_type": "execute_result"
    }
   ],
   "source": [
    "1/(1-0.8*0.8) # Y_t marginal variance"
   ]
  },
  {
   "cell_type": "code",
   "execution_count": 33,
   "metadata": {},
   "outputs": [
    {
     "data": {
      "text/plain": [
       "0.0002338895081879784"
      ]
     },
     "execution_count": 33,
     "metadata": {},
     "output_type": "execute_result"
    }
   ],
   "source": [
    "np.mean(train_ar1[:,1,0])"
   ]
  },
  {
   "cell_type": "code",
   "execution_count": 18,
   "metadata": {},
   "outputs": [],
   "source": [
    "train_ar1_10000_4 = np.load('/home/hchuang/Documents/Project/SSSD_CP/src/datasets/AR/train_ar1_10000_4.npy')"
   ]
  },
  {
   "cell_type": "code",
   "execution_count": 20,
   "metadata": {},
   "outputs": [
    {
     "name": "stdout",
     "output_type": "stream",
     "text": [
      "2.7615395100995532\n",
      "-0.006418171137084506\n",
      "[[1.         0.80389288]\n",
      " [0.80389288 1.        ]]\n"
     ]
    }
   ],
   "source": [
    "data = train_ar1_10000_4\n",
    "\n",
    "print(np.var(data[:,0,0]))\n",
    "print(np.mean(data[:,0,0]))\n",
    "print(np.corrcoef(data[:,1,0],data[:,2,0]))"
   ]
  },
  {
   "cell_type": "code",
   "execution_count": 19,
   "metadata": {},
   "outputs": [
    {
     "data": {
      "text/plain": [
       "[<matplotlib.lines.Line2D at 0x7f87a00f75e0>]"
      ]
     },
     "execution_count": 19,
     "metadata": {},
     "output_type": "execute_result"
    },
    {
     "data": {
      "image/png": "[encoded data removed]",
      "text/plain": [
       "<Figure size 432x288 with 1 Axes>"
      ]
     },
     "metadata": {
      "needs_background": "light"
     },
     "output_type": "display_data"
    }
   ],
   "source": [
    "plt.plot(train_ar1_10000_4[0,:,:])"
   ]
  },
  {
   "cell_type": "code",
   "execution_count": null,
   "metadata": {},
   "outputs": [],
   "source": []
  }
 ],
 "metadata": {
  "kernelspec": {
   "display_name": "pt_fan",
   "language": "python",
   "name": "python3"
  },
  "language_info": {
   "codemirror_mode": {
    "name": "ipython",
    "version": 3
   },
   "file_extension": ".py",
   "mimetype": "text/x-python",
   "name": "python",
   "nbconvert_exporter": "python",
   "pygments_lexer": "ipython3",
   "version": "3.9.7"
  }
 },
 "nbformat": 4,
 "nbformat_minor": 2
}
