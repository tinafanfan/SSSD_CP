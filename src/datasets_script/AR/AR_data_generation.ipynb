{
 "cells": [
  {
   "cell_type": "code",
   "execution_count": 1,
   "metadata": {},
   "outputs": [],
   "source": [
    "import numpy as np\n",
    "import pandas as pd\n",
    "import matplotlib.pyplot as plt\n",
    "import statsmodels.api as sm"
   ]
  },
  {
   "cell_type": "code",
   "execution_count": 2,
   "metadata": {},
   "outputs": [],
   "source": [
    "def ar1_data_generate(phi = 0.8, sigma = 1, length = 2, num_series = 1000, seed = 12345):\n",
    "\n",
    "    arparams = np.array([phi])\n",
    "    maparams = np.array([0])\n",
    "    ar = np.r_[1, -arparams] # include zero-lag and use an opposite sign, see note below\n",
    "    ma = np.r_[1, maparams] # include zero-lag\n",
    "\n",
    "    ar1_np = np.zeros((num_series, length+20, 1))\n",
    "    for i in range(num_series):\n",
    "        # generate data\n",
    "        # np.random.seed(seed+i)\n",
    "        ar1_np[i,:,0] = sm.tsa.arma_generate_sample(ar, ma, nsample = length+20, scale = sigma) # y_{0},...\\y_{99}\n",
    "    return ar1_np[:,20:,:] # 發現series前面的 variance 不是 marginal variance (\\sigma^2/(1-\\phi^2)), so burn out\n",
    "\n",
    "def range_normalization(data, num_normalized):\n",
    "    '''\n",
    "    將每一條 ts 做 normalization (x-min)/(max - min)\n",
    "    \n",
    "    input:  npy (obs, length, channel)\n",
    "    output: npy (obs, length, channel)\n",
    "    '''\n",
    "\n",
    "    obs = data.shape[0]\n",
    "    channel = data.shape[2]\n",
    "\n",
    "    min_value = np.min(data[:, 0:num_normalized, :], axis = 1).reshape(obs, 1, channel)\n",
    "    max_value = np.max(data[:, 0:num_normalized, :], axis = 1).reshape(obs, 1, channel)\n",
    "    \n",
    "    data_normalized = (data - min_value)/(max_value - min_value)\n",
    "\n",
    "    return data_normalized    "
   ]
  },
  {
   "cell_type": "code",
   "execution_count": 3,
   "metadata": {},
   "outputs": [],
   "source": [
    "num_series_train = 10000\n",
    "num_series_test = 10000\n",
    "\n",
    "length = 10"
   ]
  },
  {
   "cell_type": "code",
   "execution_count": 4,
   "metadata": {},
   "outputs": [],
   "source": [
    "train_ar1 = ar1_data_generate(phi = 0.8, sigma = 1, length = length, num_series = num_series_train, seed = 1)\n",
    "test_ar1 = ar1_data_generate(phi = 0.8, sigma = 1, length = length, num_series = num_series_test, seed = 12345)\n"
   ]
  },
  {
   "cell_type": "code",
   "execution_count": 5,
   "metadata": {},
   "outputs": [
    {
     "name": "stdout",
     "output_type": "stream",
     "text": [
      "(5000000, 3, 1)\n",
      "(10000, 3, 1)\n"
     ]
    }
   ],
   "source": [
    "print(train_ar1.shape)\n",
    "print(test_ar1.shape)"
   ]
  },
  {
   "cell_type": "code",
   "execution_count": 21,
   "metadata": {},
   "outputs": [
    {
     "data": {
      "text/plain": [
       "[<matplotlib.lines.Line2D at 0x7f22e00fa550>]"
      ]
     },
     "execution_count": 21,
     "metadata": {},
     "output_type": "execute_result"
    },
    {
     "data": {
      "image/png": "[encoded data removed]",
      "text/plain": [
       "<Figure size 432x288 with 1 Axes>"
      ]
     },
     "metadata": {
      "needs_background": "light"
     },
     "output_type": "display_data"
    }
   ],
   "source": [
    "plt.plot(train_ar1[3,:,0])"
   ]
  },
  {
   "cell_type": "code",
   "execution_count": 6,
   "metadata": {},
   "outputs": [
    {
     "name": "stdout",
     "output_type": "stream",
     "text": [
      "2.7775906944350823\n",
      "-0.0005749495456610742\n",
      "[[1.         0.79989753]\n",
      " [0.79989753 1.        ]]\n"
     ]
    }
   ],
   "source": [
    "print(np.var(train_ar1[:,2,0]))\n",
    "print(np.mean(train_ar1[:,0,0]))\n",
    "print(np.corrcoef(train_ar1[:,0,0],train_ar1[:,1,0]))"
   ]
  },
  {
   "cell_type": "code",
   "execution_count": 7,
   "metadata": {},
   "outputs": [],
   "source": [
    "np.save('/home/hchuang/Documents/Project/SSSD_CP/src/datasets/AR/train_ar1_'+str(num_series_train)+'_'+str(length)+'.npy', train_ar1)\n",
    "# np.save('/home/hchuang/Documents/Project/SSSD_CP/src/datasets/AR/test_ar1_'+str(num_series_test)+'_'+str(length)+'.npy', test_ar1)"
   ]
  },
  {
   "cell_type": "code",
   "execution_count": 37,
   "metadata": {},
   "outputs": [],
   "source": [
    "# train_ar1_stdd = range_normalization(train_ar1, 99)\n",
    "# test_ar1_stdd = range_normalization(test_ar1, 99)\n",
    "\n",
    "# np.save('/home/hchuang/Documents/Project/SSSD_CP/src/datasets/AR/train_ar1_'+str(num_series_train)+'_'+str(length)+'_stdd.npy', train_ar1_stdd)\n",
    "# np.save('/home/hchuang/Documents/Project/SSSD_CP/src/datasets/AR/test_ar1_'+str(num_series_test)+'_'+str(length)+'_stdd.npy', test_ar1_stdd)"
   ]
  },
  {
   "cell_type": "code",
   "execution_count": 30,
   "metadata": {},
   "outputs": [
    {
     "data": {
      "text/plain": [
       "2.7777777777777786"
      ]
     },
     "execution_count": 30,
     "metadata": {},
     "output_type": "execute_result"
    }
   ],
   "source": [
    "1/(1-0.8*0.8) # Y_t marginal variance"
   ]
  },
  {
   "cell_type": "code",
   "execution_count": 33,
   "metadata": {},
   "outputs": [
    {
     "data": {
      "text/plain": [
       "0.0002338895081879784"
      ]
     },
     "execution_count": 33,
     "metadata": {},
     "output_type": "execute_result"
    }
   ],
   "source": [
    "np.mean(train_ar1[:,1,0])"
   ]
  },
  {
   "cell_type": "code",
   "execution_count": 4,
   "metadata": {},
   "outputs": [],
   "source": [
    "data = np.load('/home/hchuang/Documents/Project/SSSD_CP/src/datasets/AR/train_ar1_100000_3.npy')"
   ]
  },
  {
   "cell_type": "code",
   "execution_count": 9,
   "metadata": {},
   "outputs": [
    {
     "data": {
      "text/plain": [
       "(100000, 3, 1)"
      ]
     },
     "execution_count": 9,
     "metadata": {},
     "output_type": "execute_result"
    }
   ],
   "source": [
    "data.shape"
   ]
  },
  {
   "cell_type": "code",
   "execution_count": 13,
   "metadata": {},
   "outputs": [
    {
     "name": "stdout",
     "output_type": "stream",
     "text": [
      "-0.001\n",
      "0.001\n",
      "0.005\n",
      "2.759\n",
      "2.768\n",
      "2.769\n",
      "[[2.7590624  2.21053775]\n",
      " [2.21053775 2.76768342]]\n",
      "[[2.7590624  1.76455189]\n",
      " [1.76455189 2.76897019]]\n",
      "[[2.76768342 2.2127441 ]\n",
      " [2.2127441  2.76897019]]\n",
      "[[1.         0.79994286]\n",
      " [0.79994286 1.        ]]\n",
      "[[1.         0.63840243]\n",
      " [0.63840243 1.        ]]\n",
      "[[1.         0.79930742]\n",
      " [0.79930742 1.        ]]\n"
     ]
    }
   ],
   "source": [
    "print(round(np.mean(data[:,0,0]),3))\n",
    "print(round(np.mean(data[:,1,0]),3))\n",
    "print(round(np.mean(data[:,2,0]),3))\n",
    "\n",
    "print(round(np.var(data[:,0,0]),3))\n",
    "print(round(np.var(data[:,1,0]),3))\n",
    "print(round(np.var(data[:,2,0]),3))\n",
    "\n",
    "print(np.cov(data[:,0,0],data[:,1,0]))\n",
    "print(np.cov(data[:,0,0],data[:,2,0]))\n",
    "print(np.cov(data[:,1,0],data[:,2,0]))\n",
    "\n",
    "print(np.corrcoef(data[:,0,0],data[:,1,0]))\n",
    "print(np.corrcoef(data[:,0,0],data[:,2,0]))\n",
    "print(np.corrcoef(data[:,1,0],data[:,2,0]))"
   ]
  },
  {
   "cell_type": "code",
   "execution_count": 19,
   "metadata": {},
   "outputs": [
    {
     "data": {
      "text/plain": [
       "[<matplotlib.lines.Line2D at 0x7f87a00f75e0>]"
      ]
     },
     "execution_count": 19,
     "metadata": {},
     "output_type": "execute_result"
    },
    {
     "data": {
      "image/png": "[encoded data removed]",
      "text/plain": [
       "<Figure size 432x288 with 1 Axes>"
      ]
     },
     "metadata": {
      "needs_background": "light"
     },
     "output_type": "display_data"
    }
   ],
   "source": [
    "plt.plot(train_ar1_10000_4[0,:,:])"
   ]
  },
  {
   "cell_type": "markdown",
   "metadata": {},
   "source": [
    "# I2"
   ]
  },
  {
   "cell_type": "code",
   "execution_count": 4,
   "metadata": {},
   "outputs": [],
   "source": [
    "train_ar1 = ar1_data_generate(phi = 0.8, sigma = 1, length = length, num_series = num_series_train, seed = 10000)\n",
    "np.save('/home/hchuang/Documents/Project/SSSD_CP/src/datasets/AR/train_ar1_'+str(num_series_train)+'_'+str(length)+'_I2.npy', train_ar1)\n"
   ]
  },
  {
   "cell_type": "code",
   "execution_count": null,
   "metadata": {},
   "outputs": [],
   "source": []
  }
 ],
 "metadata": {
  "kernelspec": {
   "display_name": "pt_fan",
   "language": "python",
   "name": "python3"
  },
  "language_info": {
   "codemirror_mode": {
    "name": "ipython",
    "version": 3
   },
   "file_extension": ".py",
   "mimetype": "text/x-python",
   "name": "python",
   "nbconvert_exporter": "python",
   "pygments_lexer": "ipython3",
   "version": "3.9.7"
  }
 },
 "nbformat": 4,
 "nbformat_minor": 2
}
