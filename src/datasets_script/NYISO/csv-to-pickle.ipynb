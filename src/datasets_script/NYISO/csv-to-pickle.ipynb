{
 "cells": [
  {
   "cell_type": "code",
   "execution_count": 11,
   "metadata": {},
   "outputs": [],
   "source": [
    "import pandas as pd\n",
    "import numpy as np\n",
    "import matplotlib.pyplot as plt\n",
    "import seaborn as sns"
   ]
  },
  {
   "cell_type": "markdown",
   "metadata": {},
   "source": [
    "# Read csv files"
   ]
  },
  {
   "cell_type": "code",
   "execution_count": 12,
   "metadata": {},
   "outputs": [],
   "source": [
    "load = pd.read_csv('raw_csv/20060206-20230924 NYISO Hourly Actual Load.csv')\n",
    "\n",
    "loadfrcst = pd.concat([pd.read_csv('raw_csv/20060408-20091231 NYISO ISO Load Forecast.csv'),\n",
    "                       pd.read_csv('raw_csv/20100101-20230930 NYISO ISO Load Forecast.csv')],\n",
    "                       axis=0)\n",
    "\n",
    "price = pd.concat([pd.read_csv('raw_csv/20060407-20091231 NYISO Actual Energy Price.csv'),\n",
    "                   pd.read_csv('raw_csv/20100101-20230924 NYISO Actual Energy Price.csv')],\n",
    "                   axis=0)\n",
    "\n",
    "pricefrcst =  pd.concat([pd.read_csv('raw_csv/20060408-20091231 NYISO Day-Ahead Energy Price.csv'),\n",
    "                         pd.read_csv('raw_csv/20100101-20230924 NYISO Day-Ahead Energy Price.csv')],\n",
    "                         axis=0)"
   ]
  },
  {
   "cell_type": "code",
   "execution_count": 13,
   "metadata": {},
   "outputs": [
    {
     "data": {
      "text/plain": [
       "(1566423, 3)"
      ]
     },
     "execution_count": 13,
     "metadata": {},
     "output_type": "execute_result"
    }
   ],
   "source": [
    "load.shape"
   ]
  },
  {
   "cell_type": "markdown",
   "metadata": {},
   "source": [
    "# Format"
   ]
  },
  {
   "cell_type": "code",
   "execution_count": 5,
   "metadata": {},
   "outputs": [],
   "source": [
    "# 設定時間格式\n",
    "load['Date'] = pd.to_datetime(load['Date'], format='%m/%d/%Y %I:%M:%S %p')\n",
    "loadfrcst['Date'] = pd.to_datetime(loadfrcst['Date'], format='%m/%d/%Y %I:%M:%S %p')\n",
    "price['Date'] = pd.to_datetime(price['Date'], format='%m/%d/%Y %I:%M:%S %p')\n",
    "pricefrcst['Date'] = pd.to_datetime(pricefrcst['Date'], format='%m/%d/%Y %I:%M:%S %p')\n",
    "\n"
   ]
  },
  {
   "cell_type": "markdown",
   "metadata": {},
   "source": [
    "# Select period"
   ]
  },
  {
   "cell_type": "code",
   "execution_count": 13,
   "metadata": {},
   "outputs": [
    {
     "name": "stdout",
     "output_type": "stream",
     "text": [
      "(1566423, 3)\n",
      "(1566192, 3)\n"
     ]
    }
   ],
   "source": [
    "print(load.shape)\n",
    "\n",
    "load = load[(load['Date'] >= '2006-02-06 00:00:00')&(load['Date'] <= '2023-09-23 23:00:00')]\n",
    "\n",
    "print(load.shape)\n",
    "\n"
   ]
  },
  {
   "cell_type": "markdown",
   "metadata": {},
   "source": [
    "# Transform to pickle"
   ]
  },
  {
   "cell_type": "code",
   "execution_count": 23,
   "metadata": {},
   "outputs": [],
   "source": [
    "load.to_pickle('load.pickle')\n",
    "loadfrcst.to_pickle('loadfrcst.pickle')\n",
    "price.to_pickle('price.pickle')\n",
    "pricefrcst.to_pickle('pricefrcst.pickle')\n"
   ]
  },
  {
   "cell_type": "code",
   "execution_count": null,
   "metadata": {},
   "outputs": [],
   "source": []
  }
 ],
 "metadata": {
  "kernelspec": {
   "display_name": "pt_fan",
   "language": "python",
   "name": "python3"
  },
  "language_info": {
   "codemirror_mode": {
    "name": "ipython",
    "version": 3
   },
   "file_extension": ".py",
   "mimetype": "text/x-python",
   "name": "python",
   "nbconvert_exporter": "python",
   "pygments_lexer": "ipython3",
   "version": "3.9.7"
  },
  "orig_nbformat": 4
 },
 "nbformat": 4,
 "nbformat_minor": 2
}
