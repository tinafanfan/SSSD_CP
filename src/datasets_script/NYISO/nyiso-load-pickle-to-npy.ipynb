{
 "cells": [
  {
   "cell_type": "code",
   "execution_count": 1,
   "metadata": {},
   "outputs": [],
   "source": [
    "import pandas as pd\n",
    "import numpy as np\n",
    "import matplotlib.pyplot as plt\n",
    "import seaborn as sns\n",
    "import os\n",
    "import pickle\n",
    "\n",
    "from utils.data_utils import *"
   ]
  },
  {
   "cell_type": "code",
   "execution_count": 2,
   "metadata": {},
   "outputs": [],
   "source": [
    "# 更改 utils/data_utils.py 中的自訂 function 可重新 reload\n",
    "from importlib import reload\n",
    "from utils import data_utils\n",
    "reload(data_utils)\n",
    "from utils.data_utils import *"
   ]
  },
  {
   "cell_type": "markdown",
   "metadata": {},
   "source": [
    "# Read data"
   ]
  },
  {
   "cell_type": "code",
   "execution_count": 3,
   "metadata": {},
   "outputs": [
    {
     "name": "stdout",
     "output_type": "stream",
     "text": [
      "原始資料數量: (2174180, 3)\n"
     ]
    }
   ],
   "source": [
    "path = '/home/hchuang/Documents/Project/SSSD_CP/src/datasets/NYISO/pickle/'\n",
    "load = pd.read_pickle(path + 'load_nyisocom.pickle')\n",
    "print(f'原始資料數量: {load.shape}')"
   ]
  },
  {
   "cell_type": "code",
   "execution_count": 4,
   "metadata": {},
   "outputs": [
    {
     "name": "stdout",
     "output_type": "stream",
     "text": [
      "選定區間後原始資料數量: (1823975, 3)\n"
     ]
    }
   ],
   "source": [
    "# 2005-01-31 之前, NYC 和 LONG IL 是並在一起, 資料不適合使用\n",
    "load = load[(load['Date']>='2005-01-31 00:00:00')]\n",
    "# load = load[(load['Date']>='2005-01-31 00:00:00') & (load['Date']<='2016-12-31 23:00:00')]\n",
    "print(f'選定區間後原始資料數量: {load.shape}')"
   ]
  },
  {
   "cell_type": "markdown",
   "metadata": {},
   "source": [
    "# Clean data"
   ]
  },
  {
   "cell_type": "markdown",
   "metadata": {},
   "source": [
    "## 原先資料就有的NA \n",
    "(後面NA一起處理)"
   ]
  },
  {
   "cell_type": "code",
   "execution_count": 5,
   "metadata": {},
   "outputs": [
    {
     "name": "stdout",
     "output_type": "stream",
     "text": [
      "33\n"
     ]
    }
   ],
   "source": [
    "print(load['Load'].isna().sum())\n",
    "# load[load['Load'].isna()]"
   ]
  },
  {
   "cell_type": "markdown",
   "metadata": {},
   "source": [
    "## unusal values"
   ]
  },
  {
   "cell_type": "markdown",
   "metadata": {},
   "source": [
    "### Explore"
   ]
  },
  {
   "cell_type": "code",
   "execution_count": 7,
   "metadata": {},
   "outputs": [
    {
     "data": {
      "image/png": "[encoded data removed]",
      "text/plain": [
       "<Figure size 1152x576 with 1 Axes>"
      ]
     },
     "metadata": {
      "needs_background": "light"
     },
     "output_type": "display_data"
    }
   ],
   "source": [
    "df = load\n",
    "\n",
    "load_data_by_zone = []\n",
    "# 遍歷每個類別，將相應的Load數據添加到列表中\n",
    "for zone, data in df.groupby('Zone')['Load']:\n",
    "    load_data_by_zone.append(data)\n",
    "\n",
    "# 繪製箱形圖\n",
    "plt.figure(figsize=(16, 8))\n",
    "plt.boxplot(load_data_by_zone, labels=df['Zone'].unique(), vert=True)\n",
    "plt.xlabel('')\n",
    "plt.ylabel('')\n",
    "plt.title('')\n",
    "plt.tick_params(axis='x', labelsize=18)\n",
    "plt.tick_params(axis='y', labelsize=18)\n",
    "\n",
    "plt.show()"
   ]
  },
  {
   "cell_type": "markdown",
   "metadata": {},
   "source": [
    "### Remove 0 and negative"
   ]
  },
  {
   "cell_type": "code",
   "execution_count": 8,
   "metadata": {},
   "outputs": [
    {
     "name": "stdout",
     "output_type": "stream",
     "text": [
      "刪除前資料數量: (1823975, 3)\n",
      "小於等於0的數量: (115, 3)\n",
      "刪除後資料數量: (1823860, 3)\n"
     ]
    }
   ],
   "source": [
    "print(f'刪除前資料數量: {df.shape}')\n",
    "non_pos = df[df['Load']<=0]\n",
    "print(f'小於等於0的數量: {non_pos.shape}')\n",
    "load_drop = df.drop(non_pos.index) \n",
    "print(f'刪除後資料數量: {load_drop.shape}')"
   ]
  },
  {
   "cell_type": "code",
   "execution_count": 9,
   "metadata": {},
   "outputs": [
    {
     "name": "stdout",
     "output_type": "stream",
     "text": [
      "CAPITL 小於等於0的數量: (10, 3)\n",
      "CENTRL 小於等於0的數量: (9, 3)\n",
      "DUNWOD 小於等於0的數量: (9, 3)\n",
      "GENESE 小於等於0的數量: (9, 3)\n",
      "HUD VL 小於等於0的數量: (10, 3)\n",
      "LONGIL 小於等於0的數量: (9, 3)\n",
      "MHK VL 小於等於0的數量: (9, 3)\n",
      "MILLWD 小於等於0的數量: (23, 3)\n",
      "N.Y.C. 小於等於0的數量: (9, 3)\n",
      "NORTH 小於等於0的數量: (9, 3)\n",
      "WEST 小於等於0的數量: (9, 3)\n"
     ]
    }
   ],
   "source": [
    "zones = load['Zone'].unique()\n",
    "for zone in zones:\n",
    "    non_pos = df[(df['Load']<=0) & (df['Zone']==zone)]\n",
    "    print(f'{zone} 小於等於0的數量: {non_pos.shape}')"
   ]
  },
  {
   "cell_type": "markdown",
   "metadata": {},
   "source": [
    "## duplicate\n"
   ]
  },
  {
   "cell_type": "markdown",
   "metadata": {},
   "source": [
    "### Explore"
   ]
  },
  {
   "cell_type": "code",
   "execution_count": 10,
   "metadata": {},
   "outputs": [
    {
     "name": "stdout",
     "output_type": "stream",
     "text": [
      "重複筆數：(350, 3)\n",
      "                      Date    Zone    Load\n",
      "490147 2005-03-26 01:00:00  CENTRL  1692.1\n"
     ]
    },
    {
     "data": {
      "text/html": [
       "<div>\n",
       "<style scoped>\n",
       "    .dataframe tbody tr th:only-of-type {\n",
       "        vertical-align: middle;\n",
       "    }\n",
       "\n",
       "    .dataframe tbody tr th {\n",
       "        vertical-align: top;\n",
       "    }\n",
       "\n",
       "    .dataframe thead th {\n",
       "        text-align: right;\n",
       "    }\n",
       "</style>\n",
       "<table border=\"1\" class=\"dataframe\">\n",
       "  <thead>\n",
       "    <tr style=\"text-align: right;\">\n",
       "      <th></th>\n",
       "      <th>Date</th>\n",
       "      <th>Zone</th>\n",
       "      <th>Load</th>\n",
       "    </tr>\n",
       "  </thead>\n",
       "  <tbody>\n",
       "    <tr>\n",
       "      <th>1812720</th>\n",
       "      <td>2014-11-02 01:00:00</td>\n",
       "      <td>N.Y.C.</td>\n",
       "      <td>4400.5</td>\n",
       "    </tr>\n",
       "    <tr>\n",
       "      <th>1812721</th>\n",
       "      <td>2014-11-02 01:00:00</td>\n",
       "      <td>N.Y.C.</td>\n",
       "      <td>4221.8</td>\n",
       "    </tr>\n",
       "  </tbody>\n",
       "</table>\n",
       "</div>"
      ],
      "text/plain": [
       "                       Date    Zone    Load\n",
       "1812720 2014-11-02 01:00:00  N.Y.C.  4400.5\n",
       "1812721 2014-11-02 01:00:00  N.Y.C.  4221.8"
      ]
     },
     "execution_count": 10,
     "metadata": {},
     "output_type": "execute_result"
    }
   ],
   "source": [
    "df = load_drop\n",
    "\n",
    "# 確認有多少重複值\n",
    "duplicates = df[df.duplicated(subset=['Date', 'Zone'], keep = False)]\n",
    "print(f'重複筆數：{duplicates.shape}')\n",
    "\n",
    "print(duplicates.head(1))\n",
    "df[(df['Date'] == '2014-11-02 01:00:00')&(df['Zone']=='N.Y.C.')]"
   ]
  },
  {
   "cell_type": "code",
   "execution_count": 11,
   "metadata": {},
   "outputs": [
    {
     "name": "stdout",
     "output_type": "stream",
     "text": [
      "CAPITL 重複筆數: (15, 3)\n",
      "CENTRL 重複筆數: (16, 3)\n",
      "DUNWOD 重複筆數: (16, 3)\n",
      "GENESE 重複筆數: (16, 3)\n",
      "HUD VL 重複筆數: (16, 3)\n",
      "LONGIL 重複筆數: (16, 3)\n",
      "MHK VL 重複筆數: (16, 3)\n",
      "MILLWD 重複筆數: (16, 3)\n",
      "N.Y.C. 重複筆數: (16, 3)\n",
      "NORTH 重複筆數: (16, 3)\n",
      "WEST 重複筆數: (16, 3)\n"
     ]
    }
   ],
   "source": [
    "zones = load['Zone'].unique()\n",
    "for zone in zones:\n",
    "    df_zone = df[(df['Zone']==zone)]\n",
    "    duplicates = df_zone[df_zone.duplicated(subset=['Date', 'Zone'])]\n",
    "    print(f'{zone} 重複筆數: {duplicates.shape}')"
   ]
  },
  {
   "cell_type": "code",
   "execution_count": 12,
   "metadata": {},
   "outputs": [],
   "source": [
    "df = load_drop\n",
    "\n",
    "# 確認有多少重複值\n",
    "duplicates_first = df[df.duplicated(subset=['Date', 'Zone'], keep = \"first\")]\n",
    "duplicates_last = df[df.duplicated(subset=['Date', 'Zone'], keep = \"last\")]"
   ]
  },
  {
   "cell_type": "code",
   "execution_count": 13,
   "metadata": {},
   "outputs": [
    {
     "data": {
      "text/html": [
       "<div>\n",
       "<style scoped>\n",
       "    .dataframe tbody tr th:only-of-type {\n",
       "        vertical-align: middle;\n",
       "    }\n",
       "\n",
       "    .dataframe tbody tr th {\n",
       "        vertical-align: top;\n",
       "    }\n",
       "\n",
       "    .dataframe thead th {\n",
       "        text-align: right;\n",
       "    }\n",
       "</style>\n",
       "<table border=\"1\" class=\"dataframe\">\n",
       "  <thead>\n",
       "    <tr style=\"text-align: right;\">\n",
       "      <th></th>\n",
       "      <th>Date</th>\n",
       "      <th>Zone</th>\n",
       "      <th>Load_x</th>\n",
       "      <th>Load_y</th>\n",
       "    </tr>\n",
       "  </thead>\n",
       "  <tbody>\n",
       "    <tr>\n",
       "      <th>0</th>\n",
       "      <td>2005-03-26 01:00:00</td>\n",
       "      <td>CENTRL</td>\n",
       "      <td>1693.6</td>\n",
       "      <td>1692.1</td>\n",
       "    </tr>\n",
       "    <tr>\n",
       "      <th>1</th>\n",
       "      <td>2005-03-26 01:00:00</td>\n",
       "      <td>DUNWOD</td>\n",
       "      <td>544.7</td>\n",
       "      <td>543.9</td>\n",
       "    </tr>\n",
       "    <tr>\n",
       "      <th>2</th>\n",
       "      <td>2005-03-26 01:00:00</td>\n",
       "      <td>GENESE</td>\n",
       "      <td>888.1</td>\n",
       "      <td>887.1</td>\n",
       "    </tr>\n",
       "    <tr>\n",
       "      <th>3</th>\n",
       "      <td>2005-03-26 01:00:00</td>\n",
       "      <td>HUD VL</td>\n",
       "      <td>938.1</td>\n",
       "      <td>937.3</td>\n",
       "    </tr>\n",
       "    <tr>\n",
       "      <th>4</th>\n",
       "      <td>2005-03-26 01:00:00</td>\n",
       "      <td>LONGIL</td>\n",
       "      <td>1872.8</td>\n",
       "      <td>1870.3</td>\n",
       "    </tr>\n",
       "    <tr>\n",
       "      <th>...</th>\n",
       "      <td>...</td>\n",
       "      <td>...</td>\n",
       "      <td>...</td>\n",
       "      <td>...</td>\n",
       "    </tr>\n",
       "    <tr>\n",
       "      <th>170</th>\n",
       "      <td>2021-11-07 01:00:00</td>\n",
       "      <td>MHK VL</td>\n",
       "      <td>724.1157</td>\n",
       "      <td>733.9323</td>\n",
       "    </tr>\n",
       "    <tr>\n",
       "      <th>171</th>\n",
       "      <td>2021-11-07 01:00:00</td>\n",
       "      <td>MILLWD</td>\n",
       "      <td>270.0057</td>\n",
       "      <td>277.6956</td>\n",
       "    </tr>\n",
       "    <tr>\n",
       "      <th>172</th>\n",
       "      <td>2021-11-07 01:00:00</td>\n",
       "      <td>N.Y.C.</td>\n",
       "      <td>4104.6106</td>\n",
       "      <td>4284.5644</td>\n",
       "    </tr>\n",
       "    <tr>\n",
       "      <th>173</th>\n",
       "      <td>2021-11-07 01:00:00</td>\n",
       "      <td>NORTH</td>\n",
       "      <td>608.609</td>\n",
       "      <td>612.232</td>\n",
       "    </tr>\n",
       "    <tr>\n",
       "      <th>174</th>\n",
       "      <td>2021-11-07 01:00:00</td>\n",
       "      <td>WEST</td>\n",
       "      <td>1391.9363</td>\n",
       "      <td>1412.2988</td>\n",
       "    </tr>\n",
       "  </tbody>\n",
       "</table>\n",
       "<p>175 rows × 4 columns</p>\n",
       "</div>"
      ],
      "text/plain": [
       "                   Date    Zone     Load_x     Load_y\n",
       "0   2005-03-26 01:00:00  CENTRL     1693.6     1692.1\n",
       "1   2005-03-26 01:00:00  DUNWOD      544.7      543.9\n",
       "2   2005-03-26 01:00:00  GENESE      888.1      887.1\n",
       "3   2005-03-26 01:00:00  HUD VL      938.1      937.3\n",
       "4   2005-03-26 01:00:00  LONGIL     1872.8     1870.3\n",
       "..                  ...     ...        ...        ...\n",
       "170 2021-11-07 01:00:00  MHK VL   724.1157   733.9323\n",
       "171 2021-11-07 01:00:00  MILLWD   270.0057   277.6956\n",
       "172 2021-11-07 01:00:00  N.Y.C.  4104.6106  4284.5644\n",
       "173 2021-11-07 01:00:00   NORTH    608.609    612.232\n",
       "174 2021-11-07 01:00:00    WEST  1391.9363  1412.2988\n",
       "\n",
       "[175 rows x 4 columns]"
      ]
     },
     "execution_count": 13,
     "metadata": {},
     "output_type": "execute_result"
    }
   ],
   "source": [
    "new_df = pd.merge(duplicates_first, duplicates_last,  how='left', left_on=['Date','Zone'], right_on = ['Date','Zone'])\n",
    "new_df"
   ]
  },
  {
   "cell_type": "code",
   "execution_count": 14,
   "metadata": {},
   "outputs": [
    {
     "data": {
      "image/png": "[encoded data removed]",
      "text/plain": [
       "<Figure size 576x576 with 1 Axes>"
      ]
     },
     "metadata": {
      "needs_background": "light"
     },
     "output_type": "display_data"
    }
   ],
   "source": [
    "import matplotlib.pyplot as plt\n",
    "import seaborn as sns  # Import seaborn for categorical colormap\n",
    "\n",
    "plt.figure(figsize=(8, 8)) \n",
    "# Assuming new_df is your DataFrame\n",
    "scatterplot = sns.scatterplot(x='Load_x', y='Load_y', hue='Zone', data=new_df, palette='tab10')\n",
    "\n",
    "# Adding labels and title\n",
    "plt.xlabel('', fontsize=18)\n",
    "plt.ylabel('', fontsize=18)\n",
    "plt.title('', fontsize=20)\n",
    "\n",
    "# Set tick label font sizes\n",
    "plt.tick_params(axis='both', labelsize=16)\n",
    "\n",
    "# Adjust legend text size\n",
    "scatterplot.legend(fontsize=14)\n",
    "\n",
    "# Add a 45-degree line\n",
    "plt.plot([min(new_df['Load_x']), max(new_df['Load_x'])], [min(new_df['Load_y']), max(new_df['Load_y'])], linestyle='--', color='gray')\n",
    "\n",
    "# Display the plot\n",
    "plt.show()\n"
   ]
  },
  {
   "cell_type": "markdown",
   "metadata": {},
   "source": [
    "### Take an average of duplicates"
   ]
  },
  {
   "cell_type": "code",
   "execution_count": 15,
   "metadata": {},
   "outputs": [
    {
     "name": "stdout",
     "output_type": "stream",
     "text": [
      "刪除前資料數量: (1823860, 3)\n",
      "重複筆數: (175, 3)\n",
      "刪除後資料數量: (1823685, 3)\n"
     ]
    }
   ],
   "source": [
    "# about 1m 10s\n",
    "df= load_drop\n",
    "\n",
    "# 重複中有兩筆資料的取平均\n",
    "print(f'刪除前資料數量: {df.shape}')\n",
    "duplicates = df[df.duplicated(subset=['Date', 'Zone'])]\n",
    "\n",
    "print(f'重複筆數: {duplicates.shape}')\n",
    "df_drop = df.groupby(['Date', 'Zone'])['Load'].mean().reset_index()\n",
    "print(f'刪除後資料數量: {df_drop.shape}')\n",
    "\n",
    "load_drop = df_drop"
   ]
  },
  {
   "cell_type": "markdown",
   "metadata": {},
   "source": [
    "## NA "
   ]
  },
  {
   "cell_type": "code",
   "execution_count": 16,
   "metadata": {},
   "outputs": [
    {
     "name": "stdout",
     "output_type": "stream",
     "text": [
      "目前資料數量: (1823685, 3)\n",
      "補上所有時間後資料數量: (1823976, 3)\n",
      "沒紀錄數量(包含原本是<=0被drop掉的): 291\n",
      "min: 2005-01-31 00:00:00\n",
      "max: 2023-12-31 23:00:00\n",
      "驗算 - 所有時間點 x 11 zones:1823976\n"
     ]
    }
   ],
   "source": [
    "df = load_drop\n",
    "\n",
    "print(f'目前資料數量: {df.shape}')\n",
    "df_all_time = merge_all_time(df)\n",
    "print(f'補上所有時間後資料數量: {df_all_time.shape}')\n",
    "print(f'沒紀錄數量(包含原本是<=0被drop掉的): {df_all_time.shape[0]-df.shape[0]}')\n",
    "min_date = df['Date'].min(); max_date = df['Date'].max()\n",
    "print(f'min: {min_date}')\n",
    "print(f'max: {max_date}')\n",
    "\n",
    "# 驗算\n",
    "hours_df = pd.DataFrame({'Date': pd.date_range(start = df['Date'].min(), end = df['Date'].max(), freq = '1H') })\n",
    "print(f'驗算 - 所有時間點 x 11 zones:{hours_df.shape[0]*11}')\n",
    "\n",
    "\n",
    "\n",
    "df_all_time = df_all_time"
   ]
  },
  {
   "cell_type": "code",
   "execution_count": 17,
   "metadata": {},
   "outputs": [
    {
     "name": "stdout",
     "output_type": "stream",
     "text": [
      "CAPITL 沒紀錄數量(包含原本是<=0被drop掉的): 26\n",
      "CENTRL 沒紀錄數量(包含原本是<=0被drop掉的): 25\n",
      "DUNWOD 沒紀錄數量(包含原本是<=0被drop掉的): 25\n",
      "GENESE 沒紀錄數量(包含原本是<=0被drop掉的): 25\n",
      "HUD VL 沒紀錄數量(包含原本是<=0被drop掉的): 26\n",
      "LONGIL 沒紀錄數量(包含原本是<=0被drop掉的): 25\n",
      "MHK VL 沒紀錄數量(包含原本是<=0被drop掉的): 25\n",
      "MILLWD 沒紀錄數量(包含原本是<=0被drop掉的): 39\n",
      "N.Y.C. 沒紀錄數量(包含原本是<=0被drop掉的): 25\n",
      "NORTH 沒紀錄數量(包含原本是<=0被drop掉的): 25\n",
      "WEST 沒紀錄數量(包含原本是<=0被drop掉的): 25\n"
     ]
    }
   ],
   "source": [
    "for zone in zones:\n",
    "    num = df_all_time[df_all_time['Zone']==zone].shape[0] - df[df['Zone']==zone].shape[0]\n",
    "    print(f'{zone} 沒紀錄數量(包含原本是<=0被drop掉的): {num}')"
   ]
  },
  {
   "cell_type": "code",
   "execution_count": 18,
   "metadata": {},
   "outputs": [
    {
     "name": "stdout",
     "output_type": "stream",
     "text": [
      "CAPITL total NA number (包含原本存在的3個NA): 29\n",
      "CENTRL total NA number (包含原本存在的3個NA): 28\n",
      "DUNWOD total NA number (包含原本存在的3個NA): 28\n",
      "GENESE total NA number (包含原本存在的3個NA): 28\n",
      "HUD VL total NA number (包含原本存在的3個NA): 29\n",
      "LONGIL total NA number (包含原本存在的3個NA): 28\n",
      "MHK VL total NA number (包含原本存在的3個NA): 28\n",
      "MILLWD total NA number (包含原本存在的3個NA): 42\n",
      "N.Y.C. total NA number (包含原本存在的3個NA): 28\n",
      "NORTH total NA number (包含原本存在的3個NA): 28\n",
      "WEST total NA number (包含原本存在的3個NA): 28\n"
     ]
    }
   ],
   "source": [
    "for zone in zones:\n",
    "    df_onezone = df_all_time.loc[df_all_time['Zone'] == zone,]\n",
    "    print(f\"{zone} total NA number (包含原本存在的3個NA): {df_onezone['Load'].isna().sum()}\") "
   ]
  },
  {
   "cell_type": "markdown",
   "metadata": {},
   "source": [
    "### Explore: 以 NYC 為例"
   ]
  },
  {
   "cell_type": "code",
   "execution_count": 136,
   "metadata": {},
   "outputs": [
    {
     "name": "stdout",
     "output_type": "stream",
     "text": [
      "NYC 資料數量: (104472, 3)\n",
      "NYC NA number (包含原本存在的3個NA): 21\n"
     ]
    }
   ],
   "source": [
    "df = df_all_time\n",
    "\n",
    "# 找尋 one zone 的 NA\n",
    "zone = 'N.Y.C.'\n",
    "df_onezone = df.loc[df['Zone'] == zone,]\n",
    "print(f\"NYC 資料數量: {df_onezone.shape}\")\n",
    "print(f\"NYC NA number (包含原本存在的3個NA): {df_onezone['Load'].isna().sum()}\") \n",
    "\n",
    "df_onezone = df_onezone"
   ]
  },
  {
   "cell_type": "markdown",
   "metadata": {},
   "source": [
    "#### visualize NA on heatmap"
   ]
  },
  {
   "cell_type": "code",
   "execution_count": null,
   "metadata": {},
   "outputs": [],
   "source": [
    "df = df_onezone\n",
    "\n",
    "# 呈現 NA heatmap\n",
    "# vis_na(df, figsize_width = 16, figsize_height = 80) # (END) ALL 至 2023-09-23 23:00:00 (154536)"
   ]
  },
  {
   "cell_type": "code",
   "execution_count": null,
   "metadata": {},
   "outputs": [
    {
     "data": {
      "text/html": [
       "<div>\n",
       "<style scoped>\n",
       "    .dataframe tbody tr th:only-of-type {\n",
       "        vertical-align: middle;\n",
       "    }\n",
       "\n",
       "    .dataframe tbody tr th {\n",
       "        vertical-align: top;\n",
       "    }\n",
       "\n",
       "    .dataframe thead th {\n",
       "        text-align: right;\n",
       "    }\n",
       "</style>\n",
       "<table border=\"1\" class=\"dataframe\">\n",
       "  <thead>\n",
       "    <tr style=\"text-align: right;\">\n",
       "      <th></th>\n",
       "      <th>Load</th>\n",
       "    </tr>\n",
       "    <tr>\n",
       "      <th>Date</th>\n",
       "      <th></th>\n",
       "    </tr>\n",
       "  </thead>\n",
       "  <tbody>\n",
       "    <tr>\n",
       "      <th>2005-12-31</th>\n",
       "      <td>5</td>\n",
       "    </tr>\n",
       "    <tr>\n",
       "      <th>2006-12-31</th>\n",
       "      <td>4</td>\n",
       "    </tr>\n",
       "    <tr>\n",
       "      <th>2007-12-31</th>\n",
       "      <td>1</td>\n",
       "    </tr>\n",
       "    <tr>\n",
       "      <th>2008-12-31</th>\n",
       "      <td>1</td>\n",
       "    </tr>\n",
       "    <tr>\n",
       "      <th>2009-12-31</th>\n",
       "      <td>1</td>\n",
       "    </tr>\n",
       "    <tr>\n",
       "      <th>2010-12-31</th>\n",
       "      <td>2</td>\n",
       "    </tr>\n",
       "    <tr>\n",
       "      <th>2011-12-31</th>\n",
       "      <td>1</td>\n",
       "    </tr>\n",
       "    <tr>\n",
       "      <th>2012-12-31</th>\n",
       "      <td>1</td>\n",
       "    </tr>\n",
       "    <tr>\n",
       "      <th>2013-12-31</th>\n",
       "      <td>1</td>\n",
       "    </tr>\n",
       "    <tr>\n",
       "      <th>2014-12-31</th>\n",
       "      <td>1</td>\n",
       "    </tr>\n",
       "    <tr>\n",
       "      <th>2015-12-31</th>\n",
       "      <td>1</td>\n",
       "    </tr>\n",
       "    <tr>\n",
       "      <th>2016-12-31</th>\n",
       "      <td>2</td>\n",
       "    </tr>\n",
       "    <tr>\n",
       "      <th>2017-12-31</th>\n",
       "      <td>1</td>\n",
       "    </tr>\n",
       "    <tr>\n",
       "      <th>2018-12-31</th>\n",
       "      <td>1</td>\n",
       "    </tr>\n",
       "    <tr>\n",
       "      <th>2019-12-31</th>\n",
       "      <td>1</td>\n",
       "    </tr>\n",
       "    <tr>\n",
       "      <th>2020-12-31</th>\n",
       "      <td>1</td>\n",
       "    </tr>\n",
       "    <tr>\n",
       "      <th>2021-12-31</th>\n",
       "      <td>1</td>\n",
       "    </tr>\n",
       "    <tr>\n",
       "      <th>2022-12-31</th>\n",
       "      <td>1</td>\n",
       "    </tr>\n",
       "    <tr>\n",
       "      <th>2023-12-31</th>\n",
       "      <td>1</td>\n",
       "    </tr>\n",
       "  </tbody>\n",
       "</table>\n",
       "</div>"
      ],
      "text/plain": [
       "            Load\n",
       "Date            \n",
       "2005-12-31     5\n",
       "2006-12-31     4\n",
       "2007-12-31     1\n",
       "2008-12-31     1\n",
       "2009-12-31     1\n",
       "2010-12-31     2\n",
       "2011-12-31     1\n",
       "2012-12-31     1\n",
       "2013-12-31     1\n",
       "2014-12-31     1\n",
       "2015-12-31     1\n",
       "2016-12-31     2\n",
       "2017-12-31     1\n",
       "2018-12-31     1\n",
       "2019-12-31     1\n",
       "2020-12-31     1\n",
       "2021-12-31     1\n",
       "2022-12-31     1\n",
       "2023-12-31     1"
      ]
     },
     "execution_count": 14,
     "metadata": {},
     "output_type": "execute_result"
    }
   ],
   "source": [
    "df = df_onezone\n",
    "\n",
    "# 計算年 NA\n",
    "year_na_count = count_year_na(df)\n",
    "year_na_count.to_frame()"
   ]
  },
  {
   "cell_type": "markdown",
   "metadata": {},
   "source": [
    "### Impute: All zones 每個區域用STL各自補"
   ]
  },
  {
   "cell_type": "code",
   "execution_count": 137,
   "metadata": {},
   "outputs": [
    {
     "name": "stdout",
     "output_type": "stream",
     "text": [
      "[22, 21, 21, 21, 22, 21, 21, 35, 21, 21, 21]\n"
     ]
    },
    {
     "data": {
      "text/plain": [
       "247"
      ]
     },
     "execution_count": 137,
     "metadata": {},
     "output_type": "execute_result"
    }
   ],
   "source": [
    "df = df_all_time\n",
    "\n",
    "'''\n",
    "確認：呈現每個區域總NA值和分年NA值，確認 select_period 是否只看一個 zone 就決定\n",
    "'''\n",
    "total_na, month_na = count_zone_na(df)\n",
    "print(total_na)\n",
    "# for i in range(len(month_na)):\n",
    "#     print(month_na[i])\n",
    "sum(total_na)"
   ]
  },
  {
   "cell_type": "markdown",
   "metadata": {},
   "source": [
    "#### 先補 NYC"
   ]
  },
  {
   "cell_type": "code",
   "execution_count": 138,
   "metadata": {},
   "outputs": [
    {
     "name": "stdout",
     "output_type": "stream",
     "text": [
      "STL 補值後 NA number: 0\n"
     ]
    },
    {
     "data": {
      "image/png": "[encoded data removed]",
      "text/plain": [
       "<Figure size 1440x432 with 1 Axes>"
      ]
     },
     "metadata": {
      "needs_background": "light"
     },
     "output_type": "display_data"
    }
   ],
   "source": [
    "df = df_all_time.loc[df_all_time['Zone'] == 'N.Y.C.']\n",
    "\n",
    "df_impute_stl, imputed_indices = impute_stl(df)\n",
    "print(f\"STL 補值後 NA number: {df_impute_stl['Load'].isna().sum()}\")\n",
    "\n",
    "plot_impute_result(df_impute_stl, imputed_indices)"
   ]
  },
  {
   "cell_type": "code",
   "execution_count": 139,
   "metadata": {},
   "outputs": [],
   "source": [
    "# # explore the lowest part\n",
    "# df = df_impute_stl.iloc[67089:68543,]\n",
    "\n",
    "# plt.figure(figsize=[20, 6])\n",
    "# df['Load'].plot(style='.-',  label='Load')\n",
    "\n",
    "# plt.title(\"\")\n",
    "# plt.ylabel(\"Sales\")\n",
    "# plt.xlabel(\"Time\")\n",
    "# plt.show()"
   ]
  },
  {
   "cell_type": "code",
   "execution_count": 140,
   "metadata": {},
   "outputs": [],
   "source": [
    "# Date 從 index 轉成 columne\n",
    "df_one = df_impute_stl\n",
    "df_one['Date'] = df_one.index\n",
    "df_one = df_one.reset_index(drop=True)\n",
    "\n",
    "# 存成 list (train_test_select 吃 list)\n",
    "df_impute_stl_ls = [df_one] "
   ]
  },
  {
   "cell_type": "code",
   "execution_count": 143,
   "metadata": {},
   "outputs": [],
   "source": [
    "file_name = \"nyiso_NYC_impute_stl.pkl\" \n",
    "\n",
    "path = '/home/hchuang/Documents/Project/SSSD_CP/src/datasets/NYISO/pickle/'\n",
    "open_file = open(path + file_name, \"wb\")\n",
    "pickle.dump(df_impute_stl_ls, open_file)\n",
    "open_file.close()"
   ]
  },
  {
   "cell_type": "markdown",
   "metadata": {},
   "source": [
    "#### All"
   ]
  },
  {
   "cell_type": "code",
   "execution_count": 144,
   "metadata": {},
   "outputs": [],
   "source": [
    "df = df_all_time\n",
    "\n",
    "'''\n",
    "做補值：每個區域各自補\n",
    "Time: About 11.5 mins\n",
    "'''\n",
    "zones = df['Zone'].unique()\n",
    "# zones = ['CAPITL', 'N.Y.C.']\n",
    "all_impute_stl = []\n",
    "imputed_indices_ls = []\n",
    "for zone in zones: # 11\n",
    "\n",
    "    # one zone in one loop\n",
    "    result = df.loc[df['Zone'] == zone,]\n",
    "    # imputation\n",
    "    impute_result, imputed_indices = impute_stl(result)\n",
    "    # index -> column\n",
    "    impute_result['Date'] = impute_result.index\n",
    "    impute_result = impute_result.reset_index(drop=True)  \n",
    "    # save in a list\n",
    "    all_impute_stl.append(impute_result)\n",
    "    imputed_indices_ls.append(imputed_indices)\n",
    "    \n",
    "all_impute_stl_ls = [pd.concat(all_impute_stl, axis=0)]"
   ]
  },
  {
   "cell_type": "code",
   "execution_count": 145,
   "metadata": {},
   "outputs": [],
   "source": [
    "# 上面轉換花費太多時間，儲存成 pkl\n",
    "\n",
    "file_name = \"nyiso_all_impute_stl.pkl\"\n",
    "\n",
    "path = '/home/hchuang/Documents/Project/SSSD_CP/src/datasets/NYISO/pickle/'\n",
    "open_file = open(path + file_name, \"wb\")\n",
    "pickle.dump(all_impute_stl_ls, open_file)\n",
    "open_file.close()"
   ]
  },
  {
   "cell_type": "code",
   "execution_count": 148,
   "metadata": {},
   "outputs": [
    {
     "data": {
      "text/plain": [
       "(1149192, 3)"
      ]
     },
     "execution_count": 148,
     "metadata": {},
     "output_type": "execute_result"
    }
   ],
   "source": [
    "all_impute_stl_ls[0].shape"
   ]
  },
  {
   "cell_type": "code",
   "execution_count": 146,
   "metadata": {},
   "outputs": [
    {
     "name": "stdout",
     "output_type": "stream",
     "text": [
      "CAPITL\n",
      "mean: 1341.0\n",
      "sd: 253.0\n",
      "CENTRL\n",
      "mean: 1879.0\n",
      "sd: 297.0\n",
      "DUNWOD\n",
      "mean: 706.0\n",
      "sd: 167.0\n",
      "GENESE\n",
      "mean: 1144.0\n",
      "sd: 212.0\n",
      "HUD VL\n",
      "mean: 1171.0\n",
      "sd: 253.0\n",
      "LONGIL\n",
      "mean: 2542.0\n",
      "sd: 662.0\n",
      "MHK VL\n",
      "mean: 899.0\n",
      "sd: 173.0\n",
      "MILLWD\n",
      "mean: 322.0\n",
      "sd: 84.0\n",
      "N.Y.C.\n",
      "mean: 6138.0\n",
      "sd: 1304.0\n",
      "NORTH\n",
      "mean: 648.0\n",
      "sd: 133.0\n",
      "WEST\n",
      "mean: 1810.0\n",
      "sd: 258.0\n"
     ]
    }
   ],
   "source": [
    "df = all_impute_stl_ls[0]\n",
    "for zone in zones:\n",
    "    print(zone)\n",
    "    df_zone = df[(df['Zone']==zone)]\n",
    "\n",
    "    mean = round(np.mean(df_zone['Load']),0)\n",
    "    sd = round(np.std(df_zone['Load']),0)\n",
    "\n",
    "    print(f'mean: {mean}')\n",
    "    print(f'sd: {sd}')"
   ]
  },
  {
   "cell_type": "markdown",
   "metadata": {},
   "source": [
    "# Export data: 產出要使用的資料 (pd to np array)\n",
    "\n",
    "要產生可以餵進 SSSD code 的資料格式 np array (observation, channel, length)"
   ]
  },
  {
   "cell_type": "markdown",
   "metadata": {},
   "source": [
    "## Dataset 3: 8 days + STL + z normalization"
   ]
  },
  {
   "cell_type": "markdown",
   "metadata": {},
   "source": [
    "### NYC"
   ]
  },
  {
   "cell_type": "code",
   "execution_count": 115,
   "metadata": {},
   "outputs": [],
   "source": [
    "open_file = open(\"/home/hchuang/Documents/Project/SSSD_CP/src/datasets/NYISO/pickle/nyiso_NYC_impute_stl_20050131to20231231.pkl\", \"rb\")\n",
    "df_impute_stl_ls = pickle.load(open_file)\n",
    "open_file.close()"
   ]
  },
  {
   "cell_type": "code",
   "execution_count": 117,
   "metadata": {},
   "outputs": [],
   "source": [
    "open_file = open(\"/home/hchuang/Documents/Project/SSSD_CP/src/datasets/NYISO/pickle/nyiso_NYC_impute_stl.pkl\", \"rb\")\n",
    "df_impute_stl_ls_new = pickle.load(open_file)\n",
    "open_file.close()"
   ]
  },
  {
   "cell_type": "code",
   "execution_count": 142,
   "metadata": {},
   "outputs": [],
   "source": [
    "path = '/home/hchuang/Documents/Project/SSSD_CP/src/datasets/NYISO/dataset_3/'\n",
    "days_window = 8 # 幾天一組（也就是預測第幾天）\n",
    "zones = ['N.Y.C.']\n",
    "\n",
    "for index in range(len(zones)):\n",
    "    load_array_train, load_array_test = train_test_select(df_impute_stl_ls, \n",
    "                                                      train_start = '2005-01-31 00:00:00',\n",
    "                                                      train_end = '2016-10-19 23:00:00', \n",
    "                                                      test_start = '2016-10-13 00:00:00',\n",
    "                                                      test_end = '2016-12-31 23:00:00',\n",
    "                                                      zone_number = 1,\n",
    "                                                      days_window = days_window,\n",
    "                                                      zone_name = zones[index])\n",
    "\n",
    "    # save\n",
    "    # np.save(path + '/zone/'+zones[index]+'_train.npy', load_array_train)\n",
    "    # np.save(path + '/zone/'+zones[index]+'_test.npy', load_array_test)   \n",
    "\n",
    "    # normalization\n",
    "    load_array_train_stdd = z_normalization(load_array_train, days_normalized = days_window-1)\n",
    "    load_array_test_stdd = z_normalization(load_array_test, days_normalized = days_window-1)\n",
    "\n",
    "    # save\n",
    "    # np.save(path + '/zone/'+zones[index]+'_train_stdd.npy', load_array_train_stdd)\n",
    "    # np.save(path + '/zone/'+zones[index]+'_test_stdd.npy', load_array_test_stdd)"
   ]
  },
  {
   "cell_type": "code",
   "execution_count": 5,
   "metadata": {},
   "outputs": [
    {
     "name": "stdout",
     "output_type": "stream",
     "text": [
      "(2, 3)\n",
      "(1, 3)\n"
     ]
    }
   ],
   "source": [
    "a = np.array([[1,2,np.nan], [4,5,6]])\n",
    "print(a.shape)\n",
    "b = a[~np.isnan(a).any(axis=1)]\n",
    "print(b.shape)"
   ]
  },
  {
   "cell_type": "markdown",
   "metadata": {},
   "source": [
    "### Each zone"
   ]
  },
  {
   "cell_type": "code",
   "execution_count": 24,
   "metadata": {},
   "outputs": [],
   "source": [
    "open_file = open(\"/home/hchuang/Documents/Project/SSSD_CP/src/datasets/NYISO/pickle/nyiso_all_impute_stl.pkl\", \"rb\")\n",
    "all_impute_stl_ls = pickle.load(open_file)\n",
    "open_file.close()"
   ]
  },
  {
   "cell_type": "code",
   "execution_count": 46,
   "metadata": {},
   "outputs": [],
   "source": [
    "path = '/home/hchuang/Documents/Project/SSSD_CP/src/datasets/NYISO/dataset_3/'\n",
    "days_window = 8 # 幾天一組（也就是預測第幾天）\n",
    "zones = all_impute_stl_ls[0]['Zone'].unique()\n",
    "\n",
    "for index in range(len(zones)):\n",
    "    load_array_train, load_array_test = train_test_select(all_impute_stl_ls, \n",
    "                                                      train_start = '2005-01-31 00:00:00',\n",
    "                                                      train_end = '2016-10-19 23:00:00', \n",
    "                                                      test_start = '2016-10-13 00:00:00',\n",
    "                                                      test_end = '2016-12-31 23:00:00',\n",
    "                                                      zone_number = 1,\n",
    "                                                      days_window = days_window,\n",
    "                                                      zone_name = zones[index])\n",
    "\n",
    "    # save\n",
    "    np.save(path + '/zone/'+zones[index]+'_train.npy', load_array_train)\n",
    "    np.save(path + '/zone/'+zones[index]+'_test.npy', load_array_test)   \n",
    "\n",
    "    # normalization\n",
    "    load_array_train_stdd = z_normalization(load_array_train, days_normalized = days_window-1)\n",
    "    load_array_test_stdd = z_normalization(load_array_test, days_normalized = days_window-1)\n",
    "\n",
    "    # save\n",
    "    np.save(path + '/zone/'+zones[index]+'_train_stdd.npy', load_array_train_stdd)\n",
    "    np.save(path + '/zone/'+zones[index]+'_test_stdd.npy', load_array_test_stdd)"
   ]
  },
  {
   "cell_type": "markdown",
   "metadata": {},
   "source": [
    "### All"
   ]
  },
  {
   "cell_type": "code",
   "execution_count": 3,
   "metadata": {},
   "outputs": [],
   "source": [
    "open_file = open(\"/home/hchuang/Documents/Project/SSSD_CP/src/datasets/NYISO/pickle/nyiso_all_impute_stl.pkl\", \"rb\")\n",
    "all_impute_stl_ls = pickle.load(open_file)\n",
    "open_file.close()"
   ]
  },
  {
   "cell_type": "code",
   "execution_count": 4,
   "metadata": {},
   "outputs": [
    {
     "name": "stdout",
     "output_type": "stream",
     "text": [
      "(47003, 192, 1)\n",
      "(803, 192, 1)\n"
     ]
    }
   ],
   "source": [
    "path = '/home/hchuang/Documents/Project/SSSD_CP/src/datasets/NYISO/dataset_3/'\n",
    "days_window = 8 # 幾天一組（也就是預測第幾天）\n",
    "load_array_train, load_array_test = train_test_select(all_impute_stl_ls, \n",
    "                                                      train_start = '2005-01-31 00:00:00',\n",
    "                                                      train_end = '2016-10-19 23:00:00', \n",
    "                                                      test_start = '2016-10-13 00:00:00',\n",
    "                                                      test_end = '2016-12-31 23:00:00',\n",
    "                                                      zone_number = 11,\n",
    "                                                      days_window = days_window,\n",
    "                                                      zone_name = 'ALL')\n",
    "print(load_array_train.shape)\n",
    "print(load_array_test.shape)  \n",
    "\n",
    "# save\n",
    "np.save(path + 'all/load_array_all_train.npy', load_array_train)\n",
    "np.save(path + 'all/load_array_all_test.npy', load_array_test)\n",
    "\n",
    "# Normalization\n",
    "\n",
    "load_array_train_stdd = z_normalization(load_array_train, days_normalized = days_window-1)\n",
    "load_array_test_stdd = z_normalization(load_array_test, days_normalized = days_window-1)\n",
    "\n",
    "# check: if days_normalized = days_window, the sum of squares = 24*days_window\n",
    "# np.sum(np.square(load_array_test_stdd[0,:,0]))\n",
    "\n",
    "# save\n",
    "np.save(path + 'all/load_array_all_train_stdd.npy', load_array_train_stdd)\n",
    "np.save(path + 'all/load_array_all_test_stdd.npy', load_array_test_stdd)"
   ]
  },
  {
   "cell_type": "code",
   "execution_count": 50,
   "metadata": {},
   "outputs": [],
   "source": []
  },
  {
   "cell_type": "code",
   "execution_count": 65,
   "metadata": {},
   "outputs": [
    {
     "name": "stdout",
     "output_type": "stream",
     "text": [
      "(4273, 11, 192)\n"
     ]
    }
   ],
   "source": []
  },
  {
   "cell_type": "markdown",
   "metadata": {},
   "source": [
    "### Mix"
   ]
  },
  {
   "cell_type": "code",
   "execution_count": 10,
   "metadata": {},
   "outputs": [],
   "source": [
    "open_file = open(\"/home/hchuang/Documents/Project/SSSD_CP/src/datasets/NYISO/pickle/nyiso_all_impute_stl.pkl\", \"rb\")\n",
    "all_impute_stl_ls = pickle.load(open_file)\n",
    "open_file.close()"
   ]
  },
  {
   "cell_type": "code",
   "execution_count": 19,
   "metadata": {},
   "outputs": [],
   "source": [
    "path = '/home/hchuang/Documents/Project/SSSD_CP/src/datasets/NYISO/dataset_3/'\n",
    "days_window = 8 # 幾天一組（也就是預測第幾天）\n",
    "zones = all_impute_stl_ls[0]['Zone'].unique()\n",
    "\n",
    "load_array_mix_train = np.concatenate([np.load(path + '/zone/'+zone+'_train.npy') for zone in zones]) \n",
    "load_array_mix_test = np.concatenate([np.load(path + '/zone/'+zone+'_test.npy') for zone in zones]) \n",
    "load_array_mix_train_stdd = np.concatenate([np.load(path + '/zone/'+zone+'_train_stdd.npy') for zone in zones]) \n",
    "load_array_mix_test_stdd = np.concatenate([np.load(path + '/zone/'+zone+'_test_stdd.npy') for zone in zones]) \n",
    "\n",
    "np.save(path + 'mix/load_array_mix_train.npy', load_array_mix_train)\n",
    "np.save(path + 'mix/load_array_mix_test.npy', load_array_mix_test)\n",
    "np.save(path + 'mix/load_array_mix_train_stdd.npy', load_array_mix_train_stdd)\n",
    "np.save(path + 'mix/load_array_mix_test_stdd.npy', load_array_mix_test_stdd)"
   ]
  },
  {
   "cell_type": "code",
   "execution_count": 110,
   "metadata": {},
   "outputs": [],
   "source": [
    "# data = np.load(path + 'mix/load_array_mix_train_stdd.npy')\n",
    "# data.shape"
   ]
  },
  {
   "cell_type": "markdown",
   "metadata": {},
   "source": [
    "## Dataset 4: 8 days + remove na + z normalization\n",
    "\n",
    "移除 NA 在 'train_test_select' 內執行"
   ]
  },
  {
   "cell_type": "code",
   "execution_count": 90,
   "metadata": {},
   "outputs": [],
   "source": [
    "df_all_time_ls = [df_all_time]"
   ]
  },
  {
   "cell_type": "markdown",
   "metadata": {},
   "source": [
    "### Each zone"
   ]
  },
  {
   "cell_type": "code",
   "execution_count": 95,
   "metadata": {},
   "outputs": [],
   "source": [
    "path = '/home/hchuang/Documents/Project/SSSD_CP/src/datasets/NYISO/dataset_4/'\n",
    "days_window = 8 # 幾天一組（也就是預測第幾天）\n",
    "zones = df_all_time['Zone'].unique()\n",
    "\n",
    "for index in range(len(zones)):\n",
    "    load_array_train, load_array_test = train_test_select(df_all_time, \n",
    "                                                      train_start = '2005-01-31 00:00:00',\n",
    "                                                      train_end = '2016-10-19 23:00:00', \n",
    "                                                      test_start = '2016-10-13 00:00:00',\n",
    "                                                      test_end = '2016-12-31 23:00:00',\n",
    "                                                      zone_number = 1,\n",
    "                                                      days_window = days_window,\n",
    "                                                      zone_name = zones[index])\n",
    "\n",
    "    # save\n",
    "    np.save(path + 'zone/'+zones[index]+'_train.npy', load_array_train)\n",
    "    np.save(path + 'zone/'+zones[index]+'_test.npy', load_array_test)   \n",
    "\n",
    "    # normalization\n",
    "    load_array_train_stdd = z_normalization(load_array_train, days_normalized = days_window-1)\n",
    "    load_array_test_stdd = z_normalization(load_array_test, days_normalized = days_window-1)\n",
    "\n",
    "    # save\n",
    "    np.save(path + 'zone/'+zones[index]+'_train_stdd.npy', load_array_train_stdd)\n",
    "    np.save(path + 'zone/'+zones[index]+'_test_stdd.npy', load_array_test_stdd)"
   ]
  },
  {
   "cell_type": "code",
   "execution_count": 155,
   "metadata": {},
   "outputs": [],
   "source": [
    "load_array_train, load_array_test = train_test_select(df_all_time, \n",
    "                                                    train_start = '2005-01-31 00:00:00',\n",
    "                                                    train_end = '2016-10-19 23:00:00', \n",
    "                                                    test_start = '2016-10-13 00:00:00',\n",
    "                                                    test_end = '2016-12-31 23:00:00',\n",
    "                                                    zone_number = 1,\n",
    "                                                    days_window = 8,\n",
    "                                                    zone_name = 'N.Y.C.')"
   ]
  },
  {
   "cell_type": "code",
   "execution_count": 156,
   "metadata": {},
   "outputs": [
    {
     "data": {
      "text/plain": [
       "(4121, 192, 1)"
      ]
     },
     "execution_count": 156,
     "metadata": {},
     "output_type": "execute_result"
    }
   ],
   "source": [
    "load_array_train.shape"
   ]
  },
  {
   "cell_type": "markdown",
   "metadata": {},
   "source": [
    "### All"
   ]
  },
  {
   "cell_type": "code",
   "execution_count": 157,
   "metadata": {},
   "outputs": [
    {
     "name": "stdout",
     "output_type": "stream",
     "text": [
      "(4074, 192, 11)\n",
      "(73, 192, 11)\n"
     ]
    }
   ],
   "source": [
    "path = '/home/hchuang/Documents/Project/SSSD_CP/src/datasets/NYISO/dataset_4/'\n",
    "days_window = 8 # 幾天一組（也就是預測第幾天）\n",
    "load_array_train, load_array_test = train_test_select(df_all_time, \n",
    "                                                      train_start = '2005-01-31 00:00:00',\n",
    "                                                      train_end = '2016-10-19 23:00:00', \n",
    "                                                      test_start = '2016-10-13 00:00:00',\n",
    "                                                      test_end = '2016-12-31 23:00:00',\n",
    "                                                      zone_number = 11,\n",
    "                                                      days_window = days_window,\n",
    "                                                      zone_name = 'ALL')\n",
    "print(load_array_train.shape)\n",
    "print(load_array_test.shape)  \n",
    "\n",
    "# save\n",
    "np.save(path + 'all/load_array_all_train.npy', load_array_train)\n",
    "np.save(path + 'all/load_array_all_test.npy', load_array_test)\n",
    "\n",
    "# Normalization\n",
    "\n",
    "load_array_train_stdd = z_normalization(load_array_train, days_normalized = days_window-1)\n",
    "load_array_test_stdd = z_normalization(load_array_test, days_normalized = days_window-1)\n",
    "\n",
    "# check: if days_normalized = days_window, the sum of squares = 24*days_window\n",
    "# np.sum(np.square(load_array_test_stdd[0,:,0]))\n",
    "\n",
    "# save\n",
    "np.save(path + 'all/load_array_all_train_stdd.npy', load_array_train_stdd)\n",
    "np.save(path + 'all/load_array_all_test_stdd.npy', load_array_test_stdd)"
   ]
  },
  {
   "cell_type": "markdown",
   "metadata": {},
   "source": [
    "### Mix"
   ]
  },
  {
   "cell_type": "code",
   "execution_count": 97,
   "metadata": {},
   "outputs": [],
   "source": [
    "path = '/home/hchuang/Documents/Project/SSSD_CP/src/datasets/NYISO/dataset_4/'\n",
    "days_window = 8 # 幾天一組（也就是預測第幾天）\n",
    "zones = all_impute_stl_ls[0]['Zone'].unique()\n",
    "\n",
    "load_array_mix_train = np.concatenate([np.load(path + '/zone/'+zone+'_train.npy') for zone in zones]) \n",
    "load_array_mix_test = np.concatenate([np.load(path + '/zone/'+zone+'_test.npy') for zone in zones]) \n",
    "load_array_mix_train_stdd = np.concatenate([np.load(path + '/zone/'+zone+'_train_stdd.npy') for zone in zones]) \n",
    "load_array_mix_test_stdd = np.concatenate([np.load(path + '/zone/'+zone+'_test_stdd.npy') for zone in zones]) \n",
    "\n",
    "np.save(path + 'mix/load_array_mix_train.npy', load_array_mix_train)\n",
    "np.save(path + 'mix/load_array_mix_test.npy', load_array_mix_test)\n",
    "np.save(path + 'mix/load_array_mix_train_stdd.npy', load_array_mix_train_stdd)\n",
    "np.save(path + 'mix/load_array_mix_test_stdd.npy', load_array_mix_test_stdd)"
   ]
  },
  {
   "cell_type": "markdown",
   "metadata": {},
   "source": [
    "### zone split"
   ]
  },
  {
   "cell_type": "code",
   "execution_count": 34,
   "metadata": {},
   "outputs": [],
   "source": [
    "path = \"/home/hchuang/Documents/Project/SSSD_CP/src/datasets/NYISO/dataset_4/\"\n",
    "\n",
    "# creat 'zone_split' folder\n",
    "if not os.path.exists(path+'zone_split'):\n",
    "    os.makedirs(path+'zone_split')\n",
    "\n",
    "# create list containing file names of training data\n",
    "file_ls = os.listdir(path+'zone')\n",
    "train_files_ls = [file for file in file_ls if 'train' in file]\n",
    "\n",
    "for file in train_files_ls:\n",
    "    # read\n",
    "    data_npy = np.load(path+'zone/'+file)\n",
    "\n",
    "    # 將資料分成 I1 和 I2\n",
    "    np.random.seed(42)\n",
    "\n",
    "    random_indices = np.random.choice(data_npy.shape[0], data_npy.shape[0]//2, replace=False)\n",
    "    remaining_indices = np.setdiff1d(np.arange(data_npy.shape[0]), random_indices)\n",
    "\n",
    "    sample_I1 = data_npy[random_indices]\n",
    "    sample_I2 = data_npy[remaining_indices]\n",
    "\n",
    "    # save\n",
    "    np.save(path+'zone_split/I1_'+file, sample_I1)\n",
    "    np.save(path+'zone_split/I2_'+file, sample_I2)\n"
   ]
  },
  {
   "cell_type": "markdown",
   "metadata": {},
   "source": [
    "## Dataset 5:  8 days + remove na + range normalization\n",
    "\n",
    "移除 NA 在 'train_test_select' 內執行"
   ]
  },
  {
   "cell_type": "code",
   "execution_count": null,
   "metadata": {},
   "outputs": [],
   "source": [
    "df_all_time_ls = [df_all_time]"
   ]
  },
  {
   "cell_type": "markdown",
   "metadata": {},
   "source": [
    "### Each zone"
   ]
  },
  {
   "cell_type": "code",
   "execution_count": 106,
   "metadata": {},
   "outputs": [],
   "source": [
    "path = '/home/hchuang/Documents/Project/SSSD_CP/src/datasets/NYISO/dataset_5/'\n",
    "days_window = 8 # 幾天一組（也就是預測第幾天）\n",
    "zones = df_all_time['Zone'].unique()\n",
    "\n",
    "for index in range(len(zones)):   \n",
    "    load_array_train, load_array_test = train_test_select(df_all_time, \n",
    "                                                      train_start = '2005-01-31 00:00:00',\n",
    "                                                      train_end = '2016-10-19 23:00:00', \n",
    "                                                      test_start = '2016-10-13 00:00:00',\n",
    "                                                      test_end = '2016-12-31 23:00:00',\n",
    "                                                      zone_number = 1,\n",
    "                                                      days_window = days_window,\n",
    "                                                      zone_name = zones[index])\n",
    "\n",
    "    # save\n",
    "    np.save(path + 'zone/'+zones[index]+'_train.npy', load_array_train)\n",
    "    np.save(path + 'zone/'+zones[index]+'_test.npy', load_array_test)   \n",
    "\n",
    "    # normalization\n",
    "    load_array_train_stdd = range_normalization(load_array_train, days_normalized = days_window-1)\n",
    "    load_array_test_stdd = range_normalization(load_array_test, days_normalized = days_window-1)\n",
    "\n",
    "    # save\n",
    "    np.save(path + 'zone/'+zones[index]+'_train_stdd.npy', load_array_train_stdd)\n",
    "    np.save(path + 'zone/'+zones[index]+'_test_stdd.npy', load_array_test_stdd)"
   ]
  },
  {
   "cell_type": "markdown",
   "metadata": {},
   "source": [
    "### All"
   ]
  },
  {
   "cell_type": "code",
   "execution_count": 104,
   "metadata": {},
   "outputs": [
    {
     "name": "stdout",
     "output_type": "stream",
     "text": [
      "(47003, 192, 1)\n",
      "(803, 192, 1)\n"
     ]
    }
   ],
   "source": [
    "path = '/home/hchuang/Documents/Project/SSSD_CP/src/datasets/NYISO/dataset_5/'\n",
    "days_window = 8 # 幾天一組（也就是預測第幾天）\n",
    "load_array_train, load_array_test = train_test_select(all_impute_stl_ls, \n",
    "                                                      train_start = '2005-01-31 00:00:00',\n",
    "                                                      train_end = '2016-10-19 23:00:00', \n",
    "                                                      test_start = '2016-10-13 00:00:00',\n",
    "                                                      test_end = '2016-12-31 23:00:00',\n",
    "                                                      zone_number = 11,\n",
    "                                                      days_window = days_window,\n",
    "                                                      zone_name = 'ALL')\n",
    "print(load_array_train.shape)\n",
    "print(load_array_test.shape)  \n",
    "\n",
    "# save\n",
    "np.save(path + 'all/load_array_all_train.npy', load_array_train)\n",
    "np.save(path + 'all/load_array_all_test.npy', load_array_test)\n",
    "\n",
    "# Normalization\n",
    "\n",
    "load_array_train_stdd = range_normalization(load_array_train, days_normalized = days_window-1)\n",
    "load_array_test_stdd = range_normalization(load_array_test, days_normalized = days_window-1)\n",
    "\n",
    "# check: if days_normalized = days_window, the sum of squares = 24*days_window\n",
    "# np.sum(np.square(load_array_test_stdd[0,:,0]))\n",
    "\n",
    "# save\n",
    "np.save(path + 'all/load_array_all_train_stdd.npy', load_array_train_stdd)\n",
    "np.save(path + 'all/load_array_all_test_stdd.npy', load_array_test_stdd)"
   ]
  },
  {
   "cell_type": "markdown",
   "metadata": {},
   "source": [
    "### Mix"
   ]
  },
  {
   "cell_type": "code",
   "execution_count": 107,
   "metadata": {},
   "outputs": [],
   "source": [
    "path = '/home/hchuang/Documents/Project/SSSD_CP/src/datasets/NYISO/dataset_5/'\n",
    "days_window = 8 # 幾天一組（也就是預測第幾天）\n",
    "zones = all_impute_stl_ls[0]['Zone'].unique()\n",
    "\n",
    "load_array_mix_train = np.concatenate([np.load(path + '/zone/'+zone+'_train.npy') for zone in zones]) \n",
    "load_array_mix_test = np.concatenate([np.load(path + '/zone/'+zone+'_test.npy') for zone in zones]) \n",
    "load_array_mix_train_stdd = np.concatenate([np.load(path + '/zone/'+zone+'_train_stdd.npy') for zone in zones]) \n",
    "load_array_mix_test_stdd = np.concatenate([np.load(path + '/zone/'+zone+'_test_stdd.npy') for zone in zones]) \n",
    "\n",
    "np.save(path + 'mix/load_array_mix_train.npy', load_array_mix_train)\n",
    "np.save(path + 'mix/load_array_mix_test.npy', load_array_mix_test)\n",
    "np.save(path + 'mix/load_array_mix_train_stdd.npy', load_array_mix_train_stdd)\n",
    "np.save(path + 'mix/load_array_mix_test_stdd.npy', load_array_mix_test_stdd)"
   ]
  },
  {
   "cell_type": "markdown",
   "metadata": {},
   "source": [
    "### zone split"
   ]
  },
  {
   "cell_type": "code",
   "execution_count": 5,
   "metadata": {},
   "outputs": [],
   "source": [
    "path = \"/home/hchuang/Documents/Project/SSSD_CP/src/datasets/NYISO/dataset_5/\"\n",
    "\n",
    "# creat 'zone_split' folder\n",
    "if not os.path.exists(path+'zone_split'):\n",
    "    os.makedirs(path+'zone_split')\n",
    "\n",
    "# create list containing file names of training data\n",
    "file_ls = os.listdir(path+'zone')\n",
    "train_files_ls = [file for file in file_ls if 'train' in file]\n",
    "\n",
    "for file in train_files_ls:\n",
    "    # read\n",
    "    data_npy = np.load(path+'zone/'+file)\n",
    "\n",
    "    # 將資料分成 I1 和 I2\n",
    "    np.random.seed(42)\n",
    "\n",
    "    random_indices = np.random.choice(data_npy.shape[0], data_npy.shape[0]//2, replace=False)\n",
    "    remaining_indices = np.setdiff1d(np.arange(data_npy.shape[0]), random_indices)\n",
    "\n",
    "    sample_I1 = data_npy[random_indices]\n",
    "    sample_I2 = data_npy[remaining_indices]\n",
    "\n",
    "    # save\n",
    "    np.save(path+'zone_split/I1_'+file, sample_I1)\n",
    "    np.save(path+'zone_split/I2_'+file, sample_I2)\n"
   ]
  },
  {
   "cell_type": "markdown",
   "metadata": {},
   "source": [
    "## Dataset 6\n",
    "\n",
    "新增 2017.01.01 之後的資料進入 test data"
   ]
  },
  {
   "cell_type": "code",
   "execution_count": 21,
   "metadata": {},
   "outputs": [
    {
     "name": "stdout",
     "output_type": "stream",
     "text": [
      "(1823976, 3)\n"
     ]
    },
    {
     "data": {
      "text/plain": [
       "Timestamp('2023-12-31 23:00:00')"
      ]
     },
     "execution_count": 21,
     "metadata": {},
     "output_type": "execute_result"
    }
   ],
   "source": [
    "print(df_all_time.shape)\n",
    "np.max(df_all_time['Date'])"
   ]
  },
  {
   "cell_type": "markdown",
   "metadata": {},
   "source": [
    "### Each zone "
   ]
  },
  {
   "cell_type": "code",
   "execution_count": 25,
   "metadata": {},
   "outputs": [],
   "source": [
    "path = '/home/hchuang/Documents/Project/SSSD_CP/src/datasets/NYISO/dataset_6/'\n",
    "days_window = 8 # 幾天一組（也就是預測第幾天）\n",
    "zones = df_all_time['Zone'].unique()\n",
    "\n",
    "for index in range(len(zones)):\n",
    "    load_array_train, load_array_test = train_test_select(df_all_time, \n",
    "                                                      train_start = '2005-01-31 00:00:00',\n",
    "                                                      train_end = '2016-10-19 23:00:00', \n",
    "                                                      test_start = '2016-10-13 00:00:00',\n",
    "                                                      test_end = '2017-10-12 23:00:00',\n",
    "                                                      zone_number = 1,\n",
    "                                                      days_window = days_window,\n",
    "                                                      zone_name = zones[index])\n",
    "\n",
    "    # save\n",
    "    np.save(path + 'zone/'+zones[index]+'_train.npy', load_array_train)\n",
    "    np.save(path + 'zone/'+zones[index]+'_test.npy', load_array_test)   \n",
    "\n",
    "    # normalization\n",
    "    load_array_train_stdd = z_normalization(load_array_train, days_normalized = days_window-1)\n",
    "    load_array_test_stdd = z_normalization(load_array_test, days_normalized = days_window-1)\n",
    "\n",
    "    # save\n",
    "    np.save(path + 'zone/'+zones[index]+'_train_stdd.npy', load_array_train_stdd)\n",
    "    np.save(path + 'zone/'+zones[index]+'_test_stdd.npy', load_array_test_stdd)"
   ]
  },
  {
   "cell_type": "markdown",
   "metadata": {},
   "source": [
    "# Issue: Data size"
   ]
  },
  {
   "cell_type": "code",
   "execution_count": 5,
   "metadata": {},
   "outputs": [
    {
     "name": "stdout",
     "output_type": "stream",
     "text": [
      "(4074, 192, 11)\n",
      "(73, 192, 11)\n",
      "(45278, 192, 1)\n",
      "(803, 192, 1)\n"
     ]
    }
   ],
   "source": [
    "main_folder = '/home/hchuang/Documents/Project/SSSD_CP/src/datasets/NYISO/dataset_4/'\n",
    "\n",
    "\n",
    "data = np.load(main_folder + 'all/load_array_all_train.npy')\n",
    "print(data.shape)\n",
    "data = np.load(main_folder + 'all/load_array_all_test.npy')\n",
    "print(data.shape)\n",
    "\n",
    "data = np.load(main_folder + 'mix/load_array_mix_train.npy')\n",
    "print(data.shape)\n",
    "data = np.load(main_folder + 'mix/load_array_mix_test.npy')\n",
    "print(data.shape)"
   ]
  },
  {
   "cell_type": "code",
   "execution_count": 20,
   "metadata": {},
   "outputs": [
    {
     "name": "stdout",
     "output_type": "stream",
     "text": [
      "CENTRL_train.npy\n",
      "(4121, 192, 1)\n",
      "CAPITL_train.npy\n",
      "(4115, 192, 1)\n",
      "NORTH_train.npy\n",
      "(4121, 192, 1)\n",
      "GENESE_train.npy\n",
      "(4121, 192, 1)\n",
      "WEST_train.npy\n",
      "(4121, 192, 1)\n",
      "MHK VL_train.npy\n",
      "(4121, 192, 1)\n",
      "DUNWOD_train.npy\n",
      "(4121, 192, 1)\n",
      "LONGIL_train.npy\n",
      "(4121, 192, 1)\n",
      "MILLWD_train.npy\n",
      "(4080, 192, 1)\n",
      "HUD VL_train.npy\n",
      "(4115, 192, 1)\n",
      "N.Y.C._train.npy\n",
      "(4121, 192, 1)\n",
      "加總應該要等於 mix 的數量: 45278\n"
     ]
    }
   ],
   "source": [
    "from os import listdir\n",
    "\n",
    "files = listdir(main_folder + 'zone/')\n",
    "filtered_list = [element for element in files if 'train.npy' in element]\n",
    "\n",
    "\n",
    "c = 0\n",
    "for file in filtered_list:\n",
    "    data = np.load(main_folder + 'zone/' + file)\n",
    "    print(file)\n",
    "    print(data.shape)\n",
    "    c += data.shape[0]\n",
    "print(f'加總應該要等於 mix 的數量: {c}')    "
   ]
  },
  {
   "cell_type": "code",
   "execution_count": 18,
   "metadata": {},
   "outputs": [
    {
     "name": "stdout",
     "output_type": "stream",
     "text": [
      "(73, 192, 1)\n",
      "(73, 192, 1)\n",
      "(73, 192, 1)\n",
      "(73, 192, 1)\n",
      "(73, 192, 1)\n",
      "(73, 192, 1)\n",
      "(73, 192, 1)\n",
      "(73, 192, 1)\n",
      "(73, 192, 1)\n",
      "(73, 192, 1)\n",
      "(73, 192, 1)\n",
      "加總應該要等於 mix 的數量: 803\n"
     ]
    }
   ],
   "source": [
    "from os import listdir\n",
    "\n",
    "files = listdir(main_folder + 'zone/')\n",
    "filtered_list = [element for element in files if 'test.npy' in element]\n",
    "\n",
    "\n",
    "c = 0\n",
    "for file in filtered_list:\n",
    "    data = np.load(main_folder + 'zone/' + file)\n",
    "    print(data.shape)\n",
    "    c += data.shape[0]\n",
    "print(f'加總應該要等於 mix 的數量: {c}')    "
   ]
  },
  {
   "cell_type": "markdown",
   "metadata": {},
   "source": [
    "# Issue: dataset/all 對應到 zone name"
   ]
  },
  {
   "cell_type": "code",
   "execution_count": 4,
   "metadata": {},
   "outputs": [],
   "source": [
    "main = '/home/hchuang/Documents/Project/SSSD_CP/src/datasets/NYISO/dataset_4/'\n",
    "data_all = np.load(main + 'all/load_array_all_train.npy')\n"
   ]
  },
  {
   "cell_type": "code",
   "execution_count": 9,
   "metadata": {},
   "outputs": [
    {
     "name": "stdout",
     "output_type": "stream",
     "text": [
      "(4074, 192, 11)\n",
      "[1342.3629991  1878.88523871  708.67846378 1145.92819173 1174.98392921\n",
      " 2557.43701599  898.88000557  323.16935022 6167.43471238  648.27929898\n",
      " 1811.35928717]\n"
     ]
    }
   ],
   "source": [
    "print(data_all.shape)\n",
    "print(np.mean(data_all, axis=(0,1)))"
   ]
  },
  {
   "cell_type": "code",
   "execution_count": 11,
   "metadata": {},
   "outputs": [
    {
     "name": "stdout",
     "output_type": "stream",
     "text": [
      "CENTRL_train.npy\n",
      "[1878.43171699]\n",
      "CAPITL_train.npy\n",
      "[1341.5867621]\n",
      "NORTH_train.npy\n",
      "[648.74333116]\n",
      "GENESE_train.npy\n",
      "[1145.26641238]\n",
      "WEST_train.npy\n",
      "[1810.79902608]\n",
      "MHK VL_train.npy\n",
      "[898.42289859]\n",
      "DUNWOD_train.npy\n",
      "[708.26366123]\n",
      "LONGIL_train.npy\n",
      "[2554.5129105]\n",
      "MILLWD_train.npy\n",
      "[323.05246324]\n",
      "HUD VL_train.npy\n",
      "[1174.18534072]\n",
      "N.Y.C._train.npy\n",
      "[6162.27081033]\n"
     ]
    }
   ],
   "source": [
    "from os import listdir\n",
    "\n",
    "main_folder = '/home/hchuang/Documents/Project/SSSD_CP/src/datasets/NYISO/dataset_4/'\n",
    "files = listdir(main_folder + 'zone/')\n",
    "filtered_list = [element for element in files if 'train.npy' in element]\n",
    "\n",
    "for file in filtered_list:\n",
    "    data = np.load(main_folder + 'zone/' + file)\n",
    "    print(file)\n",
    "    print(np.mean(data, axis=(0,1)))\n"
   ]
  },
  {
   "cell_type": "markdown",
   "metadata": {},
   "source": [
    "# Issue: 資料儲存大小 Total bytes consumed by the elements of the array."
   ]
  },
  {
   "cell_type": "code",
   "execution_count": 9,
   "metadata": {},
   "outputs": [],
   "source": [
    "import sys\n",
    "main = '/home/hchuang/Documents/Project/SSSD_CP/src/datasets/'"
   ]
  },
  {
   "cell_type": "code",
   "execution_count": 57,
   "metadata": {},
   "outputs": [
    {
     "name": "stdout",
     "output_type": "stream",
     "text": [
      "(10000, 100, 1)\n",
      "64.0 KB\n"
     ]
    }
   ],
   "source": [
    "data = np.load(main+'AR/train_ar1_10000_100.npy')\n",
    "print(data.shape)\n",
    "print(f'{data[0:80,:,:].nbytes/1000} KB')"
   ]
  },
  {
   "cell_type": "code",
   "execution_count": 60,
   "metadata": {},
   "outputs": [
    {
     "name": "stdout",
     "output_type": "stream",
     "text": [
      "(100000, 3, 1)\n",
      "1.92 KB\n",
      "(10000, 3, 1)\n",
      "1.92 KB\n"
     ]
    }
   ],
   "source": [
    "data = np.load(main+'AR/train_ar1_100000_3.npy')\n",
    "print(data.shape)\n",
    "print(f'{data[0:80,:,:].nbytes/1000} KB')\n",
    "data = np.load(main+'AR/train_ar1_10000_3.npy')\n",
    "print(data.shape)\n",
    "print(f'{data[0:80,:,:].nbytes/1000} KB')"
   ]
  },
  {
   "cell_type": "code",
   "execution_count": 67,
   "metadata": {},
   "outputs": [
    {
     "name": "stdout",
     "output_type": "stream",
     "text": [
      "(4273, 192, 1)\n",
      "122.88 KB\n"
     ]
    }
   ],
   "source": [
    "data = np.load(main+'NYISO/dataset_3/zone/N.Y.C._train_stdd.npy')\n",
    "print(data.shape)\n",
    "print(f'{data[0:80].nbytes/1000} KB')"
   ]
  },
  {
   "cell_type": "code",
   "execution_count": 68,
   "metadata": {},
   "outputs": [
    {
     "data": {
      "text/plain": [
       "dtype('float64')"
      ]
     },
     "execution_count": 68,
     "metadata": {},
     "output_type": "execute_result"
    }
   ],
   "source": [
    "data.dtype"
   ]
  },
  {
   "cell_type": "code",
   "execution_count": 66,
   "metadata": {},
   "outputs": [
    {
     "name": "stdout",
     "output_type": "stream",
     "text": [
      "(4121, 192, 1)\n",
      "122.88 KB\n"
     ]
    }
   ],
   "source": [
    "data = np.load(main+'NYISO/dataset_4/zone/N.Y.C._train_stdd.npy')\n",
    "print(data.shape)\n",
    "print(f'{data[0:80].nbytes/1000} KB')"
   ]
  },
  {
   "cell_type": "code",
   "execution_count": 86,
   "metadata": {},
   "outputs": [
    {
     "name": "stdout",
     "output_type": "stream",
     "text": [
      "(4074, 192, 11)\n",
      "68834.304 KB\n"
     ]
    }
   ],
   "source": [
    "data = np.load(main+'NYISO/dataset_4/all/load_array_all_train_stdd.npy')\n",
    "print(data.shape)\n",
    "print(f'{data.nbytes/1000} KB')"
   ]
  },
  {
   "cell_type": "code",
   "execution_count": 74,
   "metadata": {},
   "outputs": [
    {
     "data": {
      "text/plain": [
       "dtype('float64')"
      ]
     },
     "execution_count": 74,
     "metadata": {},
     "output_type": "execute_result"
    }
   ],
   "source": [
    "data.dtype # 1G 不到"
   ]
  },
  {
   "cell_type": "code",
   "execution_count": 83,
   "metadata": {},
   "outputs": [
    {
     "data": {
      "text/plain": [
       "68834304"
      ]
     },
     "execution_count": 83,
     "metadata": {},
     "output_type": "execute_result"
    }
   ],
   "source": [
    "8*4074*192*11"
   ]
  },
  {
   "cell_type": "code",
   "execution_count": 77,
   "metadata": {},
   "outputs": [
    {
     "data": {
      "text/plain": [
       "8"
      ]
     },
     "execution_count": 77,
     "metadata": {},
     "output_type": "execute_result"
    }
   ],
   "source": [
    "data.itemsize"
   ]
  },
  {
   "cell_type": "code",
   "execution_count": 87,
   "metadata": {},
   "outputs": [
    {
     "name": "stdout",
     "output_type": "stream",
     "text": [
      "68834304\n"
     ]
    }
   ],
   "source": [
    "print(np.prod(data.shape)*data.itemsize)"
   ]
  },
  {
   "cell_type": "code",
   "execution_count": null,
   "metadata": {},
   "outputs": [],
   "source": []
  }
 ],
 "metadata": {
  "kernelspec": {
   "display_name": "pt_fan",
   "language": "python",
   "name": "python3"
  },
  "language_info": {
   "codemirror_mode": {
    "name": "ipython",
    "version": 3
   },
   "file_extension": ".py",
   "mimetype": "text/x-python",
   "name": "python",
   "nbconvert_exporter": "python",
   "pygments_lexer": "ipython3",
   "version": "3.9.7"
  },
  "orig_nbformat": 4
 },
 "nbformat": 4,
 "nbformat_minor": 2
}
