{
 "cells": [
  {
   "cell_type": "code",
   "execution_count": 115,
   "metadata": {},
   "outputs": [],
   "source": [
    "import pandas as pd\n",
    "import numpy as np\n",
    "import matplotlib.pyplot as plt\n",
    "import seaborn as sns\n",
    "import os\n",
    "import pickle\n",
    "\n",
    "from utils.data_utils import *"
   ]
  },
  {
   "cell_type": "code",
   "execution_count": 116,
   "metadata": {},
   "outputs": [],
   "source": [
    "# 更改 utils/data_utils.py 中的自訂 function 可重新 reload\n",
    "from importlib import reload\n",
    "from utils import data_utils\n",
    "reload(data_utils)\n",
    "from utils.data_utils import *"
   ]
  },
  {
   "cell_type": "markdown",
   "metadata": {},
   "source": [
    "# Read data"
   ]
  },
  {
   "cell_type": "code",
   "execution_count": 3,
   "metadata": {},
   "outputs": [
    {
     "name": "stdout",
     "output_type": "stream",
     "text": [
      "原始資料數量: (2174180, 3)\n"
     ]
    }
   ],
   "source": [
    "path = '/home/hchuang/Documents/Project/SSSD_CP/src/datasets/NYISO/pickle/'\n",
    "load = pd.read_pickle(path + 'load_nyisocom.pickle')\n",
    "print(f'原始資料數量: {load.shape}')"
   ]
  },
  {
   "cell_type": "code",
   "execution_count": 4,
   "metadata": {},
   "outputs": [
    {
     "name": "stdout",
     "output_type": "stream",
     "text": [
      "選定區間後原始資料數量: (1149191, 3)\n"
     ]
    }
   ],
   "source": [
    "# 2005-01-31 之前, NYC 和 LONG IL 是並在一起, 資料不適合使用\n",
    "# load = load[(load['Date']>='2005-01-31 00:00:00')]\n",
    "load = load[(load['Date']>='2005-01-31 00:00:00') & (load['Date']<='2016-12-31 23:00:00')]\n",
    "print(f'選定區間後原始資料數量: {load.shape}')"
   ]
  },
  {
   "cell_type": "markdown",
   "metadata": {},
   "source": [
    "# Clean data"
   ]
  },
  {
   "cell_type": "markdown",
   "metadata": {},
   "source": [
    "## 原先資料就有的NA \n",
    "(後面NA一起處理)"
   ]
  },
  {
   "cell_type": "code",
   "execution_count": 5,
   "metadata": {},
   "outputs": [
    {
     "name": "stdout",
     "output_type": "stream",
     "text": [
      "33\n"
     ]
    }
   ],
   "source": [
    "print(load['Load'].isna().sum())\n",
    "# load[load['Load'].isna()]"
   ]
  },
  {
   "cell_type": "markdown",
   "metadata": {},
   "source": [
    "## unusal values"
   ]
  },
  {
   "cell_type": "markdown",
   "metadata": {},
   "source": [
    "### Explore"
   ]
  },
  {
   "cell_type": "code",
   "execution_count": 6,
   "metadata": {},
   "outputs": [
    {
     "data": {
      "image/png": "[encoded data removed]",
      "text/plain": [
       "<Figure size 1152x576 with 1 Axes>"
      ]
     },
     "metadata": {
      "needs_background": "light"
     },
     "output_type": "display_data"
    }
   ],
   "source": [
    "df = load\n",
    "\n",
    "load_data_by_zone = []\n",
    "# 遍歷每個類別，將相應的Load數據添加到列表中\n",
    "for zone, data in df.groupby('Zone')['Load']:\n",
    "    load_data_by_zone.append(data)\n",
    "\n",
    "# 繪製箱形圖\n",
    "plt.figure(figsize=(16, 8))\n",
    "plt.boxplot(load_data_by_zone, labels=df['Zone'].unique(), vert=True)\n",
    "plt.xlabel('')\n",
    "plt.ylabel('')\n",
    "plt.title('')\n",
    "plt.tick_params(axis='x', labelsize=18)\n",
    "plt.tick_params(axis='y', labelsize=18)\n",
    "\n",
    "plt.show()"
   ]
  },
  {
   "cell_type": "markdown",
   "metadata": {},
   "source": [
    "### Remove 0 and negative"
   ]
  },
  {
   "cell_type": "code",
   "execution_count": 7,
   "metadata": {},
   "outputs": [
    {
     "name": "stdout",
     "output_type": "stream",
     "text": [
      "刪除前資料數量: (1149191, 3)\n",
      "小於等於0的數量: (115, 3)\n",
      "刪除後資料數量: (1149076, 3)\n"
     ]
    }
   ],
   "source": [
    "print(f'刪除前資料數量: {df.shape}')\n",
    "non_pos = df[df['Load']<=0]\n",
    "print(f'小於等於0的數量: {non_pos.shape}')\n",
    "load_drop = df.drop(non_pos.index) \n",
    "print(f'刪除後資料數量: {load_drop.shape}')"
   ]
  },
  {
   "cell_type": "code",
   "execution_count": 8,
   "metadata": {},
   "outputs": [
    {
     "name": "stdout",
     "output_type": "stream",
     "text": [
      "CAPITL 小於等於0的數量: (10, 3)\n",
      "CENTRL 小於等於0的數量: (9, 3)\n",
      "DUNWOD 小於等於0的數量: (9, 3)\n",
      "GENESE 小於等於0的數量: (9, 3)\n",
      "HUD VL 小於等於0的數量: (10, 3)\n",
      "LONGIL 小於等於0的數量: (9, 3)\n",
      "MHK VL 小於等於0的數量: (9, 3)\n",
      "MILLWD 小於等於0的數量: (23, 3)\n",
      "N.Y.C. 小於等於0的數量: (9, 3)\n",
      "NORTH 小於等於0的數量: (9, 3)\n",
      "WEST 小於等於0的數量: (9, 3)\n"
     ]
    }
   ],
   "source": [
    "zones = load['Zone'].unique()\n",
    "for zone in zones:\n",
    "    non_pos = df[(df['Load']<=0) & (df['Zone']==zone)]\n",
    "    print(f'{zone} 小於等於0的數量: {non_pos.shape}')"
   ]
  },
  {
   "cell_type": "markdown",
   "metadata": {},
   "source": [
    "## duplicate\n"
   ]
  },
  {
   "cell_type": "markdown",
   "metadata": {},
   "source": [
    "### Explore"
   ]
  },
  {
   "cell_type": "code",
   "execution_count": 9,
   "metadata": {},
   "outputs": [
    {
     "name": "stdout",
     "output_type": "stream",
     "text": [
      "重複筆數：(196, 3)\n",
      "                      Date    Zone    Load\n",
      "490147 2005-03-26 01:00:00  CENTRL  1692.1\n"
     ]
    },
    {
     "data": {
      "text/html": [
       "<div>\n",
       "<style scoped>\n",
       "    .dataframe tbody tr th:only-of-type {\n",
       "        vertical-align: middle;\n",
       "    }\n",
       "\n",
       "    .dataframe tbody tr th {\n",
       "        vertical-align: top;\n",
       "    }\n",
       "\n",
       "    .dataframe thead th {\n",
       "        text-align: right;\n",
       "    }\n",
       "</style>\n",
       "<table border=\"1\" class=\"dataframe\">\n",
       "  <thead>\n",
       "    <tr style=\"text-align: right;\">\n",
       "      <th></th>\n",
       "      <th>Date</th>\n",
       "      <th>Zone</th>\n",
       "      <th>Load</th>\n",
       "    </tr>\n",
       "  </thead>\n",
       "  <tbody>\n",
       "    <tr>\n",
       "      <th>1812720</th>\n",
       "      <td>2014-11-02 01:00:00</td>\n",
       "      <td>N.Y.C.</td>\n",
       "      <td>4400.5</td>\n",
       "    </tr>\n",
       "    <tr>\n",
       "      <th>1812721</th>\n",
       "      <td>2014-11-02 01:00:00</td>\n",
       "      <td>N.Y.C.</td>\n",
       "      <td>4221.8</td>\n",
       "    </tr>\n",
       "  </tbody>\n",
       "</table>\n",
       "</div>"
      ],
      "text/plain": [
       "                       Date    Zone    Load\n",
       "1812720 2014-11-02 01:00:00  N.Y.C.  4400.5\n",
       "1812721 2014-11-02 01:00:00  N.Y.C.  4221.8"
      ]
     },
     "execution_count": 9,
     "metadata": {},
     "output_type": "execute_result"
    }
   ],
   "source": [
    "df = load_drop\n",
    "\n",
    "# 確認有多少重複值\n",
    "duplicates = df[df.duplicated(subset=['Date', 'Zone'], keep = False)]\n",
    "print(f'重複筆數：{duplicates.shape}')\n",
    "\n",
    "print(duplicates.head(1))\n",
    "df[(df['Date'] == '2014-11-02 01:00:00')&(df['Zone']=='N.Y.C.')]"
   ]
  },
  {
   "cell_type": "code",
   "execution_count": 10,
   "metadata": {},
   "outputs": [
    {
     "name": "stdout",
     "output_type": "stream",
     "text": [
      "CAPITL 重複筆數: (8, 3)\n",
      "CENTRL 重複筆數: (9, 3)\n",
      "DUNWOD 重複筆數: (9, 3)\n",
      "GENESE 重複筆數: (9, 3)\n",
      "HUD VL 重複筆數: (9, 3)\n",
      "LONGIL 重複筆數: (9, 3)\n",
      "MHK VL 重複筆數: (9, 3)\n",
      "MILLWD 重複筆數: (9, 3)\n",
      "N.Y.C. 重複筆數: (9, 3)\n",
      "NORTH 重複筆數: (9, 3)\n",
      "WEST 重複筆數: (9, 3)\n"
     ]
    }
   ],
   "source": [
    "zones = load['Zone'].unique()\n",
    "for zone in zones:\n",
    "    df_zone = df[(df['Zone']==zone)]\n",
    "    duplicates = df_zone[df_zone.duplicated(subset=['Date', 'Zone'])]\n",
    "    print(f'{zone} 重複筆數: {duplicates.shape}')"
   ]
  },
  {
   "cell_type": "code",
   "execution_count": 11,
   "metadata": {},
   "outputs": [],
   "source": [
    "df = load_drop\n",
    "\n",
    "# 確認有多少重複值\n",
    "duplicates_first = df[df.duplicated(subset=['Date', 'Zone'], keep = \"first\")]\n",
    "duplicates_last = df[df.duplicated(subset=['Date', 'Zone'], keep = \"last\")]"
   ]
  },
  {
   "cell_type": "code",
   "execution_count": 12,
   "metadata": {},
   "outputs": [
    {
     "data": {
      "text/html": [
       "<div>\n",
       "<style scoped>\n",
       "    .dataframe tbody tr th:only-of-type {\n",
       "        vertical-align: middle;\n",
       "    }\n",
       "\n",
       "    .dataframe tbody tr th {\n",
       "        vertical-align: top;\n",
       "    }\n",
       "\n",
       "    .dataframe thead th {\n",
       "        text-align: right;\n",
       "    }\n",
       "</style>\n",
       "<table border=\"1\" class=\"dataframe\">\n",
       "  <thead>\n",
       "    <tr style=\"text-align: right;\">\n",
       "      <th></th>\n",
       "      <th>Date</th>\n",
       "      <th>Zone</th>\n",
       "      <th>Load_x</th>\n",
       "      <th>Load_y</th>\n",
       "    </tr>\n",
       "  </thead>\n",
       "  <tbody>\n",
       "    <tr>\n",
       "      <th>0</th>\n",
       "      <td>2005-03-26 01:00:00</td>\n",
       "      <td>CENTRL</td>\n",
       "      <td>1693.6</td>\n",
       "      <td>1692.1</td>\n",
       "    </tr>\n",
       "    <tr>\n",
       "      <th>1</th>\n",
       "      <td>2005-03-26 01:00:00</td>\n",
       "      <td>DUNWOD</td>\n",
       "      <td>544.7</td>\n",
       "      <td>543.9</td>\n",
       "    </tr>\n",
       "    <tr>\n",
       "      <th>2</th>\n",
       "      <td>2005-03-26 01:00:00</td>\n",
       "      <td>GENESE</td>\n",
       "      <td>888.1</td>\n",
       "      <td>887.1</td>\n",
       "    </tr>\n",
       "    <tr>\n",
       "      <th>3</th>\n",
       "      <td>2005-03-26 01:00:00</td>\n",
       "      <td>HUD VL</td>\n",
       "      <td>938.1</td>\n",
       "      <td>937.3</td>\n",
       "    </tr>\n",
       "    <tr>\n",
       "      <th>4</th>\n",
       "      <td>2005-03-26 01:00:00</td>\n",
       "      <td>LONGIL</td>\n",
       "      <td>1872.8</td>\n",
       "      <td>1870.3</td>\n",
       "    </tr>\n",
       "    <tr>\n",
       "      <th>...</th>\n",
       "      <td>...</td>\n",
       "      <td>...</td>\n",
       "      <td>...</td>\n",
       "      <td>...</td>\n",
       "    </tr>\n",
       "    <tr>\n",
       "      <th>93</th>\n",
       "      <td>2010-11-07 01:00:00</td>\n",
       "      <td>MHK VL</td>\n",
       "      <td>594.1</td>\n",
       "      <td>607.1</td>\n",
       "    </tr>\n",
       "    <tr>\n",
       "      <th>94</th>\n",
       "      <td>2010-11-07 01:00:00</td>\n",
       "      <td>MILLWD</td>\n",
       "      <td>237.8</td>\n",
       "      <td>230.3</td>\n",
       "    </tr>\n",
       "    <tr>\n",
       "      <th>95</th>\n",
       "      <td>2010-11-07 01:00:00</td>\n",
       "      <td>N.Y.C.</td>\n",
       "      <td>4327.7</td>\n",
       "      <td>4502.5</td>\n",
       "    </tr>\n",
       "    <tr>\n",
       "      <th>96</th>\n",
       "      <td>2010-11-07 01:00:00</td>\n",
       "      <td>NORTH</td>\n",
       "      <td>468.0</td>\n",
       "      <td>470.1</td>\n",
       "    </tr>\n",
       "    <tr>\n",
       "      <th>97</th>\n",
       "      <td>2010-11-07 01:00:00</td>\n",
       "      <td>WEST</td>\n",
       "      <td>1448.0</td>\n",
       "      <td>1472.7</td>\n",
       "    </tr>\n",
       "  </tbody>\n",
       "</table>\n",
       "<p>98 rows × 4 columns</p>\n",
       "</div>"
      ],
      "text/plain": [
       "                  Date    Zone  Load_x  Load_y\n",
       "0  2005-03-26 01:00:00  CENTRL  1693.6  1692.1\n",
       "1  2005-03-26 01:00:00  DUNWOD   544.7   543.9\n",
       "2  2005-03-26 01:00:00  GENESE   888.1   887.1\n",
       "3  2005-03-26 01:00:00  HUD VL   938.1   937.3\n",
       "4  2005-03-26 01:00:00  LONGIL  1872.8  1870.3\n",
       "..                 ...     ...     ...     ...\n",
       "93 2010-11-07 01:00:00  MHK VL   594.1   607.1\n",
       "94 2010-11-07 01:00:00  MILLWD   237.8   230.3\n",
       "95 2010-11-07 01:00:00  N.Y.C.  4327.7  4502.5\n",
       "96 2010-11-07 01:00:00   NORTH   468.0   470.1\n",
       "97 2010-11-07 01:00:00    WEST  1448.0  1472.7\n",
       "\n",
       "[98 rows x 4 columns]"
      ]
     },
     "execution_count": 12,
     "metadata": {},
     "output_type": "execute_result"
    }
   ],
   "source": [
    "new_df = pd.merge(duplicates_first, duplicates_last,  how='left', left_on=['Date','Zone'], right_on = ['Date','Zone'])\n",
    "new_df"
   ]
  },
  {
   "cell_type": "code",
   "execution_count": 13,
   "metadata": {},
   "outputs": [
    {
     "data": {
      "image/png": "[encoded data removed]",
      "text/plain": [
       "<Figure size 576x576 with 1 Axes>"
      ]
     },
     "metadata": {
      "needs_background": "light"
     },
     "output_type": "display_data"
    }
   ],
   "source": [
    "import matplotlib.pyplot as plt\n",
    "import seaborn as sns  # Import seaborn for categorical colormap\n",
    "\n",
    "plt.figure(figsize=(8, 8)) \n",
    "# Assuming new_df is your DataFrame\n",
    "scatterplot = sns.scatterplot(x='Load_x', y='Load_y', hue='Zone', data=new_df, palette='tab10')\n",
    "\n",
    "# Adding labels and title\n",
    "plt.xlabel('', fontsize=18)\n",
    "plt.ylabel('', fontsize=18)\n",
    "plt.title('', fontsize=20)\n",
    "\n",
    "# Set tick label font sizes\n",
    "plt.tick_params(axis='both', labelsize=16)\n",
    "\n",
    "# Adjust legend text size\n",
    "scatterplot.legend(fontsize=14)\n",
    "\n",
    "# Add a 45-degree line\n",
    "plt.plot([min(new_df['Load_x']), max(new_df['Load_x'])], [min(new_df['Load_y']), max(new_df['Load_y'])], linestyle='--', color='gray')\n",
    "\n",
    "# Display the plot\n",
    "plt.show()\n"
   ]
  },
  {
   "cell_type": "markdown",
   "metadata": {},
   "source": [
    "### Take an average of duplicates"
   ]
  },
  {
   "cell_type": "code",
   "execution_count": 14,
   "metadata": {},
   "outputs": [
    {
     "name": "stdout",
     "output_type": "stream",
     "text": [
      "刪除前資料數量: (1149076, 3)\n",
      "重複筆數: (98, 3)\n",
      "刪除後資料數量: (1148978, 3)\n"
     ]
    }
   ],
   "source": [
    "# about 1m 10s\n",
    "df= load_drop\n",
    "\n",
    "# 重複中有兩筆資料的取平均\n",
    "print(f'刪除前資料數量: {df.shape}')\n",
    "duplicates = df[df.duplicated(subset=['Date', 'Zone'])]\n",
    "\n",
    "print(f'重複筆數: {duplicates.shape}')\n",
    "df_drop = df.groupby(['Date', 'Zone'])['Load'].mean().reset_index()\n",
    "print(f'刪除後資料數量: {df_drop.shape}')\n",
    "\n",
    "load_drop = df_drop"
   ]
  },
  {
   "cell_type": "markdown",
   "metadata": {},
   "source": [
    "## NA "
   ]
  },
  {
   "cell_type": "code",
   "execution_count": 15,
   "metadata": {},
   "outputs": [
    {
     "name": "stdout",
     "output_type": "stream",
     "text": [
      "目前資料數量: (1148978, 3)\n",
      "補上所有時間後資料數量: (1149192, 3)\n",
      "沒紀錄數量(包含原本是<=0被drop掉的): 214\n",
      "min: 2005-01-31 00:00:00\n",
      "max: 2016-12-31 23:00:00\n",
      "驗算 - 所有時間點 x 11 zones:1149192\n"
     ]
    }
   ],
   "source": [
    "df = load_drop\n",
    "\n",
    "print(f'目前資料數量: {df.shape}')\n",
    "df_all_time = merge_all_time(df)\n",
    "print(f'補上所有時間後資料數量: {df_all_time.shape}')\n",
    "print(f'沒紀錄數量(包含原本是<=0被drop掉的): {df_all_time.shape[0]-df.shape[0]}')\n",
    "min_date = df['Date'].min(); max_date = df['Date'].max()\n",
    "print(f'min: {min_date}')\n",
    "print(f'max: {max_date}')\n",
    "\n",
    "# 驗算\n",
    "hours_df = pd.DataFrame({'Date': pd.date_range(start = df['Date'].min(), end = df['Date'].max(), freq = '1H') })\n",
    "print(f'驗算 - 所有時間點 x 11 zones:{hours_df.shape[0]*11}')\n",
    "\n",
    "\n",
    "\n",
    "df_all_time = df_all_time"
   ]
  },
  {
   "cell_type": "code",
   "execution_count": 16,
   "metadata": {},
   "outputs": [
    {
     "name": "stdout",
     "output_type": "stream",
     "text": [
      "CAPITL 沒紀錄數量(包含原本是<=0被drop掉的): 19\n",
      "CENTRL 沒紀錄數量(包含原本是<=0被drop掉的): 18\n",
      "DUNWOD 沒紀錄數量(包含原本是<=0被drop掉的): 18\n",
      "GENESE 沒紀錄數量(包含原本是<=0被drop掉的): 18\n",
      "HUD VL 沒紀錄數量(包含原本是<=0被drop掉的): 19\n",
      "LONGIL 沒紀錄數量(包含原本是<=0被drop掉的): 18\n",
      "MHK VL 沒紀錄數量(包含原本是<=0被drop掉的): 18\n",
      "MILLWD 沒紀錄數量(包含原本是<=0被drop掉的): 32\n",
      "N.Y.C. 沒紀錄數量(包含原本是<=0被drop掉的): 18\n",
      "NORTH 沒紀錄數量(包含原本是<=0被drop掉的): 18\n",
      "WEST 沒紀錄數量(包含原本是<=0被drop掉的): 18\n"
     ]
    }
   ],
   "source": [
    "for zone in zones:\n",
    "    num = df_all_time[df_all_time['Zone']==zone].shape[0] - df[df['Zone']==zone].shape[0]\n",
    "    print(f'{zone} 沒紀錄數量(包含原本是<=0被drop掉的): {num}')"
   ]
  },
  {
   "cell_type": "code",
   "execution_count": 17,
   "metadata": {},
   "outputs": [
    {
     "name": "stdout",
     "output_type": "stream",
     "text": [
      "CAPITL total NA number (包含原本存在的3個NA): 22\n",
      "CENTRL total NA number (包含原本存在的3個NA): 21\n",
      "DUNWOD total NA number (包含原本存在的3個NA): 21\n",
      "GENESE total NA number (包含原本存在的3個NA): 21\n",
      "HUD VL total NA number (包含原本存在的3個NA): 22\n",
      "LONGIL total NA number (包含原本存在的3個NA): 21\n",
      "MHK VL total NA number (包含原本存在的3個NA): 21\n",
      "MILLWD total NA number (包含原本存在的3個NA): 35\n",
      "N.Y.C. total NA number (包含原本存在的3個NA): 21\n",
      "NORTH total NA number (包含原本存在的3個NA): 21\n",
      "WEST total NA number (包含原本存在的3個NA): 21\n"
     ]
    }
   ],
   "source": [
    "for zone in zones:\n",
    "    df_onezone = df_all_time.loc[df_all_time['Zone'] == zone,]\n",
    "    print(f\"{zone} total NA number (包含原本存在的3個NA): {df_onezone['Load'].isna().sum()}\") "
   ]
  },
  {
   "cell_type": "markdown",
   "metadata": {},
   "source": [
    "# Export data: 產出要使用的資料 (pd to np array)\n",
    "\n",
    "要產生可以餵進 SSSD code 的資料格式 np array (observation, channel, length)"
   ]
  },
  {
   "cell_type": "markdown",
   "metadata": {},
   "source": [
    "## Dataset 4: 8 days + remove na + z normalization\n",
    "\n",
    "移除 NA 在 'train_test_select' 內執行"
   ]
  },
  {
   "cell_type": "markdown",
   "metadata": {},
   "source": [
    "### Each zone"
   ]
  },
  {
   "cell_type": "code",
   "execution_count": 95,
   "metadata": {},
   "outputs": [],
   "source": [
    "path = '/home/hchuang/Documents/Project/SSSD_CP/src/datasets/NYISO/dataset_4/'\n",
    "days_window = 8 # 幾天一組（也就是預測第幾天）\n",
    "# zones = df_all_time_ls[0]['Zone'].unique()\n",
    "\n",
    "for index in range(len(zones)):\n",
    "    load_array_train, load_array_test = train_test_select(df_all_time, \n",
    "                                                      train_start = '2005-01-31 00:00:00',\n",
    "                                                      train_end = '2016-10-19 23:00:00', \n",
    "                                                      test_start = '2016-10-13 00:00:00',\n",
    "                                                      test_end = '2016-12-31 23:00:00',\n",
    "                                                      zone_number = 1,\n",
    "                                                      days_window = days_window,\n",
    "                                                      zone_name = zones[index])\n",
    "    # save\n",
    "    np.save(path + '/zone/'+zones[index]+'_train.npy', load_array_train)\n",
    "    np.save(path + '/zone/'+zones[index]+'_test.npy', load_array_test)   \n",
    "\n",
    "    # normalization\n",
    "    load_array_train_stdd = z_normalization(load_array_train, days_normalized = days_window-1)\n",
    "    load_array_test_stdd = z_normalization(load_array_test, days_normalized = days_window-1)\n",
    "\n",
    "    # save\n",
    "    np.save(path + '/zone/'+zones[index]+'_train_stdd.npy', load_array_train_stdd)\n",
    "    np.save(path + '/zone/'+zones[index]+'_test_stdd.npy', load_array_test_stdd)"
   ]
  },
  {
   "cell_type": "code",
   "execution_count": 151,
   "metadata": {},
   "outputs": [],
   "source": [
    "path = '/home/hchuang/Documents/Project/SSSD_CP/src/datasets/NYISO/dataset_4/'\n",
    "days_window = 8 # 幾天一組（也就是預測第幾天）\n",
    "\n",
    "for index in range(len(zones)):\n",
    "    load_array_train, load_array_test, day_of_week_train, day_of_week_test = train_test_select_2(df_all_time, \n",
    "        train_start = '2005-01-31 00:00:00',\n",
    "        train_end = '2016-10-19 23:00:00', \n",
    "        test_start = '2016-10-13 00:00:00',\n",
    "        test_end = '2016-12-31 23:00:00',\n",
    "        zone_number = 1,\n",
    "        days_window = days_window,\n",
    "        zone_name = zones[index])\n",
    "    # normalization\n",
    "    # load_array_train_stdd = z_normalization(load_array_train, days_normalized = days_window-1)\n",
    "    # load_array_test_stdd = z_normalization(load_array_test, days_normalized = days_window-1)\n",
    "\n",
    "    # save\n",
    "    # np.save(path + '/zone/'+zones[index]+'_train.npy', load_array_train)\n",
    "    # np.save(path + '/zone/'+zones[index]+'_test.npy', load_array_test)   \n",
    "\n",
    "    # np.save(path + '/zone/'+zones[index]+'_train_stdd.npy', load_array_train_stdd)\n",
    "    # np.save(path + '/zone/'+zones[index]+'_test_stdd.npy', load_array_test_stdd)  \n",
    "\n",
    "    np.save(path + '/zone/'+zones[index]+'_day_of_week_train.npy', day_of_week_train)\n",
    "    np.save(path + '/zone/'+zones[index]+'_day_of_week_test.npy', day_of_week_test)                                            "
   ]
  },
  {
   "cell_type": "markdown",
   "metadata": {},
   "source": [
    "### All"
   ]
  },
  {
   "cell_type": "code",
   "execution_count": 96,
   "metadata": {},
   "outputs": [
    {
     "name": "stdout",
     "output_type": "stream",
     "text": [
      "(47003, 192, 1)\n",
      "(803, 192, 1)\n"
     ]
    }
   ],
   "source": [
    "path = '/home/hchuang/Documents/Project/SSSD_CP/src/datasets/NYISO/dataset_4/'\n",
    "days_window = 8 # 幾天一組（也就是預測第幾天）\n",
    "load_array_train, load_array_test = train_test_select(df_all_time, \n",
    "                                                      train_start = '2005-01-31 00:00:00',\n",
    "                                                      train_end = '2016-10-19 23:00:00', \n",
    "                                                      test_start = '2016-10-13 00:00:00',\n",
    "                                                      test_end = '2016-12-31 23:00:00',\n",
    "                                                      zone_number = 11,\n",
    "                                                      days_window = days_window,\n",
    "                                                      zone_name = 'ALL')\n",
    "print(load_array_train.shape)\n",
    "print(load_array_test.shape)  \n",
    "\n",
    "# save\n",
    "np.save(path + 'all/load_array_all_train.npy', load_array_train)\n",
    "np.save(path + 'all/load_array_all_test.npy', load_array_test)\n",
    "\n",
    "# Normalization\n",
    "\n",
    "load_array_train_stdd = z_normalization(load_array_train, days_normalized = days_window-1)\n",
    "load_array_test_stdd = z_normalization(load_array_test, days_normalized = days_window-1)\n",
    "\n",
    "# check: if days_normalized = days_window, the sum of squares = 24*days_window\n",
    "# np.sum(np.square(load_array_test_stdd[0,:,0]))\n",
    "\n",
    "# save\n",
    "np.save(path + 'all/load_array_all_train_stdd.npy', load_array_train_stdd)\n",
    "np.save(path + 'all/load_array_all_test_stdd.npy', load_array_test_stdd)"
   ]
  },
  {
   "cell_type": "markdown",
   "metadata": {},
   "source": [
    "### Mix"
   ]
  },
  {
   "cell_type": "code",
   "execution_count": 97,
   "metadata": {},
   "outputs": [],
   "source": [
    "path = '/home/hchuang/Documents/Project/SSSD_CP/src/datasets/NYISO/dataset_4/'\n",
    "days_window = 8 # 幾天一組（也就是預測第幾天）\n",
    "zones = all_impute_stl_ls[0]['Zone'].unique()\n",
    "\n",
    "load_array_mix_train = np.concatenate([np.load(path + '/zone/'+zone+'_train.npy') for zone in zones]) \n",
    "load_array_mix_test = np.concatenate([np.load(path + '/zone/'+zone+'_test.npy') for zone in zones]) \n",
    "load_array_mix_train_stdd = np.concatenate([np.load(path + '/zone/'+zone+'_train_stdd.npy') for zone in zones]) \n",
    "load_array_mix_test_stdd = np.concatenate([np.load(path + '/zone/'+zone+'_test_stdd.npy') for zone in zones]) \n",
    "\n",
    "np.save(path + 'mix/load_array_mix_train.npy', load_array_mix_train)\n",
    "np.save(path + 'mix/load_array_mix_test.npy', load_array_mix_test)\n",
    "np.save(path + 'mix/load_array_mix_train_stdd.npy', load_array_mix_train_stdd)\n",
    "np.save(path + 'mix/load_array_mix_test_stdd.npy', load_array_mix_test_stdd)"
   ]
  },
  {
   "cell_type": "markdown",
   "metadata": {},
   "source": [
    "### zone split"
   ]
  },
  {
   "cell_type": "code",
   "execution_count": 34,
   "metadata": {},
   "outputs": [],
   "source": [
    "path = \"/home/hchuang/Documents/Project/SSSD_CP/src/datasets/NYISO/dataset_4/\"\n",
    "\n",
    "# creat 'zone_split' folder\n",
    "if not os.path.exists(path+'zone_split'):\n",
    "    os.makedirs(path+'zone_split')\n",
    "\n",
    "# create list containing file names of training data\n",
    "file_ls = os.listdir(path+'zone')\n",
    "train_files_ls = [file for file in file_ls if 'train' in file]\n",
    "\n",
    "for file in train_files_ls:\n",
    "    # read\n",
    "    data_npy = np.load(path+'zone/'+file)\n",
    "\n",
    "    # 將資料分成 I1 和 I2\n",
    "    np.random.seed(42)\n",
    "\n",
    "    random_indices = np.random.choice(data_npy.shape[0], data_npy.shape[0]//2, replace=False)\n",
    "    remaining_indices = np.setdiff1d(np.arange(data_npy.shape[0]), random_indices)\n",
    "\n",
    "    sample_I1 = data_npy[random_indices]\n",
    "    sample_I2 = data_npy[remaining_indices]\n",
    "\n",
    "    # save\n",
    "    np.save(path+'zone_split/I1_'+file, sample_I1)\n",
    "    np.save(path+'zone_split/I2_'+file, sample_I2)\n"
   ]
  },
  {
   "cell_type": "markdown",
   "metadata": {},
   "source": [
    "## Dataset 5:  8 days + remove na + range normalization\n",
    "\n",
    "移除 NA 在 'train_test_select' 內執行"
   ]
  },
  {
   "cell_type": "markdown",
   "metadata": {},
   "source": [
    "### Each zone"
   ]
  },
  {
   "cell_type": "code",
   "execution_count": 106,
   "metadata": {},
   "outputs": [],
   "source": [
    "path = '/home/hchuang/Documents/Project/SSSD_CP/src/datasets/NYISO/dataset_5/'\n",
    "days_window = 8 # 幾天一組（也就是預測第幾天）\n",
    "# zones = df_all_time_ls[0]['Zone'].unique()\n",
    "\n",
    "for index in range(len(zones)):   \n",
    "    load_array_train, load_array_test = train_test_select(df_all_time, \n",
    "                                                      train_start = '2005-01-31 00:00:00',\n",
    "                                                      train_end = '2016-10-19 23:00:00', \n",
    "                                                      test_start = '2016-10-13 00:00:00',\n",
    "                                                      test_end = '2016-12-31 23:00:00',\n",
    "                                                      zone_number = 1,\n",
    "                                                      days_window = days_window,\n",
    "                                                      zone_name = zones[index])\n",
    "\n",
    "    # save\n",
    "    np.save(path + '/zone/'+zones[index]+'_train.npy', load_array_train)\n",
    "    np.save(path + '/zone/'+zones[index]+'_test.npy', load_array_test)   \n",
    "\n",
    "    # normalization\n",
    "    load_array_train_stdd = range_normalization(load_array_train, days_normalized = days_window-1)\n",
    "    load_array_test_stdd = range_normalization(load_array_test, days_normalized = days_window-1)\n",
    "\n",
    "    # save\n",
    "    np.save(path + '/zone/'+zones[index]+'_train_stdd.npy', load_array_train_stdd)\n",
    "    np.save(path + '/zone/'+zones[index]+'_test_stdd.npy', load_array_test_stdd)"
   ]
  },
  {
   "cell_type": "markdown",
   "metadata": {},
   "source": [
    "### All"
   ]
  },
  {
   "cell_type": "code",
   "execution_count": 104,
   "metadata": {},
   "outputs": [
    {
     "name": "stdout",
     "output_type": "stream",
     "text": [
      "(47003, 192, 1)\n",
      "(803, 192, 1)\n"
     ]
    }
   ],
   "source": [
    "path = '/home/hchuang/Documents/Project/SSSD_CP/src/datasets/NYISO/dataset_5/'\n",
    "days_window = 8 # 幾天一組（也就是預測第幾天）\n",
    "load_array_train, load_array_test = train_test_select(df_all_time, \n",
    "                                                      train_start = '2005-01-31 00:00:00',\n",
    "                                                      train_end = '2016-10-19 23:00:00', \n",
    "                                                      test_start = '2016-10-13 00:00:00',\n",
    "                                                      test_end = '2016-12-31 23:00:00',\n",
    "                                                      zone_number = 11,\n",
    "                                                      days_window = days_window,\n",
    "                                                      zone_name = 'ALL')\n",
    "print(load_array_train.shape)\n",
    "print(load_array_test.shape)  \n",
    "\n",
    "# save\n",
    "np.save(path + 'all/load_array_all_train.npy', load_array_train)\n",
    "np.save(path + 'all/load_array_all_test.npy', load_array_test)\n",
    "\n",
    "# Normalization\n",
    "\n",
    "load_array_train_stdd = range_normalization(load_array_train, days_normalized = days_window-1)\n",
    "load_array_test_stdd = range_normalization(load_array_test, days_normalized = days_window-1)\n",
    "\n",
    "# check: if days_normalized = days_window, the sum of squares = 24*days_window\n",
    "# np.sum(np.square(load_array_test_stdd[0,:,0]))\n",
    "\n",
    "# save\n",
    "np.save(path + 'all/load_array_all_train_stdd.npy', load_array_train_stdd)\n",
    "np.save(path + 'all/load_array_all_test_stdd.npy', load_array_test_stdd)"
   ]
  },
  {
   "cell_type": "markdown",
   "metadata": {},
   "source": [
    "### Mix"
   ]
  },
  {
   "cell_type": "code",
   "execution_count": 107,
   "metadata": {},
   "outputs": [],
   "source": [
    "path = '/home/hchuang/Documents/Project/SSSD_CP/src/datasets/NYISO/dataset_5/'\n",
    "days_window = 8 # 幾天一組（也就是預測第幾天）\n",
    "# zones = all_impute_stl_ls[0]['Zone'].unique()\n",
    "\n",
    "load_array_mix_train = np.concatenate([np.load(path + '/zone/'+zone+'_train.npy') for zone in zones]) \n",
    "load_array_mix_test = np.concatenate([np.load(path + '/zone/'+zone+'_test.npy') for zone in zones]) \n",
    "load_array_mix_train_stdd = np.concatenate([np.load(path + '/zone/'+zone+'_train_stdd.npy') for zone in zones]) \n",
    "load_array_mix_test_stdd = np.concatenate([np.load(path + '/zone/'+zone+'_test_stdd.npy') for zone in zones]) \n",
    "\n",
    "np.save(path + 'mix/load_array_mix_train.npy', load_array_mix_train)\n",
    "np.save(path + 'mix/load_array_mix_test.npy', load_array_mix_test)\n",
    "np.save(path + 'mix/load_array_mix_train_stdd.npy', load_array_mix_train_stdd)\n",
    "np.save(path + 'mix/load_array_mix_test_stdd.npy', load_array_mix_test_stdd)"
   ]
  },
  {
   "cell_type": "markdown",
   "metadata": {},
   "source": [
    "### zone split"
   ]
  },
  {
   "cell_type": "code",
   "execution_count": 5,
   "metadata": {},
   "outputs": [],
   "source": [
    "path = \"/home/hchuang/Documents/Project/SSSD_CP/src/datasets/NYISO/dataset_5/\"\n",
    "\n",
    "# creat 'zone_split' folder\n",
    "if not os.path.exists(path+'zone_split'):\n",
    "    os.makedirs(path+'zone_split')\n",
    "\n",
    "# create list containing file names of training data\n",
    "file_ls = os.listdir(path+'zone')\n",
    "train_files_ls = [file for file in file_ls if 'train' in file]\n",
    "\n",
    "for file in train_files_ls:\n",
    "    # read\n",
    "    data_npy = np.load(path+'zone/'+file)\n",
    "\n",
    "    # 將資料分成 I1 和 I2\n",
    "    np.random.seed(42)\n",
    "\n",
    "    random_indices = np.random.choice(data_npy.shape[0], data_npy.shape[0]//2, replace=False)\n",
    "    remaining_indices = np.setdiff1d(np.arange(data_npy.shape[0]), random_indices)\n",
    "\n",
    "    sample_I1 = data_npy[random_indices]\n",
    "    sample_I2 = data_npy[remaining_indices]\n",
    "\n",
    "    # save\n",
    "    np.save(path+'zone_split/I1_'+file, sample_I1)\n",
    "    np.save(path+'zone_split/I2_'+file, sample_I2)\n"
   ]
  },
  {
   "cell_type": "markdown",
   "metadata": {},
   "source": []
  },
  {
   "cell_type": "markdown",
   "metadata": {},
   "source": [
    "# Day of the week"
   ]
  },
  {
   "cell_type": "code",
   "execution_count": 147,
   "metadata": {},
   "outputs": [],
   "source": [
    "path = '/home/hchuang/Documents/Project/SSSD_CP/src/datasets/NYISO/dataset_5/'\n",
    "days_window = 8 # 幾天一組（也就是預測第幾天）\n",
    "# zones = df_all_time_ls[0]['Zone'].unique()\n",
    "\n",
    "index = 9\n",
    "load_array_train, load_array_test, day_of_week_train, day_of_week_test = train_test_select(df_all_time, \n",
    "                                     train_start = '2005-01-31 00:00:00',\n",
    "                                     train_end = '2016-10-19 23:00:00', \n",
    "                                     test_start = '2016-10-13 00:00:00',\n",
    "                                     test_end = '2016-12-31 23:00:00',\n",
    "                                     zone_number = 1,\n",
    "                                     days_window = days_window,\n",
    "                                     zone_name = zones[index])\n"
   ]
  },
  {
   "cell_type": "code",
   "execution_count": 139,
   "metadata": {},
   "outputs": [
    {
     "data": {
      "text/plain": [
       "'NORTH'"
      ]
     },
     "execution_count": 139,
     "metadata": {},
     "output_type": "execute_result"
    }
   ],
   "source": [
    "zones[index]"
   ]
  },
  {
   "cell_type": "code",
   "execution_count": 138,
   "metadata": {},
   "outputs": [
    {
     "name": "stdout",
     "output_type": "stream",
     "text": [
      "(4115, 192, 1)\n",
      "(4115,)\n"
     ]
    }
   ],
   "source": [
    "print(load_array_train.shape)\n",
    "print(day_of_week_train.shape)"
   ]
  },
  {
   "cell_type": "code",
   "execution_count": 148,
   "metadata": {},
   "outputs": [],
   "source": [
    "dd = np.load('/home/hchuang/Documents/Project/SSSD_CP/src/datasets/NYISO/dataset_4/zone/NORTH_train.npy')"
   ]
  },
  {
   "cell_type": "code",
   "execution_count": 149,
   "metadata": {},
   "outputs": [
    {
     "data": {
      "text/plain": [
       "array([816.2, 820.3, 815.5])"
      ]
     },
     "execution_count": 149,
     "metadata": {},
     "output_type": "execute_result"
    }
   ],
   "source": [
    "dd[0,0:3,0]"
   ]
  },
  {
   "cell_type": "code",
   "execution_count": 150,
   "metadata": {},
   "outputs": [
    {
     "data": {
      "text/plain": [
       "array([816.2, 820.3, 815.5])"
      ]
     },
     "execution_count": 150,
     "metadata": {},
     "output_type": "execute_result"
    }
   ],
   "source": [
    "load_array_train[0,0:3,0]"
   ]
  },
  {
   "cell_type": "code",
   "execution_count": 51,
   "metadata": {},
   "outputs": [
    {
     "data": {
      "text/plain": [
       "0"
      ]
     },
     "execution_count": 51,
     "metadata": {},
     "output_type": "execute_result"
    }
   ],
   "source": [
    "import datetime\n",
    "from datetime import timedelta\n",
    "\n",
    "datetime.date(2005,2,7).weekday()"
   ]
  },
  {
   "cell_type": "code",
   "execution_count": null,
   "metadata": {},
   "outputs": [],
   "source": []
  }
 ],
 "metadata": {
  "kernelspec": {
   "display_name": "pt_fan",
   "language": "python",
   "name": "python3"
  },
  "language_info": {
   "codemirror_mode": {
    "name": "ipython",
    "version": 3
   },
   "file_extension": ".py",
   "mimetype": "text/x-python",
   "name": "python",
   "nbconvert_exporter": "python",
   "pygments_lexer": "ipython3",
   "version": "3.9.7"
  },
  "orig_nbformat": 4
 },
 "nbformat": 4,
 "nbformat_minor": 2
}
